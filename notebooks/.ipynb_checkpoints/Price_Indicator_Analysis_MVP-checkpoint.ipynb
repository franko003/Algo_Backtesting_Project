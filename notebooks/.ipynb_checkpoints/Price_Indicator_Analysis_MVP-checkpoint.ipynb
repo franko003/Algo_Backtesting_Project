{
 "cells": [
  {
   "cell_type": "markdown",
   "metadata": {},
   "source": [
    "# Price_Indicator_Analysis_MVP"
   ]
  },
  {
   "cell_type": "markdown",
   "metadata": {},
   "source": [
    "Analysis of common technical analysis indicators on daily price data for different products."
   ]
  },
  {
   "cell_type": "markdown",
   "metadata": {},
   "source": [
    "## Data Collection"
   ]
  },
  {
   "cell_type": "code",
   "execution_count": 1,
   "metadata": {
    "collapsed": true
   },
   "outputs": [],
   "source": [
    "import pandas as pd\n",
    "import numpy as np\n",
    "\n",
    "import requests\n",
    "import json\n",
    "import quandl\n",
    "\n",
    "import datetime\n",
    "\n",
    "import matplotlib.pyplot as plt\n",
    "\n",
    "import sqlite3\n",
    "\n",
    "% matplotlib inline"
   ]
  },
  {
   "cell_type": "markdown",
   "metadata": {},
   "source": [
    "The first step will be to get data from the [quandl API](https://www.quandl.com/collections/futures).  For this we use an api key generated from signing up for a free quandl account.\n",
    "\n",
    "We create a list of the symbols for the products we are interested in, which can be found by looking at the [documentation](https://docs.quandl.com/).\n",
    "\n",
    "Then loop through the products, read the price data into a dataframe, and attach the symbol:dataframe key:value pair to a dictionary object, after selecting the specific information we need."
   ]
  },
  {
   "cell_type": "code",
   "execution_count": 2,
   "metadata": {},
   "outputs": [],
   "source": [
    "# Get data from Quandl with api key\n",
    "api_key = 'Hv95pPh1xQWzt5DFhxS7'\n",
    "\n",
    "# Create list of symbols for the products we want data for\n",
    "prod_list = ['CL', 'HO', 'NG', 'GC',\n",
    "             'SI', 'AD', 'CD', 'EC',\n",
    "             'BP', 'JY', 'US', 'C',\n",
    "             'W', 'S', 'ES']\n",
    "\n",
    "# Create a dict with keys as symbols and values as dataframe of price info\n",
    "prod_dict = {}\n",
    "\n",
    "# Iterate through list of prods and add data to dict\n",
    "for prod in prod_list:\n",
    "    # Quandl API call\n",
    "    df = quandl.get('SCF/CME_{p}1_FW'.format(p=prod), authtoken=api_key)\n",
    "    \n",
    "    # Drop open interest column and rename Settle column\n",
    "    df.drop(['Prev. Day Open Interest'], axis=1, inplace=True)\n",
    "    df.rename(columns={'Open': 'open',\n",
    "                      'High': 'high',\n",
    "                      'Low': 'low',\n",
    "                      'Settle': 'close',\n",
    "                      'Volume': 'volume'}, inplace=True)\n",
    "    # Add prod to dict\n",
    "    prod_dict[prod] = df"
   ]
  },
  {
   "cell_type": "markdown",
   "metadata": {},
   "source": [
    "Here is some summary information of the Crude Oil ('CL') dataframe"
   ]
  },
  {
   "cell_type": "code",
   "execution_count": 3,
   "metadata": {},
   "outputs": [
    {
     "name": "stdout",
     "output_type": "stream",
     "text": [
      "<class 'pandas.core.frame.DataFrame'>\n",
      "DatetimeIndex: 2517 entries, 2005-01-03 to 2014-12-31\n",
      "Data columns (total 5 columns):\n",
      "open      2517 non-null float64\n",
      "high      2517 non-null float64\n",
      "low       2517 non-null float64\n",
      "close     2517 non-null float64\n",
      "volume    2517 non-null float64\n",
      "dtypes: float64(5)\n",
      "memory usage: 118.0 KB\n"
     ]
    }
   ],
   "source": [
    "cl = prod_dict['CL']\n",
    "cl.info()"
   ]
  },
  {
   "cell_type": "code",
   "execution_count": 4,
   "metadata": {},
   "outputs": [
    {
     "data": {
      "text/html": [
       "<div>\n",
       "<style scoped>\n",
       "    .dataframe tbody tr th:only-of-type {\n",
       "        vertical-align: middle;\n",
       "    }\n",
       "\n",
       "    .dataframe tbody tr th {\n",
       "        vertical-align: top;\n",
       "    }\n",
       "\n",
       "    .dataframe thead th {\n",
       "        text-align: right;\n",
       "    }\n",
       "</style>\n",
       "<table border=\"1\" class=\"dataframe\">\n",
       "  <thead>\n",
       "    <tr style=\"text-align: right;\">\n",
       "      <th></th>\n",
       "      <th>count</th>\n",
       "      <th>mean</th>\n",
       "      <th>std</th>\n",
       "      <th>min</th>\n",
       "      <th>25%</th>\n",
       "      <th>50%</th>\n",
       "      <th>75%</th>\n",
       "      <th>max</th>\n",
       "    </tr>\n",
       "  </thead>\n",
       "  <tbody>\n",
       "    <tr>\n",
       "      <th>open</th>\n",
       "      <td>2517.0</td>\n",
       "      <td>81.796207</td>\n",
       "      <td>19.832869</td>\n",
       "      <td>34.36</td>\n",
       "      <td>65.68</td>\n",
       "      <td>82.55</td>\n",
       "      <td>96.90</td>\n",
       "      <td>145.19</td>\n",
       "    </tr>\n",
       "    <tr>\n",
       "      <th>high</th>\n",
       "      <td>2517.0</td>\n",
       "      <td>82.893532</td>\n",
       "      <td>19.961713</td>\n",
       "      <td>36.25</td>\n",
       "      <td>66.56</td>\n",
       "      <td>83.72</td>\n",
       "      <td>97.82</td>\n",
       "      <td>147.27</td>\n",
       "    </tr>\n",
       "    <tr>\n",
       "      <th>low</th>\n",
       "      <td>2517.0</td>\n",
       "      <td>80.582003</td>\n",
       "      <td>19.695067</td>\n",
       "      <td>33.55</td>\n",
       "      <td>64.65</td>\n",
       "      <td>81.25</td>\n",
       "      <td>95.56</td>\n",
       "      <td>143.22</td>\n",
       "    </tr>\n",
       "    <tr>\n",
       "      <th>close</th>\n",
       "      <td>2517.0</td>\n",
       "      <td>81.779758</td>\n",
       "      <td>19.855341</td>\n",
       "      <td>33.98</td>\n",
       "      <td>65.82</td>\n",
       "      <td>82.55</td>\n",
       "      <td>96.92</td>\n",
       "      <td>145.29</td>\n",
       "    </tr>\n",
       "    <tr>\n",
       "      <th>volume</th>\n",
       "      <td>2517.0</td>\n",
       "      <td>241235.096146</td>\n",
       "      <td>96750.320207</td>\n",
       "      <td>50.00</td>\n",
       "      <td>175510.60</td>\n",
       "      <td>242868.00</td>\n",
       "      <td>301777.00</td>\n",
       "      <td>670082.00</td>\n",
       "    </tr>\n",
       "  </tbody>\n",
       "</table>\n",
       "</div>"
      ],
      "text/plain": [
       "         count           mean           std    min        25%        50%  \\\n",
       "open    2517.0      81.796207     19.832869  34.36      65.68      82.55   \n",
       "high    2517.0      82.893532     19.961713  36.25      66.56      83.72   \n",
       "low     2517.0      80.582003     19.695067  33.55      64.65      81.25   \n",
       "close   2517.0      81.779758     19.855341  33.98      65.82      82.55   \n",
       "volume  2517.0  241235.096146  96750.320207  50.00  175510.60  242868.00   \n",
       "\n",
       "              75%        max  \n",
       "open        96.90     145.19  \n",
       "high        97.82     147.27  \n",
       "low         95.56     143.22  \n",
       "close       96.92     145.29  \n",
       "volume  301777.00  670082.00  "
      ]
     },
     "execution_count": 4,
     "metadata": {},
     "output_type": "execute_result"
    }
   ],
   "source": [
    "cl.describe().T"
   ]
  },
  {
   "cell_type": "code",
   "execution_count": 5,
   "metadata": {},
   "outputs": [
    {
     "data": {
      "text/html": [
       "<div>\n",
       "<style scoped>\n",
       "    .dataframe tbody tr th:only-of-type {\n",
       "        vertical-align: middle;\n",
       "    }\n",
       "\n",
       "    .dataframe tbody tr th {\n",
       "        vertical-align: top;\n",
       "    }\n",
       "\n",
       "    .dataframe thead th {\n",
       "        text-align: right;\n",
       "    }\n",
       "</style>\n",
       "<table border=\"1\" class=\"dataframe\">\n",
       "  <thead>\n",
       "    <tr style=\"text-align: right;\">\n",
       "      <th></th>\n",
       "      <th>open</th>\n",
       "      <th>high</th>\n",
       "      <th>low</th>\n",
       "      <th>close</th>\n",
       "      <th>volume</th>\n",
       "    </tr>\n",
       "    <tr>\n",
       "      <th>Date</th>\n",
       "      <th></th>\n",
       "      <th></th>\n",
       "      <th></th>\n",
       "      <th></th>\n",
       "      <th></th>\n",
       "    </tr>\n",
       "  </thead>\n",
       "  <tbody>\n",
       "    <tr>\n",
       "      <th>2005-01-03</th>\n",
       "      <td>43.10</td>\n",
       "      <td>43.10</td>\n",
       "      <td>41.25</td>\n",
       "      <td>42.12</td>\n",
       "      <td>69484.0</td>\n",
       "    </tr>\n",
       "    <tr>\n",
       "      <th>2005-01-04</th>\n",
       "      <td>42.18</td>\n",
       "      <td>44.13</td>\n",
       "      <td>41.85</td>\n",
       "      <td>43.91</td>\n",
       "      <td>100665.0</td>\n",
       "    </tr>\n",
       "    <tr>\n",
       "      <th>2005-01-05</th>\n",
       "      <td>43.90</td>\n",
       "      <td>44.00</td>\n",
       "      <td>42.60</td>\n",
       "      <td>43.39</td>\n",
       "      <td>91011.0</td>\n",
       "    </tr>\n",
       "    <tr>\n",
       "      <th>2005-01-06</th>\n",
       "      <td>43.39</td>\n",
       "      <td>45.75</td>\n",
       "      <td>42.80</td>\n",
       "      <td>45.56</td>\n",
       "      <td>122411.0</td>\n",
       "    </tr>\n",
       "    <tr>\n",
       "      <th>2005-01-07</th>\n",
       "      <td>45.50</td>\n",
       "      <td>46.10</td>\n",
       "      <td>44.75</td>\n",
       "      <td>45.43</td>\n",
       "      <td>99725.0</td>\n",
       "    </tr>\n",
       "  </tbody>\n",
       "</table>\n",
       "</div>"
      ],
      "text/plain": [
       "             open   high    low  close    volume\n",
       "Date                                            \n",
       "2005-01-03  43.10  43.10  41.25  42.12   69484.0\n",
       "2005-01-04  42.18  44.13  41.85  43.91  100665.0\n",
       "2005-01-05  43.90  44.00  42.60  43.39   91011.0\n",
       "2005-01-06  43.39  45.75  42.80  45.56  122411.0\n",
       "2005-01-07  45.50  46.10  44.75  45.43   99725.0"
      ]
     },
     "execution_count": 5,
     "metadata": {},
     "output_type": "execute_result"
    }
   ],
   "source": [
    "cl.head()"
   ]
  },
  {
   "cell_type": "markdown",
   "metadata": {},
   "source": [
    "Now we have the data from quandl broken down into specific products and we have the columns we are interested in as well as a datetime object as an index.  Next we will do the same thing with the data from the [Cryptocompare API](https://www.cryptocompare.com/api/)."
   ]
  },
  {
   "cell_type": "markdown",
   "metadata": {},
   "source": [
    "First step here will be do define the url and parameters we need.  This information can be gathered by reading through the documentation.  \n",
    "\n",
    "Again we need to create a list of symbol names to use as arguments when calling the API.\n",
    "\n",
    "Then we do a `get` request using the `requests` library, loop through the symbols list and do some manipulation to the final dataframe.  \n",
    "\n",
    "When this is all done we can just append the df to our prod_dict to put them all together."
   ]
  },
  {
   "cell_type": "code",
   "execution_count": 6,
   "metadata": {},
   "outputs": [],
   "source": [
    "# Cryptocompare API url\n",
    "url = 'https://min-api.cryptocompare.com/data/histoday'\n",
    "\n",
    "# List of cryptocurrencies to gather data for\n",
    "symbol_list = ['BTC', 'ETH', 'XRP', 'LTC', 'XLM',\n",
    "               'EOS', 'NEO', 'ADA', 'BCH', 'XMR']\n",
    "\n",
    "# Iterate through the list to create a df for each symbol\n",
    "for symbol in symbol_list:\n",
    "    # Set relevant parameters, currency in USD and limit of 2000 data points\n",
    "    params = {'fsym': symbol, 'tsym': 'USD', 'limit': 2000}\n",
    "    \n",
    "    # Call API and put data into a dataframe\n",
    "    response = requests.get(url, params=params)\n",
    "    data = response.json()['Data']\n",
    "    df = pd.DataFrame(data)\n",
    "    \n",
    "    # Add date column and set to index\n",
    "    df['Date'] = [datetime.date.fromtimestamp(d) for d in df.time]\n",
    "    df = df[['open', 'high', 'low', 'close', 'volumeto', 'Date']]\n",
    "    df.set_index('Date', inplace=True)\n",
    "    \n",
    "    # Rename volumeto column\n",
    "    df.rename(columns={'volumeto': 'volume'}, inplace=True)\n",
    "    \n",
    "    # Append to prod_dict\n",
    "    prod_dict[symbol] = df\n"
   ]
  },
  {
   "cell_type": "markdown",
   "metadata": {},
   "source": [
    "Now all the products we are interested in are in the dictionary."
   ]
  },
  {
   "cell_type": "code",
   "execution_count": 7,
   "metadata": {},
   "outputs": [
    {
     "data": {
      "text/plain": [
       "dict_keys(['CL', 'HO', 'NG', 'GC', 'SI', 'AD', 'CD', 'EC', 'BP', 'JY', 'US', 'C', 'W', 'S', 'ES', 'BTC', 'ETH', 'XRP', 'LTC', 'XLM', 'EOS', 'NEO', 'ADA', 'BCH', 'XMR'])"
      ]
     },
     "execution_count": 7,
     "metadata": {},
     "output_type": "execute_result"
    }
   ],
   "source": [
    "prod_dict.keys()"
   ]
  },
  {
   "cell_type": "markdown",
   "metadata": {},
   "source": [
    "And just like before we can take a look at one of the new products to see that the information is in the same format.  Lets look at Bitcoin."
   ]
  },
  {
   "cell_type": "code",
   "execution_count": 8,
   "metadata": {},
   "outputs": [
    {
     "name": "stdout",
     "output_type": "stream",
     "text": [
      "<class 'pandas.core.frame.DataFrame'>\n",
      "Index: 2001 entries, 2012-10-09 to 2018-04-01\n",
      "Data columns (total 5 columns):\n",
      "open      2001 non-null float64\n",
      "high      2001 non-null float64\n",
      "low       2001 non-null float64\n",
      "close     2001 non-null float64\n",
      "volume    2001 non-null float64\n",
      "dtypes: float64(5)\n",
      "memory usage: 93.8+ KB\n"
     ]
    }
   ],
   "source": [
    "btc = prod_dict['BTC']\n",
    "btc.info()"
   ]
  },
  {
   "cell_type": "code",
   "execution_count": 9,
   "metadata": {},
   "outputs": [
    {
     "data": {
      "text/html": [
       "<div>\n",
       "<style scoped>\n",
       "    .dataframe tbody tr th:only-of-type {\n",
       "        vertical-align: middle;\n",
       "    }\n",
       "\n",
       "    .dataframe tbody tr th {\n",
       "        vertical-align: top;\n",
       "    }\n",
       "\n",
       "    .dataframe thead th {\n",
       "        text-align: right;\n",
       "    }\n",
       "</style>\n",
       "<table border=\"1\" class=\"dataframe\">\n",
       "  <thead>\n",
       "    <tr style=\"text-align: right;\">\n",
       "      <th></th>\n",
       "      <th>count</th>\n",
       "      <th>mean</th>\n",
       "      <th>std</th>\n",
       "      <th>min</th>\n",
       "      <th>25%</th>\n",
       "      <th>50%</th>\n",
       "      <th>75%</th>\n",
       "      <th>max</th>\n",
       "    </tr>\n",
       "  </thead>\n",
       "  <tbody>\n",
       "    <tr>\n",
       "      <th>open</th>\n",
       "      <td>2001.0</td>\n",
       "      <td>1.487164e+03</td>\n",
       "      <td>2.991797e+03</td>\n",
       "      <td>10.17</td>\n",
       "      <td>235.83</td>\n",
       "      <td>442.66</td>\n",
       "      <td>894.16</td>\n",
       "      <td>1.934660e+04</td>\n",
       "    </tr>\n",
       "    <tr>\n",
       "      <th>high</th>\n",
       "      <td>2001.0</td>\n",
       "      <td>1.547409e+03</td>\n",
       "      <td>3.131154e+03</td>\n",
       "      <td>10.65</td>\n",
       "      <td>240.01</td>\n",
       "      <td>453.37</td>\n",
       "      <td>920.26</td>\n",
       "      <td>1.987062e+04</td>\n",
       "    </tr>\n",
       "    <tr>\n",
       "      <th>low</th>\n",
       "      <td>2001.0</td>\n",
       "      <td>1.416433e+03</td>\n",
       "      <td>2.809985e+03</td>\n",
       "      <td>9.74</td>\n",
       "      <td>231.78</td>\n",
       "      <td>431.10</td>\n",
       "      <td>848.32</td>\n",
       "      <td>1.875091e+04</td>\n",
       "    </tr>\n",
       "    <tr>\n",
       "      <th>close</th>\n",
       "      <td>2001.0</td>\n",
       "      <td>1.490659e+03</td>\n",
       "      <td>2.994143e+03</td>\n",
       "      <td>10.17</td>\n",
       "      <td>235.85</td>\n",
       "      <td>443.18</td>\n",
       "      <td>894.41</td>\n",
       "      <td>1.934549e+04</td>\n",
       "    </tr>\n",
       "    <tr>\n",
       "      <th>volume</th>\n",
       "      <td>2001.0</td>\n",
       "      <td>1.692008e+08</td>\n",
       "      <td>4.810454e+08</td>\n",
       "      <td>109479.89</td>\n",
       "      <td>3945871.12</td>\n",
       "      <td>15315755.66</td>\n",
       "      <td>47619189.45</td>\n",
       "      <td>6.245732e+09</td>\n",
       "    </tr>\n",
       "  </tbody>\n",
       "</table>\n",
       "</div>"
      ],
      "text/plain": [
       "         count          mean           std        min         25%  \\\n",
       "open    2001.0  1.487164e+03  2.991797e+03      10.17      235.83   \n",
       "high    2001.0  1.547409e+03  3.131154e+03      10.65      240.01   \n",
       "low     2001.0  1.416433e+03  2.809985e+03       9.74      231.78   \n",
       "close   2001.0  1.490659e+03  2.994143e+03      10.17      235.85   \n",
       "volume  2001.0  1.692008e+08  4.810454e+08  109479.89  3945871.12   \n",
       "\n",
       "                50%          75%           max  \n",
       "open         442.66       894.16  1.934660e+04  \n",
       "high         453.37       920.26  1.987062e+04  \n",
       "low          431.10       848.32  1.875091e+04  \n",
       "close        443.18       894.41  1.934549e+04  \n",
       "volume  15315755.66  47619189.45  6.245732e+09  "
      ]
     },
     "execution_count": 9,
     "metadata": {},
     "output_type": "execute_result"
    }
   ],
   "source": [
    "btc.describe().T"
   ]
  },
  {
   "cell_type": "code",
   "execution_count": 10,
   "metadata": {},
   "outputs": [
    {
     "data": {
      "text/html": [
       "<div>\n",
       "<style scoped>\n",
       "    .dataframe tbody tr th:only-of-type {\n",
       "        vertical-align: middle;\n",
       "    }\n",
       "\n",
       "    .dataframe tbody tr th {\n",
       "        vertical-align: top;\n",
       "    }\n",
       "\n",
       "    .dataframe thead th {\n",
       "        text-align: right;\n",
       "    }\n",
       "</style>\n",
       "<table border=\"1\" class=\"dataframe\">\n",
       "  <thead>\n",
       "    <tr style=\"text-align: right;\">\n",
       "      <th></th>\n",
       "      <th>open</th>\n",
       "      <th>high</th>\n",
       "      <th>low</th>\n",
       "      <th>close</th>\n",
       "      <th>volume</th>\n",
       "    </tr>\n",
       "    <tr>\n",
       "      <th>Date</th>\n",
       "      <th></th>\n",
       "      <th></th>\n",
       "      <th></th>\n",
       "      <th></th>\n",
       "      <th></th>\n",
       "    </tr>\n",
       "  </thead>\n",
       "  <tbody>\n",
       "    <tr>\n",
       "      <th>2012-10-09</th>\n",
       "      <td>11.90</td>\n",
       "      <td>12.19</td>\n",
       "      <td>11.77</td>\n",
       "      <td>12.12</td>\n",
       "      <td>333351.59</td>\n",
       "    </tr>\n",
       "    <tr>\n",
       "      <th>2012-10-10</th>\n",
       "      <td>12.12</td>\n",
       "      <td>12.15</td>\n",
       "      <td>11.86</td>\n",
       "      <td>12.03</td>\n",
       "      <td>238483.07</td>\n",
       "    </tr>\n",
       "    <tr>\n",
       "      <th>2012-10-11</th>\n",
       "      <td>12.03</td>\n",
       "      <td>12.15</td>\n",
       "      <td>11.92</td>\n",
       "      <td>12.00</td>\n",
       "      <td>259522.53</td>\n",
       "    </tr>\n",
       "    <tr>\n",
       "      <th>2012-10-12</th>\n",
       "      <td>12.00</td>\n",
       "      <td>12.11</td>\n",
       "      <td>11.85</td>\n",
       "      <td>11.86</td>\n",
       "      <td>141870.31</td>\n",
       "    </tr>\n",
       "    <tr>\n",
       "      <th>2012-10-13</th>\n",
       "      <td>11.86</td>\n",
       "      <td>12.03</td>\n",
       "      <td>11.50</td>\n",
       "      <td>11.74</td>\n",
       "      <td>271135.83</td>\n",
       "    </tr>\n",
       "  </tbody>\n",
       "</table>\n",
       "</div>"
      ],
      "text/plain": [
       "             open   high    low  close     volume\n",
       "Date                                             \n",
       "2012-10-09  11.90  12.19  11.77  12.12  333351.59\n",
       "2012-10-10  12.12  12.15  11.86  12.03  238483.07\n",
       "2012-10-11  12.03  12.15  11.92  12.00  259522.53\n",
       "2012-10-12  12.00  12.11  11.85  11.86  141870.31\n",
       "2012-10-13  11.86  12.03  11.50  11.74  271135.83"
      ]
     },
     "execution_count": 10,
     "metadata": {},
     "output_type": "execute_result"
    }
   ],
   "source": [
    "btc.head()"
   ]
  },
  {
   "cell_type": "markdown",
   "metadata": {},
   "source": [
    "With all the data now collected and stored in a dictionary we want to create a SQL schema to store the data locally.  I chose to use a **3 table schema** with one table, **Data**, keeping track of my data sources, **Symbols** housing all the product symbols with some product specific information, and finally **Daily_Prices** which holds all the daily price and volume information.  \n",
    "\n",
    "The **Symbols** table links to the **Data** table on an id and the **Daily_Prices** table links to the **Symbols** table on the symbol name."
   ]
  },
  {
   "cell_type": "markdown",
   "metadata": {},
   "source": [
    "Here is the creation of the three tables, starting with **Data**"
   ]
  },
  {
   "cell_type": "code",
   "execution_count": 11,
   "metadata": {
    "collapsed": true
   },
   "outputs": [
    {
     "ename": "OperationalError",
     "evalue": "table Data already exists",
     "output_type": "error",
     "traceback": [
      "\u001b[0;31m---------------------------------------------------------------------------\u001b[0m",
      "\u001b[0;31mOperationalError\u001b[0m                          Traceback (most recent call last)",
      "\u001b[0;32m<ipython-input-11-1a65be4edf8c>\u001b[0m in \u001b[0;36m<module>\u001b[0;34m()\u001b[0m\n\u001b[1;32m     15\u001b[0m \u001b[0;34m\u001b[0m\u001b[0m\n\u001b[1;32m     16\u001b[0m \u001b[0;31m# Create a new table with 3 columns\u001b[0m\u001b[0;34m\u001b[0m\u001b[0;34m\u001b[0m\u001b[0m\n\u001b[0;32m---> 17\u001b[0;31m \u001b[0mc\u001b[0m\u001b[0;34m.\u001b[0m\u001b[0mexecute\u001b[0m\u001b[0;34m(\u001b[0m\u001b[0;34m'CREATE TABLE {tn} ({ic} {dti} PRIMARY KEY, {nc} {dtt}, {uc} {dtt})'\u001b[0m          \u001b[0;34m.\u001b[0m\u001b[0mformat\u001b[0m\u001b[0;34m(\u001b[0m\u001b[0mtn\u001b[0m\u001b[0;34m=\u001b[0m\u001b[0mtable_name\u001b[0m\u001b[0;34m,\u001b[0m \u001b[0mic\u001b[0m\u001b[0;34m=\u001b[0m\u001b[0mid_col\u001b[0m\u001b[0;34m,\u001b[0m \u001b[0mdti\u001b[0m\u001b[0;34m=\u001b[0m\u001b[0mdtype_int\u001b[0m\u001b[0;34m,\u001b[0m \u001b[0mnc\u001b[0m\u001b[0;34m=\u001b[0m\u001b[0mname_col\u001b[0m\u001b[0;34m,\u001b[0m \u001b[0mdtt\u001b[0m\u001b[0;34m=\u001b[0m\u001b[0mdtype_text\u001b[0m\u001b[0;34m,\u001b[0m \u001b[0muc\u001b[0m\u001b[0;34m=\u001b[0m\u001b[0murl_col\u001b[0m\u001b[0;34m)\u001b[0m\u001b[0;34m)\u001b[0m\u001b[0;34m\u001b[0m\u001b[0m\n\u001b[0m\u001b[1;32m     18\u001b[0m \u001b[0;34m\u001b[0m\u001b[0m\n\u001b[1;32m     19\u001b[0m \u001b[0;31m# Commit changes and close\u001b[0m\u001b[0;34m\u001b[0m\u001b[0;34m\u001b[0m\u001b[0m\n",
      "\u001b[0;31mOperationalError\u001b[0m: table Data already exists"
     ]
    }
   ],
   "source": [
    "# SQLite file name to store database\n",
    "sqlite_file = 'securities_master_db.sqlite'\n",
    "\n",
    "# DATA TABLE\n",
    "table_name = 'Data'\n",
    "id_col = 'id'\n",
    "name_col = 'name'\n",
    "url_col = 'url'\n",
    "dtype_int = 'INTEGER'\n",
    "dtype_text = 'TEXT'\n",
    "\n",
    "# Connect to the database file\n",
    "conn = sqlite3.connect(sqlite_file)\n",
    "c = conn.cursor()\n",
    "\n",
    "# Create a new table with 3 columns\n",
    "c.execute('CREATE TABLE {tn} ({ic} {dti} PRIMARY KEY, {nc} {dtt}, {uc} {dtt})'\\\n",
    "          .format(tn=table_name, ic=id_col, dti=dtype_int, nc=name_col, dtt=dtype_text, uc=url_col))\n",
    "\n",
    "# Commit changes and close\n",
    "conn.commit()\n",
    "conn.close()"
   ]
  },
  {
   "cell_type": "markdown",
   "metadata": {},
   "source": [
    "With the table created, I chose to manually add the data sources since there are only three."
   ]
  },
  {
   "cell_type": "code",
   "execution_count": null,
   "metadata": {
    "collapsed": true
   },
   "outputs": [],
   "source": [
    "# Connect to database file\n",
    "conn = sqlite3.connect(sqlite_file)\n",
    "c = conn.cursor()\n",
    "\n",
    "# Add value for Cryptocompare to Data table\n",
    "c.execute(\"INSERT INTO {tn} ({ic}, {nc}, {uc}) VALUES (1, 'Cryptocompare', 'https://min-api.cryptocompare.com')\"\\\n",
    "          .format(tn=table_name, ic=id_col, nc=name_col, uc=url_col))\n",
    "\n",
    "# Add value for Quandl to Data table\n",
    "c.execute(\"INSERT INTO {tn} ({ic}, {nc}, {uc}) VALUES (2, 'Quandl', 'https://docs.quandl.com')\"\\\n",
    "          .format(tn=table_name, ic=id_col, nc=name_col, uc=url_col))\n",
    "\n",
    "# Add value for Quantopian to Data table\n",
    "c.execute(\"INSERT INTO {tn} ({ic}, {nc}, {uc}) VALUES (3, 'Quantopian', 'https://www.quantopian.com/data')\"\\\n",
    "          .format(tn=table_name, ic=id_col, nc=name_col, uc=url_col))\n",
    "\n",
    "# Commit and close\n",
    "conn.commit()\n",
    "conn.close()"
   ]
  },
  {
   "cell_type": "markdown",
   "metadata": {},
   "source": [
    "Now we will add the **Symbols** table"
   ]
  },
  {
   "cell_type": "code",
   "execution_count": null,
   "metadata": {
    "collapsed": true
   },
   "outputs": [],
   "source": [
    "# SYMBOLS TABLE\n",
    "# Initialize variables for file name, table, columns, data types\n",
    "table_name = 'Symbols'\n",
    "\n",
    "data_table = 'Data'\n",
    "data_id = 'id'\n",
    "\n",
    "id_col = 'id'\n",
    "data_id_col = 'data_id'\n",
    "symbol_col = 'symbol'\n",
    "name_col = 'name'\n",
    "sector_col = 'sector'\n",
    "exchange_col = 'exchange'\n",
    "dtype_int = 'INTEGER'\n",
    "dtype_text = 'TEXT'\n",
    "\n",
    "# Connect to the database file\n",
    "conn = sqlite3.connect(sqlite_file)\n",
    "c = conn.cursor()\n",
    "\n",
    "# Create a new table with 3 columns\n",
    "c.execute('CREATE TABLE {tn} ({ic} {dti} PRIMARY KEY,\\\n",
    "                              {dc} {dti},\\\n",
    "                              {sc} {dtt},\\\n",
    "                              {nc} {dtt},\\\n",
    "                              {sec} {dtt},\\\n",
    "                              {ec} {dtt},\\\n",
    "                              FOREIGN KEY ({dc}) REFERENCES {dt} ({dic}))'\\\n",
    "         .format(tn=table_name, ic=id_col, dti=dtype_int, dc=data_id_col, sc=symbol_col,\\\n",
    "                 dtt=dtype_text, nc=name_col, sec=sector_col, ec=exchange_col,\\\n",
    "                 dt=data_table, dic=data_id))\n",
    "\n",
    "# Commit changes and close\n",
    "conn.commit()\n",
    "conn.close()"
   ]
  },
  {
   "cell_type": "markdown",
   "metadata": {},
   "source": [
    "Now that we have the **Symbols** table we can insert the information.  I chose to add some information about each product that I thought would be interesting for later analysis.  The following dictionary maps all the *products* to a `list` of information about that product including *data source, name, sector, exchange*."
   ]
  },
  {
   "cell_type": "code",
   "execution_count": 12,
   "metadata": {
    "collapsed": true
   },
   "outputs": [],
   "source": [
    "# Dict of all products with maps to data_id, name, sector, and exchange\n",
    "products = {'CL': [2, 'Crude', 'Energy', 'CME'],\n",
    "            'HO': [2, 'HeatOil', 'Energy', 'CME'],\n",
    "            'NG': [2, 'NatGas', 'Energy', 'CME'],\n",
    "            'GC': [2, 'Gold', 'Metals', 'CME'],\n",
    "            'SI': [2, 'Silver', 'Metals', 'CME'],\n",
    "            'AD': [2, 'Aussie', 'Forex', 'CME'],\n",
    "            'CD': [2, 'Canadien', 'Forex', 'CME'],\n",
    "            'EC': [2, 'Euro', 'Forex', 'CME'],\n",
    "            'BP': [2, 'Pound', 'Forex', 'CME'],\n",
    "            'JY': [2, 'Yen', 'Forex', 'CME'],\n",
    "            'US': [2, '30-yr', 'Treasuries', 'CME'],\n",
    "            'C': [2, 'Corn', 'Grains', 'CME'],\n",
    "            'W': [2, 'Wheat', 'Grains', 'CME'],\n",
    "            'S': [2, 'Soybeans', 'Grains', 'CME'],\n",
    "            'ES': [2, 'E-mini', 'Indexes', 'CME'],\n",
    "            'BTC': [1, 'Bitcoin', 'Cryptocurrency', 'CCAgg'],\n",
    "            'ETH': [1, 'Ethereum', 'Cryptocurrency', 'CCAgg'],\n",
    "            'XRP': [1, 'Ripple', 'Cryptocurrency', 'CCAgg'],\n",
    "            'BCH': [1, 'BitcoinCash', 'Cryptocurrency', 'CCAgg'],\n",
    "            'LTC': [1, 'Litecoin', 'Cryptocurrency', 'CCAgg'],\n",
    "            'ADA': [1, 'Cardano', 'Cryptocurrency', 'CCAgg'],\n",
    "            'NEO': [1, 'Neo', 'Cryptocurrency', 'CCAgg'],\n",
    "            'XLM': [1, 'Stellar', 'Cryptocurrency', 'CCAgg'],\n",
    "            'EOS': [1, 'EOS', 'Cryptocurrency', 'CCAgg'],\n",
    "            'XMR': [1, 'Monero', 'Cryptocurrency', 'CCAgg'],}"
   ]
  },
  {
   "cell_type": "markdown",
   "metadata": {},
   "source": [
    "Here is the code to insert the information into the **Symbols** table"
   ]
  },
  {
   "cell_type": "code",
   "execution_count": null,
   "metadata": {},
   "outputs": [],
   "source": [
    "# Create the column name list for database insertion\n",
    "table_name = 'Symbols'\n",
    "cols = ['data_id', 'symbol', 'name', 'sector', 'exchange']\n",
    "\n",
    "# Open a connection to the database\n",
    "conn = sqlite3.connect(sqlite_file)\n",
    "c = conn.cursor()\n",
    "\n",
    "# Iterate through all symbols of product_dict\n",
    "for symbol, s_info in products.items():\n",
    "    # Set params and insert row into database\n",
    "    params = (s_info[0], symbol, s_info[1], s_info[2], s_info[3])\n",
    "    c.execute(\"INSERT INTO {tn} ({c0}, {c1}, {c2}, {c3}, {c4}) VALUES (?, ?, ?, ?, ?)\"\\\n",
    "            .format(tn=table_name, c0=cols[0], c1=cols[1], c2=cols[2],\\\n",
    "            c3=cols[3], c4=cols[4]), params)\n",
    "    \n",
    "# Close connection to database\n",
    "conn.commit()\n",
    "conn.close()"
   ]
  },
  {
   "cell_type": "markdown",
   "metadata": {},
   "source": [
    "And finally the **Daily_Prices** table"
   ]
  },
  {
   "cell_type": "code",
   "execution_count": null,
   "metadata": {
    "collapsed": true
   },
   "outputs": [],
   "source": [
    "# DAILY_PRICES TABLE\n",
    "# Initialize variables for file name, table, columns, data types\n",
    "table_name = 'Daily_Prices'\n",
    "symbols_table = 'Symbols'\n",
    "\n",
    "id_col = 'id'\n",
    "data_id_col = 'data_id'\n",
    "symbol_col = 'symbol'\n",
    "date_col = 'date'\n",
    "open_col = 'open'\n",
    "high_col = 'high'\n",
    "low_col = 'low'\n",
    "close_col = 'close'\n",
    "volume_col = 'volume'\n",
    "\n",
    "dtype_int = 'INTEGER'\n",
    "dtype_text = 'TEXT'\n",
    "dtype_real = 'REAL'\n",
    "\n",
    "# Connect to the database file\n",
    "conn = sqlite3.connect(sqlite_file)\n",
    "c = conn.cursor()\n",
    "\n",
    "# Create a new table with 3 columns\n",
    "c.execute('CREATE TABLE {tn} ({ic} {dti} PRIMARY KEY,\\\n",
    "                              {dc} {dti},\\\n",
    "                              {sc} {dtt},\\\n",
    "                              {dtc} {dtt},\\\n",
    "                              {oc} {dtr},\\\n",
    "                              {hc} {dtr},\\\n",
    "                              {lc} {dtr},\\\n",
    "                              {cc} {dtr},\\\n",
    "                              {vc} {dti},\\\n",
    "                              FOREIGN KEY ({sc}) REFERENCES {st} ({sc}))'\\\n",
    "         .format(tn=table_name, ic=id_col, dti=dtype_int, dc=data_id_col, sc=symbol_col,\\\n",
    "                 dtt=dtype_text, dtc=date_col, oc=open_col, dtr=dtype_real, hc=high_col,\\\n",
    "                 lc=low_col, cc=close_col, vc=volume_col, st=symbols_table))\n",
    "\n",
    "# Commit changes and close\n",
    "conn.commit()\n",
    "conn.close()"
   ]
  },
  {
   "cell_type": "markdown",
   "metadata": {},
   "source": [
    "We will hold off on inserting the price data into the table right now because it needs to be cleaned first.  So lets move on to that part of the analysis."
   ]
  },
  {
   "cell_type": "markdown",
   "metadata": {},
   "source": [
    "## Data Cleaning"
   ]
  },
  {
   "cell_type": "markdown",
   "metadata": {},
   "source": [
    "In examining the data a number of issues stuck out from the start.  "
   ]
  },
  {
   "cell_type": "markdown",
   "metadata": {},
   "source": [
    "First of all, regarding the cryptocurrency data, due to the fact that each asset began trading at a different time, but we collected 2,000 data points for each, there are a lot of **zero** values.  \n",
    "\n",
    "To clean this up and also take a look at data from times where there was enough liquidity to actually trade, I decided to pick a start date for each set of cryptocurrency to be the first day that trading volume reached **$1,000,000 USD**."
   ]
  },
  {
   "cell_type": "code",
   "execution_count": 13,
   "metadata": {},
   "outputs": [],
   "source": [
    "# Use the cryptocurrency symbol list from before to iterate through the dict\n",
    "for crypto, df in prod_dict.items():\n",
    "    if crypto in symbol_list:\n",
    "        # Find the first date that reached 1 million USD volume\n",
    "        start_date = df.index[df.volume > 1000000].tolist()[0]\n",
    "        \n",
    "        # Filter the dataframe and reappend it to the dict\n",
    "        df = df[start_date:]\n",
    "        prod_dict[crypto] = df"
   ]
  },
  {
   "cell_type": "markdown",
   "metadata": {},
   "source": [
    "To check that this worked compare the new `btc_clean` first rows with the old `btc` rows that started at `2012-10-08`"
   ]
  },
  {
   "cell_type": "code",
   "execution_count": 14,
   "metadata": {},
   "outputs": [
    {
     "data": {
      "text/html": [
       "<div>\n",
       "<style scoped>\n",
       "    .dataframe tbody tr th:only-of-type {\n",
       "        vertical-align: middle;\n",
       "    }\n",
       "\n",
       "    .dataframe tbody tr th {\n",
       "        vertical-align: top;\n",
       "    }\n",
       "\n",
       "    .dataframe thead th {\n",
       "        text-align: right;\n",
       "    }\n",
       "</style>\n",
       "<table border=\"1\" class=\"dataframe\">\n",
       "  <thead>\n",
       "    <tr style=\"text-align: right;\">\n",
       "      <th></th>\n",
       "      <th>open</th>\n",
       "      <th>high</th>\n",
       "      <th>low</th>\n",
       "      <th>close</th>\n",
       "      <th>volume</th>\n",
       "    </tr>\n",
       "    <tr>\n",
       "      <th>Date</th>\n",
       "      <th></th>\n",
       "      <th></th>\n",
       "      <th></th>\n",
       "      <th></th>\n",
       "      <th></th>\n",
       "    </tr>\n",
       "  </thead>\n",
       "  <tbody>\n",
       "    <tr>\n",
       "      <th>2012-10-25</th>\n",
       "      <td>10.86</td>\n",
       "      <td>10.95</td>\n",
       "      <td>9.74</td>\n",
       "      <td>10.17</td>\n",
       "      <td>1020616.67</td>\n",
       "    </tr>\n",
       "    <tr>\n",
       "      <th>2012-10-26</th>\n",
       "      <td>10.17</td>\n",
       "      <td>10.84</td>\n",
       "      <td>9.82</td>\n",
       "      <td>10.26</td>\n",
       "      <td>496747.54</td>\n",
       "    </tr>\n",
       "    <tr>\n",
       "      <th>2012-10-27</th>\n",
       "      <td>10.26</td>\n",
       "      <td>10.95</td>\n",
       "      <td>10.25</td>\n",
       "      <td>10.70</td>\n",
       "      <td>236640.50</td>\n",
       "    </tr>\n",
       "    <tr>\n",
       "      <th>2012-10-28</th>\n",
       "      <td>10.70</td>\n",
       "      <td>10.94</td>\n",
       "      <td>10.32</td>\n",
       "      <td>10.60</td>\n",
       "      <td>400173.50</td>\n",
       "    </tr>\n",
       "    <tr>\n",
       "      <th>2012-10-29</th>\n",
       "      <td>10.60</td>\n",
       "      <td>10.89</td>\n",
       "      <td>10.58</td>\n",
       "      <td>10.89</td>\n",
       "      <td>279843.08</td>\n",
       "    </tr>\n",
       "  </tbody>\n",
       "</table>\n",
       "</div>"
      ],
      "text/plain": [
       "             open   high    low  close      volume\n",
       "Date                                              \n",
       "2012-10-25  10.86  10.95   9.74  10.17  1020616.67\n",
       "2012-10-26  10.17  10.84   9.82  10.26   496747.54\n",
       "2012-10-27  10.26  10.95  10.25  10.70   236640.50\n",
       "2012-10-28  10.70  10.94  10.32  10.60   400173.50\n",
       "2012-10-29  10.60  10.89  10.58  10.89   279843.08"
      ]
     },
     "execution_count": 14,
     "metadata": {},
     "output_type": "execute_result"
    }
   ],
   "source": [
    "btc_clean = prod_dict['BTC']\n",
    "btc_clean.head()"
   ]
  },
  {
   "cell_type": "markdown",
   "metadata": {},
   "source": [
    "The next thing I noticed that needed to be addressed was certain days where volume was unlikely to be reported correctly.  There were alot of zero and low number values, considering the goal was to only look at highly liquid products.  For example...."
   ]
  },
  {
   "cell_type": "code",
   "execution_count": 15,
   "metadata": {},
   "outputs": [],
   "source": [
    "mean_vol = cl.volume.mean()\n",
    "std_vol = cl.volume.std()"
   ]
  },
  {
   "cell_type": "code",
   "execution_count": 16,
   "metadata": {},
   "outputs": [
    {
     "data": {
      "text/plain": [
       "Date\n",
       "2005-06-30     2349.0\n",
       "2005-07-01     1069.0\n",
       "2005-07-08      810.0\n",
       "2005-12-23    37520.0\n",
       "2006-09-04     4869.0\n",
       "2009-07-10       50.0\n",
       "2010-04-01     3536.0\n",
       "2012-12-24    40380.0\n",
       "2013-12-24    43473.0\n",
       "Name: volume, dtype: float64"
      ]
     },
     "execution_count": 16,
     "metadata": {},
     "output_type": "execute_result"
    }
   ],
   "source": [
    "cl.volume[cl.volume < (mean_vol - (2.0 * std_vol))]"
   ]
  },
  {
   "cell_type": "markdown",
   "metadata": {},
   "source": [
    "This is likely due to poor data or something to do with the way they create the continuous contract, by taking weighting of the two current front months.  For this project **volume** is only going to be used in the case of a break-out strategy where we need to find days that are **200% of the rolling average volume**.  Thus, for our purposes taking these likely incorrect data and simply replacing them with the mean will suffice."
   ]
  },
  {
   "cell_type": "code",
   "execution_count": 17,
   "metadata": {},
   "outputs": [],
   "source": [
    "def Replace(x, mean, std):\n",
    "    if x < (mean - (2 * std)):\n",
    "        return mean\n",
    "    else:\n",
    "        return x"
   ]
  },
  {
   "cell_type": "code",
   "execution_count": 18,
   "metadata": {},
   "outputs": [
    {
     "name": "stderr",
     "output_type": "stream",
     "text": [
      "/Users/Frank/anaconda3/lib/python3.6/site-packages/ipykernel_launcher.py:7: SettingWithCopyWarning: \n",
      "A value is trying to be set on a copy of a slice from a DataFrame.\n",
      "Try using .loc[row_indexer,col_indexer] = value instead\n",
      "\n",
      "See the caveats in the documentation: http://pandas.pydata.org/pandas-docs/stable/indexing.html#indexing-view-versus-copy\n",
      "  import sys\n"
     ]
    }
   ],
   "source": [
    "for prod, df in prod_dict.items():\n",
    "    # Calculate mean and std for volumn column of dataframe\n",
    "    mean_vol = df.volume.mean()\n",
    "    std_vol = df.volume.std()\n",
    "    \n",
    "    # Apply lambda function to transform poor data\n",
    "    df['volume'] = df['volume'].apply(lambda x: Replace(x, mean_vol, std_vol))"
   ]
  },
  {
   "cell_type": "markdown",
   "metadata": {},
   "source": [
    "Check to see this worked with our Crude Oil dataframe, which should now have no volume data that is more than 2 stds below the mean."
   ]
  },
  {
   "cell_type": "code",
   "execution_count": 19,
   "metadata": {},
   "outputs": [
    {
     "data": {
      "text/plain": [
       "Series([], Name: volume, dtype: float64)"
      ]
     },
     "execution_count": 19,
     "metadata": {},
     "output_type": "execute_result"
    }
   ],
   "source": [
    "cl.volume[cl.volume < (mean_vol - (2.0 * std_vol))]"
   ]
  },
  {
   "cell_type": "markdown",
   "metadata": {},
   "source": [
    "The last thing to do as far as cleaning the data before entering it into the database was to write a function that could check for outliers in price.  The fact is that these 3+ std moves do happen in commodity markets so my thought was to create a price chart and highlight the big outliers.\n",
    "\n",
    "By looking at the entire price chart it should be easy to tell if the outlier was because of faulty data or simply because the market had made a big move so price was seriously deviating from the overall long-term mean."
   ]
  },
  {
   "cell_type": "code",
   "execution_count": 27,
   "metadata": {
    "collapsed": true
   },
   "outputs": [],
   "source": [
    "def check_outliers(df):\n",
    "    ''' This function finds all closing price points that are more than 3 stds away from\n",
    "        the mean and plots them on a line graph of all the data.  This can be used to see\n",
    "        if these points are truly outliers.\n",
    "\n",
    "        Args: df - dataframe to be checked for outliers\n",
    "\n",
    "        Return: None - shows a graph of the price data series with annotations for outliers\n",
    "    '''\n",
    "    # Use a copy of the dataframe\n",
    "    cpy = df.copy()\n",
    "    # Create range of values that are more than 3 stds away from mean\n",
    "    cpy['stds_from_mean'] = ((cpy['close'] - cpy['close'].mean()).apply(abs)) / cpy['close'].std()\n",
    "    locs_gt_3std = [cpy.index.get_loc(x) for x in cpy.index[cpy['stds_from_mean'] > 3.0]]\n",
    "\n",
    "    # Plot the price data, highlighting the outliers\n",
    "    plt.figure(figsize=(14,7))\n",
    "    plt.plot(cpy.index, cpy.close, linestyle='solid', markevery=locs_gt_3std,\n",
    "                marker='o', markerfacecolor='r', label='Outliers')\n",
    "\n",
    "    # Apply title, legend and labels\n",
    "    plt.title('Closing Prices')\n",
    "    plt.xlabel('Date')\n",
    "    plt.ylabel('Price')\n",
    "    plt.legend()\n",
    "    plt.grid()\n",
    "\n",
    "    plt.show()\n",
    "\n",
    "    # Print out description\n",
    "    print('Number of data points: {}'.format(len(cpy.index)))\n",
    "    print('Number of outliers: {}'.format(len(locs_gt_3std)))"
   ]
  },
  {
   "cell_type": "markdown",
   "metadata": {},
   "source": [
    "So in sticking with the theme we will check the **Crude Oil** market as well as **Bitcoin** to see what kind of outliers we are looking at."
   ]
  },
  {
   "cell_type": "code",
   "execution_count": 28,
   "metadata": {},
   "outputs": [
    {
     "data": {
      "image/png": "[encoded data removed]",
      "text/plain": [
       "<matplotlib.figure.Figure at 0x1164aa080>"
      ]
     },
     "metadata": {},
     "output_type": "display_data"
    },
    {
     "name": "stdout",
     "output_type": "stream",
     "text": [
      "Number of data points: 2517\n",
      "Number of outliers: 6\n"
     ]
    }
   ],
   "source": [
    "check_outliers(cl)"
   ]
  },
  {
   "cell_type": "code",
   "execution_count": 29,
   "metadata": {},
   "outputs": [
    {
     "data": {
      "image/png": "[encoded data removed]",
      "text/plain": [
       "<matplotlib.figure.Figure at 0x116997dd8>"
      ]
     },
     "metadata": {},
     "output_type": "display_data"
    },
    {
     "name": "stdout",
     "output_type": "stream",
     "text": [
      "Number of data points: 2001\n",
      "Number of outliers: 71\n"
     ]
    }
   ],
   "source": [
    "check_outliers(btc)"
   ]
  },
  {
   "cell_type": "markdown",
   "metadata": {},
   "source": [
    "Each market has its outliers but they were due to the market itself making a strong move away from the mean value for the entire time series.  This is not uncommon for commodities and cryptocurrencies.  \n",
    "\n",
    "In looking at the chart and having experience with these products I am comfortable saying that none of the points are far off due to inaccurate data."
   ]
  },
  {
   "cell_type": "markdown",
   "metadata": {},
   "source": [
    "At this point I am comfortable with the data and therefore can insert it into the database.  Then it will be time to move on to manipulation, by creating new columns for the indicators that I want to explore."
   ]
  },
  {
   "cell_type": "markdown",
   "metadata": {},
   "source": [
    "Here is the script for entering the data into the **Daily_Prices** table of the SQL database."
   ]
  },
  {
   "cell_type": "code",
   "execution_count": 26,
   "metadata": {
    "collapsed": true
   },
   "outputs": [],
   "source": [
    "# Set table_name\n",
    "table_name = 'Daily_Prices'\n",
    "\n",
    "# Create the column name list for database insertion\n",
    "cols = ['data_id', 'symbol', 'date', 'open', 'high', 'low', 'close', 'volume']\n",
    "\n",
    "# Open a connection to the database\n",
    "conn = sqlite3.connect(sqlite_file)\n",
    "c = conn.cursor()\n",
    "\n",
    "# Iterate through all symbols and then the dataframe to get all price data\n",
    "for symbol, df in prod_dict.items():\n",
    "    data_id = products[symbol][0]\n",
    "    \n",
    "    for i, row in df.iterrows():\n",
    "        date = i.strftime('%Y-%m-%d')\n",
    "        # Set params and insert row into database\n",
    "        params = (data_id, symbol, date, row.open, row.high, row.low, row.close, row.volume)\n",
    "        c.execute(\"INSERT INTO {tn} ({c0}, {c1}, {c2}, {c3}, {c4}, {c5}, {c6}, {c7}) VALUES (?, ?, ?, ?, ?, ?, ?, ?)\"\\\n",
    "            .format(tn=table_name, c0=cols[0], c1=cols[1], c2=cols[2], c3=cols[3], c4=cols[4],\\\n",
    "            c5=cols[5], c6=cols[6], c7=cols[7]), params)\n",
    "\n",
    "# Close connection to database\n",
    "conn.commit()\n",
    "conn.close()"
   ]
  },
  {
   "cell_type": "markdown",
   "metadata": {},
   "source": [
    "## Data Manipulation"
   ]
  },
  {
   "cell_type": "markdown",
   "metadata": {},
   "source": [
    "The next step in the analysis is to add columns to each product's dataframe to represent the specific indicators that we are interested in observing.  These can all be calculated from the current, **open, high, low, close, volume** data that we have.  \n",
    "\n",
    "We also want to add columns that track future price changes.  I am choosing to look at a few different time frames, next day, 5 days out, 10 days out, and 20 days out.  Once we have columns for each indicator as a binary (0 if no signal, 1 if signal) and columns for the future returns from that point we can analyze which (if any) of the indicators shows promise for consistently predicting future returns."
   ]
  },
  {
   "cell_type": "code",
   "execution_count": null,
   "metadata": {
    "collapsed": true
   },
   "outputs": [],
   "source": []
  },
  {
   "cell_type": "code",
   "execution_count": null,
   "metadata": {
    "collapsed": true
   },
   "outputs": [],
   "source": []
  }
 ],
 "metadata": {
  "kernelspec": {
   "display_name": "Python 3",
   "language": "python",
   "name": "python3"
  },
  "language_info": {
   "codemirror_mode": {
    "name": "ipython",
    "version": 3
   },
   "file_extension": ".py",
   "mimetype": "text/x-python",
   "name": "python",
   "nbconvert_exporter": "python",
   "pygments_lexer": "ipython3",
   "version": "3.6.3"
  }
 },
 "nbformat": 4,
 "nbformat_minor": 2
}
