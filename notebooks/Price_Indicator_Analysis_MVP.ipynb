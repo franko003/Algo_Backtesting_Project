{
 "cells": [
  {
   "cell_type": "markdown",
   "metadata": {},
   "source": [
    "## Price_Indicator_Analysis_MVP"
   ]
  },
  {
   "cell_type": "markdown",
   "metadata": {},
   "source": [
    "Analysis of common technical analysis indicators on daily price data for different products."
   ]
  },
  {
   "cell_type": "markdown",
   "metadata": {},
   "source": [
    "### Data Collection"
   ]
  },
  {
   "cell_type": "code",
   "execution_count": 1,
   "metadata": {
    "collapsed": true
   },
   "outputs": [],
   "source": [
    "import pandas as pd\n",
    "import numpy as np\n",
    "\n",
    "import requests\n",
    "import json\n",
    "import quandl\n",
    "\n",
    "import datetime\n",
    "\n",
    "import matplotlib.pyplot as plt\n",
    "\n",
    "import sqlite3\n",
    "\n",
    "% matplotlib inline"
   ]
  },
  {
   "cell_type": "markdown",
   "metadata": {},
   "source": [
    "The first step will be to get data from the [quandl API](https://www.quandl.com/collections/futures).  For this we use an api key generated from signing up for a free quandl account.\n",
    "\n",
    "We create a list of the symbols for the products we are interested in, which can be found by looking at the [documentation](https://docs.quandl.com/).\n",
    "\n",
    "Then loop through the products, read the price data into a dataframe, and attach the symbol:dataframe key:value pair to a dictionary object, after selecting the specific information we need."
   ]
  },
  {
   "cell_type": "code",
   "execution_count": 3,
   "metadata": {},
   "outputs": [],
   "source": [
    "# Get data from Quandl with api key\n",
    "api_key = 'Hv95pPh1xQWzt5DFhxS7'\n",
    "\n",
    "# Create list of symbols for the products we want data for\n",
    "prod_list = ['CL', 'HO', 'NG', 'GC',\n",
    "             'SI', 'AD', 'CD', 'EC',\n",
    "             'BP', 'JY', 'US', 'C',\n",
    "             'W', 'S', 'ES']\n",
    "\n",
    "# Create a dict with keys as symbols and values as dataframe of price info\n",
    "prod_dict = {}\n",
    "\n",
    "# Iterate through list of prods and add data to dict\n",
    "for prod in prod_list:\n",
    "    # Quandl API call\n",
    "    df = quandl.get('SCF/CME_{p}1_FW'.format(p=prod), authtoken=api_key)\n",
    "    \n",
    "    # Drop open interest column and rename Settle column\n",
    "    df.drop(['Prev. Day Open Interest'], axis=1, inplace=True)\n",
    "    df.rename(columns={'Open': 'open',\n",
    "                      'High': 'high',\n",
    "                      'Low': 'low',\n",
    "                      'Settle': 'close',\n",
    "                      'Volume': 'volume'}, inplace=True)\n",
    "    # Add prod to dict\n",
    "    prod_dict[prod] = df"
   ]
  },
  {
   "cell_type": "markdown",
   "metadata": {},
   "source": [
    "Here is some summary information of the Crude Oil ('CL') dataframe"
   ]
  },
  {
   "cell_type": "code",
   "execution_count": 6,
   "metadata": {},
   "outputs": [
    {
     "name": "stdout",
     "output_type": "stream",
     "text": [
      "<class 'pandas.core.frame.DataFrame'>\n",
      "DatetimeIndex: 2517 entries, 2005-01-03 to 2014-12-31\n",
      "Data columns (total 5 columns):\n",
      "open      2517 non-null float64\n",
      "high      2517 non-null float64\n",
      "low       2517 non-null float64\n",
      "close     2517 non-null float64\n",
      "volume    2517 non-null float64\n",
      "dtypes: float64(5)\n",
      "memory usage: 118.0 KB\n"
     ]
    }
   ],
   "source": [
    "cl = prod_dict['CL']\n",
    "cl.info()"
   ]
  },
  {
   "cell_type": "code",
   "execution_count": 7,
   "metadata": {},
   "outputs": [
    {
     "data": {
      "text/html": [
       "<div>\n",
       "<style scoped>\n",
       "    .dataframe tbody tr th:only-of-type {\n",
       "        vertical-align: middle;\n",
       "    }\n",
       "\n",
       "    .dataframe tbody tr th {\n",
       "        vertical-align: top;\n",
       "    }\n",
       "\n",
       "    .dataframe thead th {\n",
       "        text-align: right;\n",
       "    }\n",
       "</style>\n",
       "<table border=\"1\" class=\"dataframe\">\n",
       "  <thead>\n",
       "    <tr style=\"text-align: right;\">\n",
       "      <th></th>\n",
       "      <th>count</th>\n",
       "      <th>mean</th>\n",
       "      <th>std</th>\n",
       "      <th>min</th>\n",
       "      <th>25%</th>\n",
       "      <th>50%</th>\n",
       "      <th>75%</th>\n",
       "      <th>max</th>\n",
       "    </tr>\n",
       "  </thead>\n",
       "  <tbody>\n",
       "    <tr>\n",
       "      <th>open</th>\n",
       "      <td>2517.0</td>\n",
       "      <td>81.796207</td>\n",
       "      <td>19.832869</td>\n",
       "      <td>34.36</td>\n",
       "      <td>65.68</td>\n",
       "      <td>82.55</td>\n",
       "      <td>96.90</td>\n",
       "      <td>145.19</td>\n",
       "    </tr>\n",
       "    <tr>\n",
       "      <th>high</th>\n",
       "      <td>2517.0</td>\n",
       "      <td>82.893532</td>\n",
       "      <td>19.961713</td>\n",
       "      <td>36.25</td>\n",
       "      <td>66.56</td>\n",
       "      <td>83.72</td>\n",
       "      <td>97.82</td>\n",
       "      <td>147.27</td>\n",
       "    </tr>\n",
       "    <tr>\n",
       "      <th>low</th>\n",
       "      <td>2517.0</td>\n",
       "      <td>80.582003</td>\n",
       "      <td>19.695067</td>\n",
       "      <td>33.55</td>\n",
       "      <td>64.65</td>\n",
       "      <td>81.25</td>\n",
       "      <td>95.56</td>\n",
       "      <td>143.22</td>\n",
       "    </tr>\n",
       "    <tr>\n",
       "      <th>close</th>\n",
       "      <td>2517.0</td>\n",
       "      <td>81.779758</td>\n",
       "      <td>19.855341</td>\n",
       "      <td>33.98</td>\n",
       "      <td>65.82</td>\n",
       "      <td>82.55</td>\n",
       "      <td>96.92</td>\n",
       "      <td>145.29</td>\n",
       "    </tr>\n",
       "    <tr>\n",
       "      <th>volume</th>\n",
       "      <td>2517.0</td>\n",
       "      <td>241235.096146</td>\n",
       "      <td>96750.320207</td>\n",
       "      <td>50.00</td>\n",
       "      <td>175510.60</td>\n",
       "      <td>242868.00</td>\n",
       "      <td>301777.00</td>\n",
       "      <td>670082.00</td>\n",
       "    </tr>\n",
       "  </tbody>\n",
       "</table>\n",
       "</div>"
      ],
      "text/plain": [
       "         count           mean           std    min        25%        50%  \\\n",
       "open    2517.0      81.796207     19.832869  34.36      65.68      82.55   \n",
       "high    2517.0      82.893532     19.961713  36.25      66.56      83.72   \n",
       "low     2517.0      80.582003     19.695067  33.55      64.65      81.25   \n",
       "close   2517.0      81.779758     19.855341  33.98      65.82      82.55   \n",
       "volume  2517.0  241235.096146  96750.320207  50.00  175510.60  242868.00   \n",
       "\n",
       "              75%        max  \n",
       "open        96.90     145.19  \n",
       "high        97.82     147.27  \n",
       "low         95.56     143.22  \n",
       "close       96.92     145.29  \n",
       "volume  301777.00  670082.00  "
      ]
     },
     "execution_count": 7,
     "metadata": {},
     "output_type": "execute_result"
    }
   ],
   "source": [
    "cl.describe().T"
   ]
  },
  {
   "cell_type": "code",
   "execution_count": 8,
   "metadata": {},
   "outputs": [
    {
     "data": {
      "text/html": [
       "<div>\n",
       "<style scoped>\n",
       "    .dataframe tbody tr th:only-of-type {\n",
       "        vertical-align: middle;\n",
       "    }\n",
       "\n",
       "    .dataframe tbody tr th {\n",
       "        vertical-align: top;\n",
       "    }\n",
       "\n",
       "    .dataframe thead th {\n",
       "        text-align: right;\n",
       "    }\n",
       "</style>\n",
       "<table border=\"1\" class=\"dataframe\">\n",
       "  <thead>\n",
       "    <tr style=\"text-align: right;\">\n",
       "      <th></th>\n",
       "      <th>open</th>\n",
       "      <th>high</th>\n",
       "      <th>low</th>\n",
       "      <th>close</th>\n",
       "      <th>volume</th>\n",
       "    </tr>\n",
       "    <tr>\n",
       "      <th>Date</th>\n",
       "      <th></th>\n",
       "      <th></th>\n",
       "      <th></th>\n",
       "      <th></th>\n",
       "      <th></th>\n",
       "    </tr>\n",
       "  </thead>\n",
       "  <tbody>\n",
       "    <tr>\n",
       "      <th>2005-01-03</th>\n",
       "      <td>43.10</td>\n",
       "      <td>43.10</td>\n",
       "      <td>41.25</td>\n",
       "      <td>42.12</td>\n",
       "      <td>69484.0</td>\n",
       "    </tr>\n",
       "    <tr>\n",
       "      <th>2005-01-04</th>\n",
       "      <td>42.18</td>\n",
       "      <td>44.13</td>\n",
       "      <td>41.85</td>\n",
       "      <td>43.91</td>\n",
       "      <td>100665.0</td>\n",
       "    </tr>\n",
       "    <tr>\n",
       "      <th>2005-01-05</th>\n",
       "      <td>43.90</td>\n",
       "      <td>44.00</td>\n",
       "      <td>42.60</td>\n",
       "      <td>43.39</td>\n",
       "      <td>91011.0</td>\n",
       "    </tr>\n",
       "    <tr>\n",
       "      <th>2005-01-06</th>\n",
       "      <td>43.39</td>\n",
       "      <td>45.75</td>\n",
       "      <td>42.80</td>\n",
       "      <td>45.56</td>\n",
       "      <td>122411.0</td>\n",
       "    </tr>\n",
       "    <tr>\n",
       "      <th>2005-01-07</th>\n",
       "      <td>45.50</td>\n",
       "      <td>46.10</td>\n",
       "      <td>44.75</td>\n",
       "      <td>45.43</td>\n",
       "      <td>99725.0</td>\n",
       "    </tr>\n",
       "  </tbody>\n",
       "</table>\n",
       "</div>"
      ],
      "text/plain": [
       "             open   high    low  close    volume\n",
       "Date                                            \n",
       "2005-01-03  43.10  43.10  41.25  42.12   69484.0\n",
       "2005-01-04  42.18  44.13  41.85  43.91  100665.0\n",
       "2005-01-05  43.90  44.00  42.60  43.39   91011.0\n",
       "2005-01-06  43.39  45.75  42.80  45.56  122411.0\n",
       "2005-01-07  45.50  46.10  44.75  45.43   99725.0"
      ]
     },
     "execution_count": 8,
     "metadata": {},
     "output_type": "execute_result"
    }
   ],
   "source": [
    "cl.head()"
   ]
  },
  {
   "cell_type": "markdown",
   "metadata": {},
   "source": [
    "Now we have the data from quandl broken down into specific products and we have the columns we are interested in as well as a datetime object as an index.  Next we will do the same thing with the data from the [Cryptocompare API](https://www.cryptocompare.com/api/)."
   ]
  },
  {
   "cell_type": "markdown",
   "metadata": {},
   "source": [
    "First step here will be do define the url and parameters we need.  This information can be gathered by reading through the documentation.  \n",
    "\n",
    "Again we need to create a list of symbol names to use as arguments when calling the API.\n",
    "\n",
    "Then we do a `get` request using the `requests` library, loop through the symbols list and do some manipulation to the final dataframe.  \n",
    "\n",
    "When this is all done we can just append the df to our prod_dict to put them all together."
   ]
  },
  {
   "cell_type": "code",
   "execution_count": 12,
   "metadata": {},
   "outputs": [],
   "source": [
    "# Cryptocompare API url\n",
    "url = 'https://min-api.cryptocompare.com/data/histoday'\n",
    "\n",
    "# List of cryptocurrencies to gather data for\n",
    "symbol_list = ['BTC', 'ETH', 'XRP', 'LTC', 'XLM',\n",
    "               'EOS', 'NEO', 'ADA', 'BCH', 'XMR']\n",
    "\n",
    "# Iterate through the list to create a df for each symbol\n",
    "for symbol in symbol_list:\n",
    "    # Set relevant parameters, currency in USD and limit of 2000 data points\n",
    "    params = {'fsym': symbol, 'tsym': 'USD', 'limit': 2000}\n",
    "    \n",
    "    # Call API and put data into a dataframe\n",
    "    response = requests.get(url, params=params)\n",
    "    data = response.json()['Data']\n",
    "    df = pd.DataFrame(data)\n",
    "    \n",
    "    # Add date column and set to index\n",
    "    df['Date'] = [datetime.date.fromtimestamp(d) for d in df.time]\n",
    "    df = df[['open', 'high', 'low', 'close', 'volumeto', 'Date']]\n",
    "    df.set_index('Date', inplace=True)\n",
    "    \n",
    "    # Rename volumeto column\n",
    "    df.rename(columns={'volumeto': 'volume'}, inplace=True)\n",
    "    \n",
    "    # Append to prod_dict\n",
    "    prod_dict[symbol] = df\n"
   ]
  },
  {
   "cell_type": "markdown",
   "metadata": {},
   "source": [
    "Now all the products we are interested in are in the dictionary."
   ]
  },
  {
   "cell_type": "code",
   "execution_count": 15,
   "metadata": {},
   "outputs": [
    {
     "data": {
      "text/plain": [
       "dict_keys(['CL', 'HO', 'NG', 'GC', 'SI', 'AD', 'CD', 'EC', 'BP', 'JY', 'US', 'C', 'W', 'S', 'ES', 'BTC', 'ETH', 'XRP', 'LTC', 'XLM', 'EOS', 'NEO', 'ADA', 'BCH', 'XMR'])"
      ]
     },
     "execution_count": 15,
     "metadata": {},
     "output_type": "execute_result"
    }
   ],
   "source": [
    "prod_dict.keys()"
   ]
  },
  {
   "cell_type": "markdown",
   "metadata": {},
   "source": [
    "And just like before we can take a look at one of the new products to see that the information is in the same format.  Lets look at Bitcoin."
   ]
  },
  {
   "cell_type": "code",
   "execution_count": 16,
   "metadata": {},
   "outputs": [
    {
     "name": "stdout",
     "output_type": "stream",
     "text": [
      "<class 'pandas.core.frame.DataFrame'>\n",
      "Index: 2001 entries, 2012-10-08 to 2018-03-31\n",
      "Data columns (total 5 columns):\n",
      "open      2001 non-null float64\n",
      "high      2001 non-null float64\n",
      "low       2001 non-null float64\n",
      "close     2001 non-null float64\n",
      "volume    2001 non-null float64\n",
      "dtypes: float64(5)\n",
      "memory usage: 93.8+ KB\n"
     ]
    }
   ],
   "source": [
    "btc = prod_dict['BTC']\n",
    "btc.info()"
   ]
  },
  {
   "cell_type": "code",
   "execution_count": 17,
   "metadata": {},
   "outputs": [
    {
     "data": {
      "text/html": [
       "<div>\n",
       "<style scoped>\n",
       "    .dataframe tbody tr th:only-of-type {\n",
       "        vertical-align: middle;\n",
       "    }\n",
       "\n",
       "    .dataframe tbody tr th {\n",
       "        vertical-align: top;\n",
       "    }\n",
       "\n",
       "    .dataframe thead th {\n",
       "        text-align: right;\n",
       "    }\n",
       "</style>\n",
       "<table border=\"1\" class=\"dataframe\">\n",
       "  <thead>\n",
       "    <tr style=\"text-align: right;\">\n",
       "      <th></th>\n",
       "      <th>count</th>\n",
       "      <th>mean</th>\n",
       "      <th>std</th>\n",
       "      <th>min</th>\n",
       "      <th>25%</th>\n",
       "      <th>50%</th>\n",
       "      <th>75%</th>\n",
       "      <th>max</th>\n",
       "    </tr>\n",
       "  </thead>\n",
       "  <tbody>\n",
       "    <tr>\n",
       "      <th>open</th>\n",
       "      <td>2001.0</td>\n",
       "      <td>1.483754e+03</td>\n",
       "      <td>2.989586e+03</td>\n",
       "      <td>10.17</td>\n",
       "      <td>235.82</td>\n",
       "      <td>442.63</td>\n",
       "      <td>893.75</td>\n",
       "      <td>1.934660e+04</td>\n",
       "    </tr>\n",
       "    <tr>\n",
       "      <th>high</th>\n",
       "      <td>2001.0</td>\n",
       "      <td>1.543917e+03</td>\n",
       "      <td>3.128966e+03</td>\n",
       "      <td>10.65</td>\n",
       "      <td>240.00</td>\n",
       "      <td>452.64</td>\n",
       "      <td>919.32</td>\n",
       "      <td>1.987062e+04</td>\n",
       "    </tr>\n",
       "    <tr>\n",
       "      <th>low</th>\n",
       "      <td>2001.0</td>\n",
       "      <td>1.413044e+03</td>\n",
       "      <td>2.807586e+03</td>\n",
       "      <td>9.74</td>\n",
       "      <td>231.73</td>\n",
       "      <td>430.89</td>\n",
       "      <td>845.87</td>\n",
       "      <td>1.875091e+04</td>\n",
       "    </tr>\n",
       "    <tr>\n",
       "      <th>close</th>\n",
       "      <td>2001.0</td>\n",
       "      <td>1.487144e+03</td>\n",
       "      <td>2.991748e+03</td>\n",
       "      <td>10.17</td>\n",
       "      <td>235.83</td>\n",
       "      <td>442.66</td>\n",
       "      <td>894.16</td>\n",
       "      <td>1.934549e+04</td>\n",
       "    </tr>\n",
       "    <tr>\n",
       "      <th>volume</th>\n",
       "      <td>2001.0</td>\n",
       "      <td>1.691150e+08</td>\n",
       "      <td>4.809417e+08</td>\n",
       "      <td>109479.89</td>\n",
       "      <td>3945752.94</td>\n",
       "      <td>15315755.66</td>\n",
       "      <td>47619189.45</td>\n",
       "      <td>6.245732e+09</td>\n",
       "    </tr>\n",
       "  </tbody>\n",
       "</table>\n",
       "</div>"
      ],
      "text/plain": [
       "         count          mean           std        min         25%  \\\n",
       "open    2001.0  1.483754e+03  2.989586e+03      10.17      235.82   \n",
       "high    2001.0  1.543917e+03  3.128966e+03      10.65      240.00   \n",
       "low     2001.0  1.413044e+03  2.807586e+03       9.74      231.73   \n",
       "close   2001.0  1.487144e+03  2.991748e+03      10.17      235.83   \n",
       "volume  2001.0  1.691150e+08  4.809417e+08  109479.89  3945752.94   \n",
       "\n",
       "                50%          75%           max  \n",
       "open         442.63       893.75  1.934660e+04  \n",
       "high         452.64       919.32  1.987062e+04  \n",
       "low          430.89       845.87  1.875091e+04  \n",
       "close        442.66       894.16  1.934549e+04  \n",
       "volume  15315755.66  47619189.45  6.245732e+09  "
      ]
     },
     "execution_count": 17,
     "metadata": {},
     "output_type": "execute_result"
    }
   ],
   "source": [
    "btc.describe().T"
   ]
  },
  {
   "cell_type": "code",
   "execution_count": 18,
   "metadata": {},
   "outputs": [
    {
     "data": {
      "text/html": [
       "<div>\n",
       "<style scoped>\n",
       "    .dataframe tbody tr th:only-of-type {\n",
       "        vertical-align: middle;\n",
       "    }\n",
       "\n",
       "    .dataframe tbody tr th {\n",
       "        vertical-align: top;\n",
       "    }\n",
       "\n",
       "    .dataframe thead th {\n",
       "        text-align: right;\n",
       "    }\n",
       "</style>\n",
       "<table border=\"1\" class=\"dataframe\">\n",
       "  <thead>\n",
       "    <tr style=\"text-align: right;\">\n",
       "      <th></th>\n",
       "      <th>open</th>\n",
       "      <th>high</th>\n",
       "      <th>low</th>\n",
       "      <th>close</th>\n",
       "      <th>volume</th>\n",
       "    </tr>\n",
       "    <tr>\n",
       "      <th>Date</th>\n",
       "      <th></th>\n",
       "      <th></th>\n",
       "      <th></th>\n",
       "      <th></th>\n",
       "      <th></th>\n",
       "    </tr>\n",
       "  </thead>\n",
       "  <tbody>\n",
       "    <tr>\n",
       "      <th>2012-10-08</th>\n",
       "      <td>11.78</td>\n",
       "      <td>12.35</td>\n",
       "      <td>11.57</td>\n",
       "      <td>11.90</td>\n",
       "      <td>559694.91</td>\n",
       "    </tr>\n",
       "    <tr>\n",
       "      <th>2012-10-09</th>\n",
       "      <td>11.90</td>\n",
       "      <td>12.19</td>\n",
       "      <td>11.77</td>\n",
       "      <td>12.12</td>\n",
       "      <td>333351.59</td>\n",
       "    </tr>\n",
       "    <tr>\n",
       "      <th>2012-10-10</th>\n",
       "      <td>12.12</td>\n",
       "      <td>12.15</td>\n",
       "      <td>11.86</td>\n",
       "      <td>12.03</td>\n",
       "      <td>238483.07</td>\n",
       "    </tr>\n",
       "    <tr>\n",
       "      <th>2012-10-11</th>\n",
       "      <td>12.03</td>\n",
       "      <td>12.15</td>\n",
       "      <td>11.92</td>\n",
       "      <td>12.00</td>\n",
       "      <td>259522.53</td>\n",
       "    </tr>\n",
       "    <tr>\n",
       "      <th>2012-10-12</th>\n",
       "      <td>12.00</td>\n",
       "      <td>12.11</td>\n",
       "      <td>11.85</td>\n",
       "      <td>11.86</td>\n",
       "      <td>141870.31</td>\n",
       "    </tr>\n",
       "  </tbody>\n",
       "</table>\n",
       "</div>"
      ],
      "text/plain": [
       "             open   high    low  close     volume\n",
       "Date                                             \n",
       "2012-10-08  11.78  12.35  11.57  11.90  559694.91\n",
       "2012-10-09  11.90  12.19  11.77  12.12  333351.59\n",
       "2012-10-10  12.12  12.15  11.86  12.03  238483.07\n",
       "2012-10-11  12.03  12.15  11.92  12.00  259522.53\n",
       "2012-10-12  12.00  12.11  11.85  11.86  141870.31"
      ]
     },
     "execution_count": 18,
     "metadata": {},
     "output_type": "execute_result"
    }
   ],
   "source": [
    "btc.head()"
   ]
  },
  {
   "cell_type": "markdown",
   "metadata": {},
   "source": [
    "With all the data now collected and stored in a dictionary we want to create a SQL schema to store the data locally.  I chose to use a **3 table schema** with one table, **Data**, keeping track of my data sources, **Symbols** housing all the product symbols with some product specific information, and finally **Daily_Prices** which holds all the daily price and volume information.  \n",
    "\n",
    "The **Symbols** table links to the **Data** table on an id and the **Daily_Prices** table links to the **Symbols** table on the symbol name."
   ]
  },
  {
   "cell_type": "markdown",
   "metadata": {},
   "source": [
    "Here is the creation of the three tables, starting with **Data**"
   ]
  },
  {
   "cell_type": "code",
   "execution_count": 19,
   "metadata": {
    "collapsed": true
   },
   "outputs": [],
   "source": [
    "# SQLite file name to store database\n",
    "sqlite_file = 'securities_master_db.sqlite'\n",
    "\n",
    "# DATA TABLE\n",
    "table_name = 'Data'\n",
    "id_col = 'id'\n",
    "name_col = 'name'\n",
    "url_col = 'url'\n",
    "dtype_int = 'INTEGER'\n",
    "dtype_text = 'TEXT'\n",
    "\n",
    "# Connect to the database file\n",
    "conn = sqlite3.connect(sqlite_file)\n",
    "c = conn.cursor()\n",
    "\n",
    "# Create a new table with 3 columns\n",
    "c.execute('CREATE TABLE {tn} ({ic} {dti} PRIMARY KEY, {nc} {dtt}, {uc} {dtt})'\\\n",
    "          .format(tn=table_name, ic=id_col, dti=dtype_int, nc=name_col, dtt=dtype_text, uc=url_col))\n",
    "\n",
    "# Commit changes and close\n",
    "conn.commit()\n",
    "conn.close()"
   ]
  },
  {
   "cell_type": "markdown",
   "metadata": {},
   "source": [
    "With the table created, I chose to manually add the data sources since there are only three."
   ]
  },
  {
   "cell_type": "code",
   "execution_count": 20,
   "metadata": {
    "collapsed": true
   },
   "outputs": [],
   "source": [
    "# Connect to database file\n",
    "conn = sqlite3.connect(sqlite_file)\n",
    "c = conn.cursor()\n",
    "\n",
    "# Add value for Cryptocompare to Data table\n",
    "c.execute(\"INSERT INTO {tn} ({ic}, {nc}, {uc}) VALUES (1, 'Cryptocompare', 'https://min-api.cryptocompare.com')\"\\\n",
    "          .format(tn=table_name, ic=id_col, nc=name_col, uc=url_col))\n",
    "\n",
    "# Add value for Quandl to Data table\n",
    "c.execute(\"INSERT INTO {tn} ({ic}, {nc}, {uc}) VALUES (2, 'Quandl', 'https://docs.quandl.com')\"\\\n",
    "          .format(tn=table_name, ic=id_col, nc=name_col, uc=url_col))\n",
    "\n",
    "# Add value for Quantopian to Data table\n",
    "c.execute(\"INSERT INTO {tn} ({ic}, {nc}, {uc}) VALUES (3, 'Quantopian', 'https://www.quantopian.com/data')\"\\\n",
    "          .format(tn=table_name, ic=id_col, nc=name_col, uc=url_col))\n",
    "\n",
    "# Commit and close\n",
    "conn.commit()\n",
    "conn.close()"
   ]
  },
  {
   "cell_type": "markdown",
   "metadata": {},
   "source": [
    "Now we will add the **Symbols** table"
   ]
  },
  {
   "cell_type": "code",
   "execution_count": 21,
   "metadata": {
    "collapsed": true
   },
   "outputs": [],
   "source": [
    "# SYMBOLS TABLE\n",
    "# Initialize variables for file name, table, columns, data types\n",
    "table_name = 'Symbols'\n",
    "\n",
    "data_table = 'Data'\n",
    "data_id = 'id'\n",
    "\n",
    "id_col = 'id'\n",
    "data_id_col = 'data_id'\n",
    "symbol_col = 'symbol'\n",
    "name_col = 'name'\n",
    "sector_col = 'sector'\n",
    "exchange_col = 'exchange'\n",
    "dtype_int = 'INTEGER'\n",
    "dtype_text = 'TEXT'\n",
    "\n",
    "# Connect to the database file\n",
    "conn = sqlite3.connect(sqlite_file)\n",
    "c = conn.cursor()\n",
    "\n",
    "# Create a new table with 3 columns\n",
    "c.execute('CREATE TABLE {tn} ({ic} {dti} PRIMARY KEY,\\\n",
    "                              {dc} {dti},\\\n",
    "                              {sc} {dtt},\\\n",
    "                              {nc} {dtt},\\\n",
    "                              {sec} {dtt},\\\n",
    "                              {ec} {dtt},\\\n",
    "                              FOREIGN KEY ({dc}) REFERENCES {dt} ({dic}))'\\\n",
    "         .format(tn=table_name, ic=id_col, dti=dtype_int, dc=data_id_col, sc=symbol_col,\\\n",
    "                 dtt=dtype_text, nc=name_col, sec=sector_col, ec=exchange_col,\\\n",
    "                 dt=data_table, dic=data_id))\n",
    "\n",
    "# Commit changes and close\n",
    "conn.commit()\n",
    "conn.close()"
   ]
  },
  {
   "cell_type": "markdown",
   "metadata": {},
   "source": [
    "Now that we have the **Symbols** table we can insert the information.  I chose to add some information about each product that I thought would be interesting for later analysis.  The following dictionary maps all the *products* to a `list` of information about that product including *data source, name, sector, exchange*."
   ]
  },
  {
   "cell_type": "code",
   "execution_count": 23,
   "metadata": {
    "collapsed": true
   },
   "outputs": [],
   "source": [
    "# Dict of all products with maps to data_id, name, sector, and exchange\n",
    "products = {'CL': [2, 'Crude', 'Energy', 'CME'],\n",
    "            'HO': [2, 'HeatOil', 'Energy', 'CME'],\n",
    "            'NG': [2, 'NatGas', 'Energy', 'CME'],\n",
    "            'GC': [2, 'Gold', 'Metals', 'CME'],\n",
    "            'SI': [2, 'Silver', 'Metals', 'CME'],\n",
    "            'AD': [2, 'Aussie', 'Forex', 'CME'],\n",
    "            'CD': [2, 'Canadien', 'Forex', 'CME'],\n",
    "            'EC': [2, 'Euro', 'Forex', 'CME'],\n",
    "            'BP': [2, 'Pound', 'Forex', 'CME'],\n",
    "            'JY': [2, 'Yen', 'Forex', 'CME'],\n",
    "            'US': [2, '30-yr', 'Treasuries', 'CME'],\n",
    "            'C': [2, 'Corn', 'Grains', 'CME'],\n",
    "            'W': [2, 'Wheat', 'Grains', 'CME'],\n",
    "            'S': [2, 'Soybeans', 'Grains', 'CME'],\n",
    "            'ES': [2, 'E-mini', 'Indexes', 'CME'],\n",
    "            'BTC': [1, 'Bitcoin', 'Cryptocurrency', 'CCAgg'],\n",
    "            'ETH': [1, 'Ethereum', 'Cryptocurrency', 'CCAgg'],\n",
    "            'XRP': [1, 'Ripple', 'Cryptocurrency', 'CCAgg'],\n",
    "            'BCH': [1, 'BitcoinCash', 'Cryptocurrency', 'CCAgg'],\n",
    "            'LTC': [1, 'Litecoin', 'Cryptocurrency', 'CCAgg'],\n",
    "            'ADA': [1, 'Cardano', 'Cryptocurrency', 'CCAgg'],\n",
    "            'NEO': [1, 'Neo', 'Cryptocurrency', 'CCAgg'],\n",
    "            'XLM': [1, 'Stellar', 'Cryptocurrency', 'CCAgg'],\n",
    "            'EOS': [1, 'EOS', 'Cryptocurrency', 'CCAgg'],\n",
    "            'XMR': [1, 'Monero', 'Cryptocurrency', 'CCAgg'],}"
   ]
  },
  {
   "cell_type": "markdown",
   "metadata": {},
   "source": [
    "Here is the code to insert the information into the **Symbols** table"
   ]
  },
  {
   "cell_type": "code",
   "execution_count": 25,
   "metadata": {},
   "outputs": [],
   "source": [
    "# Create the column name list for database insertion\n",
    "table_name = 'Symbols'\n",
    "cols = ['data_id', 'symbol', 'name', 'sector', 'exchange']\n",
    "\n",
    "# Open a connection to the database\n",
    "conn = sqlite3.connect(sqlite_file)\n",
    "c = conn.cursor()\n",
    "\n",
    "# Iterate through all symbols of product_dict\n",
    "for symbol, s_info in products.items():\n",
    "    # Set params and insert row into database\n",
    "    params = (s_info[0], symbol, s_info[1], s_info[2], s_info[3])\n",
    "    c.execute(\"INSERT INTO {tn} ({c0}, {c1}, {c2}, {c3}, {c4}) VALUES (?, ?, ?, ?, ?)\"\\\n",
    "            .format(tn=table_name, c0=cols[0], c1=cols[1], c2=cols[2],\\\n",
    "            c3=cols[3], c4=cols[4]), params)\n",
    "    \n",
    "# Close connection to database\n",
    "conn.commit()\n",
    "conn.close()"
   ]
  },
  {
   "cell_type": "markdown",
   "metadata": {},
   "source": [
    "And finally the **Daily_Prices** table"
   ]
  },
  {
   "cell_type": "code",
   "execution_count": 22,
   "metadata": {
    "collapsed": true
   },
   "outputs": [],
   "source": [
    "# DAILY_PRICES TABLE\n",
    "# Initialize variables for file name, table, columns, data types\n",
    "table_name = 'Daily_Prices'\n",
    "symbols_table = 'Symbols'\n",
    "\n",
    "id_col = 'id'\n",
    "data_id_col = 'data_id'\n",
    "symbol_col = 'symbol'\n",
    "date_col = 'date'\n",
    "open_col = 'open'\n",
    "high_col = 'high'\n",
    "low_col = 'low'\n",
    "close_col = 'close'\n",
    "volume_col = 'volume'\n",
    "\n",
    "dtype_int = 'INTEGER'\n",
    "dtype_text = 'TEXT'\n",
    "dtype_real = 'REAL'\n",
    "\n",
    "# Connect to the database file\n",
    "conn = sqlite3.connect(sqlite_file)\n",
    "c = conn.cursor()\n",
    "\n",
    "# Create a new table with 3 columns\n",
    "c.execute('CREATE TABLE {tn} ({ic} {dti} PRIMARY KEY,\\\n",
    "                              {dc} {dti},\\\n",
    "                              {sc} {dtt},\\\n",
    "                              {dtc} {dtt},\\\n",
    "                              {oc} {dtr},\\\n",
    "                              {hc} {dtr},\\\n",
    "                              {lc} {dtr},\\\n",
    "                              {cc} {dtr},\\\n",
    "                              {vc} {dti},\\\n",
    "                              FOREIGN KEY ({sc}) REFERENCES {st} ({sc}))'\\\n",
    "         .format(tn=table_name, ic=id_col, dti=dtype_int, dc=data_id_col, sc=symbol_col,\\\n",
    "                 dtt=dtype_text, dtc=date_col, oc=open_col, dtr=dtype_real, hc=high_col,\\\n",
    "                 lc=low_col, cc=close_col, vc=volume_col, st=symbols_table))\n",
    "\n",
    "# Commit changes and close\n",
    "conn.commit()\n",
    "conn.close()"
   ]
  },
  {
   "cell_type": "markdown",
   "metadata": {},
   "source": [
    "We will hold off on inserting the price data into the table right now because it needs to be cleane"
   ]
  }
 ],
 "metadata": {
  "kernelspec": {
   "display_name": "Python 3",
   "language": "python",
   "name": "python3"
  },
  "language_info": {
   "codemirror_mode": {
    "name": "ipython",
    "version": 3
   },
   "file_extension": ".py",
   "mimetype": "text/x-python",
   "name": "python",
   "nbconvert_exporter": "python",
   "pygments_lexer": "ipython3",
   "version": "3.6.3"
  }
 },
 "nbformat": 4,
 "nbformat_minor": 2
}
