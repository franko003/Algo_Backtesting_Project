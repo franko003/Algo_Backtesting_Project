{
 "cells": [
  {
   "cell_type": "markdown",
   "metadata": {},
   "source": [
    "## Price_Indicator_Analysis_MVP"
   ]
  },
  {
   "cell_type": "markdown",
   "metadata": {},
   "source": [
    "Analysis of common technical analysis indicators on daily price data for different products."
   ]
  },
  {
   "cell_type": "markdown",
   "metadata": {},
   "source": [
    "### Data Collection"
   ]
  },
  {
   "cell_type": "code",
   "execution_count": 1,
   "metadata": {
    "collapsed": true
   },
   "outputs": [],
   "source": [
    "import pandas as pd\n",
    "import numpy as np\n",
    "\n",
    "import requests\n",
    "import json\n",
    "import quandl\n",
    "\n",
    "import datetime\n",
    "\n",
    "import matplotlib.pyplot as plt\n",
    "\n",
    "import sqlite3\n",
    "\n",
    "% matplotlib inline"
   ]
  },
  {
   "cell_type": "markdown",
   "metadata": {},
   "source": [
    "The first step will be to get data from the [quandl API](https://www.quandl.com/collections/futures).  For this we use an api key generated from signing up for a free quandl account.\n",
    "\n",
    "We create a list of the symbols for the products we are interested in, which can be found by looking at the [documentation](https://docs.quandl.com/).\n",
    "\n",
    "Then loop through the products, read the price data into a dataframe, and attach the symbol:dataframe key:value pair to a dictionary object, after selecting the specific information we need."
   ]
  },
  {
   "cell_type": "code",
   "execution_count": 3,
   "metadata": {},
   "outputs": [],
   "source": [
    "# Get data from Quandl with api key\n",
    "api_key = 'Hv95pPh1xQWzt5DFhxS7'\n",
    "\n",
    "# Create list of symbols for the products we want data for\n",
    "prod_list = ['CL', 'HO', 'NG', 'GC',\n",
    "             'SI', 'AD', 'CD', 'EC',\n",
    "             'BP', 'JY', 'US', 'C',\n",
    "             'W', 'S', 'ES']\n",
    "\n",
    "# Create a dict with keys as symbols and values as dataframe of price info\n",
    "prod_dict = {}\n",
    "\n",
    "# Iterate through list of prods and add data to dict\n",
    "for prod in prod_list:\n",
    "    # Quandl API call\n",
    "    df = quandl.get('SCF/CME_{p}1_FW'.format(p=prod), authtoken=api_key)\n",
    "    \n",
    "    # Drop open interest column and rename Settle column\n",
    "    df.drop(['Prev. Day Open Interest'], axis=1, inplace=True)\n",
    "    df.rename(columns={'Open': 'open',\n",
    "                      'High': 'high',\n",
    "                      'Low': 'low',\n",
    "                      'Settle': 'close',\n",
    "                      'Volume': 'volume'}, inplace=True)\n",
    "    # Add prod to dict\n",
    "    prod_dict[prod] = df"
   ]
  },
  {
   "cell_type": "markdown",
   "metadata": {},
   "source": [
    "Here is some summary information of the Crude Oil ('CL') dataframe"
   ]
  },
  {
   "cell_type": "code",
   "execution_count": 6,
   "metadata": {},
   "outputs": [
    {
     "name": "stdout",
     "output_type": "stream",
     "text": [
      "<class 'pandas.core.frame.DataFrame'>\n",
      "DatetimeIndex: 2517 entries, 2005-01-03 to 2014-12-31\n",
      "Data columns (total 5 columns):\n",
      "open      2517 non-null float64\n",
      "high      2517 non-null float64\n",
      "low       2517 non-null float64\n",
      "close     2517 non-null float64\n",
      "volume    2517 non-null float64\n",
      "dtypes: float64(5)\n",
      "memory usage: 118.0 KB\n"
     ]
    }
   ],
   "source": [
    "cl = prod_dict['CL']\n",
    "cl.info()"
   ]
  },
  {
   "cell_type": "code",
   "execution_count": 7,
   "metadata": {},
   "outputs": [
    {
     "data": {
      "text/html": [
       "<div>\n",
       "<style scoped>\n",
       "    .dataframe tbody tr th:only-of-type {\n",
       "        vertical-align: middle;\n",
       "    }\n",
       "\n",
       "    .dataframe tbody tr th {\n",
       "        vertical-align: top;\n",
       "    }\n",
       "\n",
       "    .dataframe thead th {\n",
       "        text-align: right;\n",
       "    }\n",
       "</style>\n",
       "<table border=\"1\" class=\"dataframe\">\n",
       "  <thead>\n",
       "    <tr style=\"text-align: right;\">\n",
       "      <th></th>\n",
       "      <th>count</th>\n",
       "      <th>mean</th>\n",
       "      <th>std</th>\n",
       "      <th>min</th>\n",
       "      <th>25%</th>\n",
       "      <th>50%</th>\n",
       "      <th>75%</th>\n",
       "      <th>max</th>\n",
       "    </tr>\n",
       "  </thead>\n",
       "  <tbody>\n",
       "    <tr>\n",
       "      <th>open</th>\n",
       "      <td>2517.0</td>\n",
       "      <td>81.796207</td>\n",
       "      <td>19.832869</td>\n",
       "      <td>34.36</td>\n",
       "      <td>65.68</td>\n",
       "      <td>82.55</td>\n",
       "      <td>96.90</td>\n",
       "      <td>145.19</td>\n",
       "    </tr>\n",
       "    <tr>\n",
       "      <th>high</th>\n",
       "      <td>2517.0</td>\n",
       "      <td>82.893532</td>\n",
       "      <td>19.961713</td>\n",
       "      <td>36.25</td>\n",
       "      <td>66.56</td>\n",
       "      <td>83.72</td>\n",
       "      <td>97.82</td>\n",
       "      <td>147.27</td>\n",
       "    </tr>\n",
       "    <tr>\n",
       "      <th>low</th>\n",
       "      <td>2517.0</td>\n",
       "      <td>80.582003</td>\n",
       "      <td>19.695067</td>\n",
       "      <td>33.55</td>\n",
       "      <td>64.65</td>\n",
       "      <td>81.25</td>\n",
       "      <td>95.56</td>\n",
       "      <td>143.22</td>\n",
       "    </tr>\n",
       "    <tr>\n",
       "      <th>close</th>\n",
       "      <td>2517.0</td>\n",
       "      <td>81.779758</td>\n",
       "      <td>19.855341</td>\n",
       "      <td>33.98</td>\n",
       "      <td>65.82</td>\n",
       "      <td>82.55</td>\n",
       "      <td>96.92</td>\n",
       "      <td>145.29</td>\n",
       "    </tr>\n",
       "    <tr>\n",
       "      <th>volume</th>\n",
       "      <td>2517.0</td>\n",
       "      <td>241235.096146</td>\n",
       "      <td>96750.320207</td>\n",
       "      <td>50.00</td>\n",
       "      <td>175510.60</td>\n",
       "      <td>242868.00</td>\n",
       "      <td>301777.00</td>\n",
       "      <td>670082.00</td>\n",
       "    </tr>\n",
       "  </tbody>\n",
       "</table>\n",
       "</div>"
      ],
      "text/plain": [
       "         count           mean           std    min        25%        50%  \\\n",
       "open    2517.0      81.796207     19.832869  34.36      65.68      82.55   \n",
       "high    2517.0      82.893532     19.961713  36.25      66.56      83.72   \n",
       "low     2517.0      80.582003     19.695067  33.55      64.65      81.25   \n",
       "close   2517.0      81.779758     19.855341  33.98      65.82      82.55   \n",
       "volume  2517.0  241235.096146  96750.320207  50.00  175510.60  242868.00   \n",
       "\n",
       "              75%        max  \n",
       "open        96.90     145.19  \n",
       "high        97.82     147.27  \n",
       "low         95.56     143.22  \n",
       "close       96.92     145.29  \n",
       "volume  301777.00  670082.00  "
      ]
     },
     "execution_count": 7,
     "metadata": {},
     "output_type": "execute_result"
    }
   ],
   "source": [
    "cl.describe().T"
   ]
  },
  {
   "cell_type": "code",
   "execution_count": 8,
   "metadata": {},
   "outputs": [
    {
     "data": {
      "text/html": [
       "<div>\n",
       "<style scoped>\n",
       "    .dataframe tbody tr th:only-of-type {\n",
       "        vertical-align: middle;\n",
       "    }\n",
       "\n",
       "    .dataframe tbody tr th {\n",
       "        vertical-align: top;\n",
       "    }\n",
       "\n",
       "    .dataframe thead th {\n",
       "        text-align: right;\n",
       "    }\n",
       "</style>\n",
       "<table border=\"1\" class=\"dataframe\">\n",
       "  <thead>\n",
       "    <tr style=\"text-align: right;\">\n",
       "      <th></th>\n",
       "      <th>open</th>\n",
       "      <th>high</th>\n",
       "      <th>low</th>\n",
       "      <th>close</th>\n",
       "      <th>volume</th>\n",
       "    </tr>\n",
       "    <tr>\n",
       "      <th>Date</th>\n",
       "      <th></th>\n",
       "      <th></th>\n",
       "      <th></th>\n",
       "      <th></th>\n",
       "      <th></th>\n",
       "    </tr>\n",
       "  </thead>\n",
       "  <tbody>\n",
       "    <tr>\n",
       "      <th>2005-01-03</th>\n",
       "      <td>43.10</td>\n",
       "      <td>43.10</td>\n",
       "      <td>41.25</td>\n",
       "      <td>42.12</td>\n",
       "      <td>69484.0</td>\n",
       "    </tr>\n",
       "    <tr>\n",
       "      <th>2005-01-04</th>\n",
       "      <td>42.18</td>\n",
       "      <td>44.13</td>\n",
       "      <td>41.85</td>\n",
       "      <td>43.91</td>\n",
       "      <td>100665.0</td>\n",
       "    </tr>\n",
       "    <tr>\n",
       "      <th>2005-01-05</th>\n",
       "      <td>43.90</td>\n",
       "      <td>44.00</td>\n",
       "      <td>42.60</td>\n",
       "      <td>43.39</td>\n",
       "      <td>91011.0</td>\n",
       "    </tr>\n",
       "    <tr>\n",
       "      <th>2005-01-06</th>\n",
       "      <td>43.39</td>\n",
       "      <td>45.75</td>\n",
       "      <td>42.80</td>\n",
       "      <td>45.56</td>\n",
       "      <td>122411.0</td>\n",
       "    </tr>\n",
       "    <tr>\n",
       "      <th>2005-01-07</th>\n",
       "      <td>45.50</td>\n",
       "      <td>46.10</td>\n",
       "      <td>44.75</td>\n",
       "      <td>45.43</td>\n",
       "      <td>99725.0</td>\n",
       "    </tr>\n",
       "  </tbody>\n",
       "</table>\n",
       "</div>"
      ],
      "text/plain": [
       "             open   high    low  close    volume\n",
       "Date                                            \n",
       "2005-01-03  43.10  43.10  41.25  42.12   69484.0\n",
       "2005-01-04  42.18  44.13  41.85  43.91  100665.0\n",
       "2005-01-05  43.90  44.00  42.60  43.39   91011.0\n",
       "2005-01-06  43.39  45.75  42.80  45.56  122411.0\n",
       "2005-01-07  45.50  46.10  44.75  45.43   99725.0"
      ]
     },
     "execution_count": 8,
     "metadata": {},
     "output_type": "execute_result"
    }
   ],
   "source": [
    "cl.head()"
   ]
  },
  {
   "cell_type": "code",
   "execution_count": null,
   "metadata": {
    "collapsed": true
   },
   "outputs": [],
   "source": []
  }
 ],
 "metadata": {
  "kernelspec": {
   "display_name": "Python 3",
   "language": "python",
   "name": "python3"
  },
  "language_info": {
   "codemirror_mode": {
    "name": "ipython",
    "version": 3
   },
   "file_extension": ".py",
   "mimetype": "text/x-python",
   "name": "python",
   "nbconvert_exporter": "python",
   "pygments_lexer": "ipython3",
   "version": "3.6.3"
  }
 },
 "nbformat": 4,
 "nbformat_minor": 2
}
