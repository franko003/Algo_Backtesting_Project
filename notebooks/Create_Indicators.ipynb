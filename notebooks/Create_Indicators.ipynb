{
 "cells": [
  {
   "cell_type": "markdown",
   "metadata": {},
   "source": [
    "## This notebook is being used to create different indicator columns to add to the daily_price dataframes"
   ]
  },
  {
   "cell_type": "code",
   "execution_count": 1,
   "metadata": {
    "collapsed": true
   },
   "outputs": [],
   "source": [
    "import requests\n",
    "import pandas as pd\n",
    "import numpy as np\n",
    "import json\n",
    "import datetime\n",
    "import quandl\n",
    "import matplotlib.pyplot as plt\n",
    "import sqlite3\n",
    "\n",
    "% matplotlib inline"
   ]
  },
  {
   "cell_type": "code",
   "execution_count": 2,
   "metadata": {
    "collapsed": true
   },
   "outputs": [],
   "source": [
    "def create_df_crypto(symbol, curr='USD', limit=2000):\n",
    "    ''' This function takes in a symbol of a cryptocurrency to be\n",
    "        used with the Cryptocompare API, and returns a formatted dataframe\n",
    "        for later processing.\n",
    "\n",
    "        Args: symbol - cryptocurrency symbol\n",
    "              curr - currency to report in (default USD)\n",
    "              limit - max number of data points (default 2500)\n",
    "\n",
    "        Return: df - dataframe of daily price info for symbol\n",
    "    '''\n",
    "    # Set url and params for the call to Cryptocompare API\n",
    "    url = 'https://min-api.cryptocompare.com/data/histoday'\n",
    "    params = {'fsym': symbol, 'tsym': curr, 'limit': limit}\n",
    "\n",
    "    # Call API for symbol and put data into pandas dataframe\n",
    "    response = requests.get(url, params=params)\n",
    "    data = response.json()['Data']\n",
    "    df = pd.DataFrame(data)\n",
    "\n",
    "    # Add date column and set to index\n",
    "    df['Date'] =[datetime.date.fromtimestamp(d) for d in df.time]\n",
    "    df = df[['open', 'high', 'low', 'close', 'volumeto', 'Date']]\n",
    "    df.set_index('Date', inplace=True)\n",
    "\n",
    "    # Rename volumeto column\n",
    "    df.rename(columns={'volumeto': 'volume'}, inplace=True)\n",
    "\n",
    "    return df\n",
    "\n",
    "def create_df_quandl(symbol, api_key):\n",
    "    ''' This function takes in a symbol of a futures contract to be used\n",
    "        with the Quandl API as well as the API key, and returns a formatted\n",
    "        dataframe for processing.\n",
    "\n",
    "        Args: symbol - a symbol for a continuous futures contract\n",
    "              api_key - Quandl API key\n",
    "\n",
    "        Return: df - dataframe for daily price info for symbol\n",
    "    '''\n",
    "    # Quandl API call which puts price data into dataframe\n",
    "    df = quandl.get('SCF/CME_{s}1_FW'.format(s=symbol), authtoken=api_key)\n",
    "\n",
    "    # Drop open interest column and rename Settle column\n",
    "    df.drop(['Prev. Day Open Interest'], axis=1, inplace=True)\n",
    "    df.rename(columns={'Open': 'open',\n",
    "                      'High': 'high',\n",
    "                      'Low': 'low',\n",
    "                      'Settle': 'close',\n",
    "                      'Volume': 'volume'}, inplace=True)\n",
    "    return df\n",
    "\n",
    "def clean_df_crypto(df, volume_thresh=1000000):\n",
    "    ''' This function takes in a dataframe and a volume threshold and returns a filtered\n",
    "        dataframe from the first data point that achieves the threshold.  This is written\n",
    "        to be used specifically with the cryptocurrency dataframes.\n",
    "\n",
    "        Args: df - dataframe to be filtered on volume\n",
    "              volume_thresh - min volume to reach before using data in the dataframe\n",
    "\n",
    "        Return df - the filtered dataframe with only points after the volume threshold is hit\n",
    "    '''\n",
    "    # Find start_date and filter df\n",
    "    start_date = df.index[df.volume > volume_thresh].tolist()[0]\n",
    "    df = df[start_date:]\n",
    "\n",
    "    return df\n",
    "\n",
    "def replace_df_zeros(df):\n",
    "    ''' This function takes in a dataframe of price information, finds all zero values\n",
    "        for the 'volume' column and replaces them with the mean volume of the dataset.\n",
    "\n",
    "        Args: df - dataframe of price information\n",
    "\n",
    "        Return: df - cleaned dataframe with no zero volume entries\n",
    "    '''\n",
    "    df['volume'].replace(0.0, df['volume'].mean(), inplace=True)\n",
    "\n",
    "    return df\n",
    "\n",
    "def check_outliers(df):\n",
    "    ''' This function finds all closing price points that are more than 3 stds away from\n",
    "        the mean and plots them on a line graph of all the data.  This can be used to see\n",
    "        if these points are truly outliers.\n",
    "\n",
    "        Args: df - dataframe to be checked for outliers\n",
    "\n",
    "        Return: None - shows a graph of the price data series with annotations for outliers\n",
    "    '''\n",
    "    # Use a copy of the dataframe\n",
    "    cpy = df.copy()\n",
    "    # Create range of values that are more than 3 stds away from mean\n",
    "    cpy['stds_from_mean'] = ((cpy['close'] - cpy['close'].mean()).apply(abs)) / cpy['close'].std()\n",
    "    locs_gt_3std = [cpy.index.get_loc(x) for x in cpy.index[cpy['stds_from_mean'] > 3.0]]\n",
    "\n",
    "    # Plot the price data, highlighting the outliers\n",
    "    plt.figure(figsize=(15,10))\n",
    "    plt.plot(cpy.index, cpy.close, linestyle='solid', markevery=locs_gt_3std,\n",
    "                marker='o', markerfacecolor='r', label='Outliers')\n",
    "\n",
    "    # Apply title, legend and labels\n",
    "    plt.title('Closing Prices')\n",
    "    plt.xlabel('Date')\n",
    "    plt.ylabel('Price')\n",
    "    plt.legend()\n",
    "    plt.grid()\n",
    "\n",
    "    plt.show()\n",
    "\n",
    "    # Print out description\n",
    "    print('Number of data points: {}'.format(len(cpy.index)))\n",
    "    print('Number of outliers: {}'.format(len(locs_gt_3std)))\n",
    "\n",
    "def generate_df_dict(product_dict, api_key=None):\n",
    "    ''' This function takes in a dict of product symbols mapped to\n",
    "        information about the product  and a Quandl API key and returns\n",
    "        a dict object with the symbols as keys and a dataframe of price\n",
    "        info as values.\n",
    "\n",
    "        Args: product_dict - a dict of symbols for products with maps to\n",
    "                             a list of info\n",
    "              api_key - Quandl API key\n",
    "\n",
    "        Return: df_dict - a dictionary of symbols mapped to dataframes\n",
    "                          of price info\n",
    "    '''\n",
    "    df_dict = {}\n",
    "\n",
    "    # Iterate through list\n",
    "    for product, info in product_dict.items():\n",
    "        # Determine what dataframe creator to use\n",
    "        if info[0] == 1:\n",
    "            df = create_df_crypto(product)\n",
    "            df = clean_df_crypto(df)\n",
    "            df = replace_df_zeros(df)\n",
    "        if info[0] == 2:\n",
    "            df = create_df_quandl(product, api_key)\n",
    "            df = replace_df_zeros(df)\n",
    "\n",
    "        df_dict[product] = df\n",
    "\n",
    "    return df_dict\n",
    "\n",
    "def insert_symbols_table(product_dict, sqlite_file, table_name='Symbols'):\n",
    "    ''' This function takes in a dict of product symbols mapped to\n",
    "        information about the product.  It also takes in a sqlite file and then\n",
    "        uses the info to insert all symbols in the dict into the Symbols\n",
    "        table of the database.\n",
    "\n",
    "        Args: product_dict - a dict of symbols for products with maps to\n",
    "                             a list of info\n",
    "              sqlite_file - file for the database to write to\n",
    "              table_name - default to 'Symbols' for this function\n",
    "\n",
    "        Return: None - nothing explicit but inserts info into the database\n",
    "    '''\n",
    "    # Create the column name list for database insertion\n",
    "    cols = ['data_id', 'symbol', 'name', 'sector', 'exchange']\n",
    "\n",
    "    # Open a connection to the database\n",
    "    conn = sqlite3.connect(sqlite_file)\n",
    "    c = conn.cursor()\n",
    "\n",
    "    # Iterate through all symbols of product_dict\n",
    "    for symbol, s_info in product_dict.items():\n",
    "        # Set params and insert row into database\n",
    "        params = (s_info[0], symbol, s_info[1], s_info[2], s_info[3])\n",
    "        c.execute(\"INSERT INTO {tn} ({c0}, {c1}, {c2}, {c3}, {c4}) VALUES (?, ?, ?, ?, ?)\"\\\n",
    "            .format(tn=table_name, c0=cols[0], c1=cols[1], c2=cols[2],\\\n",
    "            c3=cols[3], c4=cols[4]), params)\n",
    "\n",
    "    # Close connection to database\n",
    "    conn.commit()\n",
    "    conn.close()\n",
    "\n",
    "def insert_daily_prices_table(product_dict, df_dict, sqlite_file, table_name='Daily_Prices'):\n",
    "    ''' This function takes in a 2 dicts, one with product keys mapping\n",
    "        to info about the product and the other with product keys mapping\n",
    "        to a dataframe a daily price information.  It also takes in a sqlite\n",
    "        file and then uses the info to insert all rows into the Daily_Prices\n",
    "        table of the database.\n",
    "\n",
    "        Args: product_dict - a dict of symbols for products with maps to\n",
    "                             a list of info\n",
    "              df_dict - dict of dataframes with futures symbols and price data\n",
    "              sqlite_file - file for the database to write to\n",
    "              table_name - default to 'Daily_Prices' for this function\n",
    "\n",
    "        Return: None - nothing explicit but inserts info into the database\n",
    "    '''\n",
    "    # Create the column name list for database insertion\n",
    "    cols = ['data_id', 'symbol', 'date', 'open', 'high', 'low', 'close', 'volume']\n",
    "\n",
    "    # Open a connection to the database\n",
    "    conn = sqlite3.connect(sqlite_file)\n",
    "    c = conn.cursor()\n",
    "\n",
    "    # Iterate through all symbols and then the dataframe to get all price data\n",
    "    for symbol, df in df_dict.items():\n",
    "        data_id = product_dict[symbol][0]\n",
    "        for i, row in df.iterrows():\n",
    "            date = i.strftime('%Y-%m-%d')\n",
    "            # Set params and insert row into database\n",
    "            params = (data_id, symbol, date, row.open, row.high, row.low, row.close, row.volume)\n",
    "            c.execute(\"INSERT INTO {tn} ({c0}, {c1}, {c2}, {c3}, {c4}, {c5}, {c6}, {c7}) VALUES (?, ?, ?, ?, ?, ?, ?, ?)\"\\\n",
    "                .format(tn=table_name, c0=cols[0], c1=cols[1], c2=cols[2], c3=cols[3], c4=cols[4],\\\n",
    "                c5=cols[5], c6=cols[6], c7=cols[7]), params)\n",
    "\n",
    "    # Close connection to database\n",
    "    conn.commit()\n",
    "    conn.close()"
   ]
  },
  {
   "cell_type": "code",
   "execution_count": 3,
   "metadata": {
    "collapsed": true
   },
   "outputs": [],
   "source": [
    "# Setting up the products, database and api key\n",
    "# Sqlite3 db info and Quandl key\n",
    "sqlite_file = 'securities_master_db.sqlite'\n",
    "api_key = 'Hv95pPh1xQWzt5DFhxS7'\n",
    "\n",
    "# Dict of all products with maps to data_id, name, sector, and exchange\n",
    "products = {'CL': [2, 'Crude', 'Energy', 'CME'],\n",
    "                'HO': [2, 'HeatOil', 'Energy', 'CME'],\n",
    "                'NG': [2, 'NatGas', 'Energy', 'CME'],\n",
    "                'GC': [2, 'Gold', 'Metals', 'CME'],\n",
    "                'SI': [2, 'Silver', 'Metals', 'CME'],\n",
    "                'AD': [2, 'Aussie', 'Forex', 'CME'],\n",
    "                'CD': [2, 'Canadien', 'Forex', 'CME'],\n",
    "                'EC': [2, 'Euro', 'Forex', 'CME'],\n",
    "                'BP': [2, 'Pound', 'Forex', 'CME'],\n",
    "                'JY': [2, 'Yen', 'Forex', 'CME'],\n",
    "                'US': [2, '30-yr', 'Treasuries', 'CME'],\n",
    "                'C': [2, 'Corn', 'Grains', 'CME'],\n",
    "                'W': [2, 'Wheat', 'Grains', 'CME'],\n",
    "                'S': [2, 'Soybeans', 'Grains', 'CME'],\n",
    "                'ES': [2, 'E-mini', 'Indexes', 'CME'],\n",
    "                'BTC': [1, 'Bitcoin', 'Cryptocurrency', 'CCAgg'],\n",
    "                'ETH': [1, 'Ethereum', 'Cryptocurrency', 'CCAgg'],\n",
    "                'XRP': [1, 'Ripple', 'Cryptocurrency', 'CCAgg'],\n",
    "                'BCH': [1, 'BitcoinCash', 'Cryptocurrency', 'CCAgg'],\n",
    "                'LTC': [1, 'Litecoin', 'Cryptocurrency', 'CCAgg'],\n",
    "                'ADA': [1, 'Cardano', 'Cryptocurrency', 'CCAgg'],\n",
    "                'NEO': [1, 'Neo', 'Cryptocurrency', 'CCAgg'],\n",
    "                'XLM': [1, 'Stellar', 'Cryptocurrency', 'CCAgg'],\n",
    "                'EOS': [1, 'EOS', 'Cryptocurrency', 'CCAgg'],\n",
    "                'XMR': [1, 'Monero', 'Cryptocurrency', 'CCAgg'],}"
   ]
  },
  {
   "cell_type": "code",
   "execution_count": 4,
   "metadata": {
    "collapsed": true
   },
   "outputs": [],
   "source": [
    "df_dict = generate_df_dict(products, api_key)"
   ]
  },
  {
   "cell_type": "code",
   "execution_count": null,
   "metadata": {},
   "outputs": [],
   "source": [
    "cl_df = df_dict['CL']\n",
    "check_outliers(cl_df)"
   ]
  },
  {
   "cell_type": "code",
   "execution_count": null,
   "metadata": {},
   "outputs": [],
   "source": [
    "cl_df['20day_ave_vol'] = cl_df.volume.rolling(window=20, center=False).mean().shift(1)\n",
    "cl_df.tail()"
   ]
  },
  {
   "cell_type": "code",
   "execution_count": null,
   "metadata": {},
   "outputs": [],
   "source": [
    "def vol_bo_long(row):\n",
    "    ''' This is a helper function to determine if a volume breakout long signal has occured.\n",
    "        \n",
    "        Args: row - row of a dataframe to use apply function with\n",
    "        \n",
    "        Return: 1 if signal occured, 0 if not\n",
    "    '''\n",
    "    # Check if today's volume is greater than 200% of 20-day average volume\n",
    "    if row['volume'] > (2 * row['20day_ave_vol']):\n",
    "        # Check if close is above prev day close\n",
    "        if row['close'] > row['high'].shift(1):\n",
    "            return 1\n",
    "    else:\n",
    "        return 0"
   ]
  },
  {
   "cell_type": "code",
   "execution_count": null,
   "metadata": {
    "collapsed": true
   },
   "outputs": [],
   "source": [
    "cl_df['close'] - cl_df['high'].shift()"
   ]
  },
  {
   "cell_type": "code",
   "execution_count": null,
   "metadata": {},
   "outputs": [],
   "source": [
    "cl_df.tail()"
   ]
  },
  {
   "cell_type": "code",
   "execution_count": null,
   "metadata": {},
   "outputs": [],
   "source": [
    "def vol_bo(row):\n",
    "    if row['volume'] > (2 * row['20day_ave_vol']):\n",
    "        return 1\n",
    "    else:\n",
    "        return 0\n",
    "    \n",
    "cl_df['vol_bo'] = cl_df.apply(vol_bo, axis=1)"
   ]
  },
  {
   "cell_type": "code",
   "execution_count": null,
   "metadata": {},
   "outputs": [],
   "source": [
    "cl_df.tail()"
   ]
  },
  {
   "cell_type": "code",
   "execution_count": null,
   "metadata": {},
   "outputs": [],
   "source": [
    "cl_df['close_gt_prev_h'] = cl_df['close'] - cl_df['high'].shift()"
   ]
  },
  {
   "cell_type": "code",
   "execution_count": null,
   "metadata": {
    "collapsed": true
   },
   "outputs": [],
   "source": [
    "cl_df['close_lt_prev_l'] = cl_df['close'] - cl_df['low'].shift()"
   ]
  },
  {
   "cell_type": "code",
   "execution_count": null,
   "metadata": {},
   "outputs": [],
   "source": [
    "cl_df.tail()"
   ]
  },
  {
   "cell_type": "code",
   "execution_count": null,
   "metadata": {
    "collapsed": true
   },
   "outputs": [],
   "source": [
    "def vol_bo_long(row):\n",
    "    if (row['vol_bo'] == 1) and (row['close_gt_prev_h'] > 0.0):\n",
    "        return 1\n",
    "    else:\n",
    "        return 0\n",
    "    \n",
    "cl_df['vol_bo_long'] = cl_df.apply(vol_bo_long, axis=1)"
   ]
  },
  {
   "cell_type": "code",
   "execution_count": null,
   "metadata": {
    "collapsed": true
   },
   "outputs": [],
   "source": [
    "cl_df.tail(20)"
   ]
  },
  {
   "cell_type": "code",
   "execution_count": null,
   "metadata": {
    "collapsed": true
   },
   "outputs": [],
   "source": [
    "def vol_bo_short(row):\n",
    "    if (row['vol_bo'] == 1) and (row['close_lt_prev_l'] < 0.0):\n",
    "        return 1\n",
    "    else:\n",
    "        return 0"
   ]
  },
  {
   "cell_type": "code",
   "execution_count": null,
   "metadata": {
    "collapsed": true
   },
   "outputs": [],
   "source": [
    "cl_df['vol_bo_short'] = cl_df.apply(vol_bo_short, axis=1)"
   ]
  },
  {
   "cell_type": "code",
   "execution_count": null,
   "metadata": {
    "collapsed": true
   },
   "outputs": [],
   "source": [
    "cl_df['20day_high'] = cl_df.high.rolling(window=20, center=False).max().shift(1)\n",
    "cl_df.tail(100)"
   ]
  },
  {
   "cell_type": "code",
   "execution_count": null,
   "metadata": {
    "collapsed": true
   },
   "outputs": [],
   "source": [
    "cl_df['20day_low'] = cl_df.low.rolling(window=20, center=False).min().shift(1)\n",
    "cl_df.tail()"
   ]
  },
  {
   "cell_type": "code",
   "execution_count": null,
   "metadata": {
    "collapsed": true
   },
   "outputs": [],
   "source": [
    "def range_bo_long(row):\n",
    "    if row['high'] > row['20day_high']:\n",
    "        return 1\n",
    "    else:\n",
    "        return 0\n",
    "    \n",
    "def range_bo_short(row):\n",
    "    if row['low'] < row['20day_low']:\n",
    "        return 1\n",
    "    else:\n",
    "        return 0"
   ]
  },
  {
   "cell_type": "code",
   "execution_count": null,
   "metadata": {
    "collapsed": true
   },
   "outputs": [],
   "source": [
    "cl_df.tail()"
   ]
  },
  {
   "cell_type": "code",
   "execution_count": null,
   "metadata": {
    "collapsed": true
   },
   "outputs": [],
   "source": [
    "cl_df['range_bo_long'] = cl_df.apply(range_bo_long, axis=1)\n",
    "cl_df['range_bo_short'] = cl_df.apply(range_bo_short, axis=1)"
   ]
  },
  {
   "cell_type": "code",
   "execution_count": null,
   "metadata": {
    "collapsed": true
   },
   "outputs": [],
   "source": [
    "cl_df.tail(100)"
   ]
  },
  {
   "cell_type": "code",
   "execution_count": null,
   "metadata": {},
   "outputs": [],
   "source": [
    "longs = cl_df[cl_df['vol_bo_short'] == 1]\n",
    "longs"
   ]
  },
  {
   "cell_type": "code",
   "execution_count": null,
   "metadata": {
    "collapsed": true
   },
   "outputs": [],
   "source": [
    "cl_df = cl_df[['open', 'high', 'low', 'close', 'volume', 'stds_from_mean', '20day_ave_vol', 'vol_bo', 'close_gt_prev_h', 'close_lt_prev_l', 'vol_bo_long', 'vol_bo_short', '20day_high', '20day_low', 'range_bo_long', 'range_bo_short']]"
   ]
  },
  {
   "cell_type": "code",
   "execution_count": null,
   "metadata": {},
   "outputs": [],
   "source": [
    "cl_df.tail()"
   ]
  },
  {
   "cell_type": "code",
   "execution_count": null,
   "metadata": {
    "collapsed": true
   },
   "outputs": [],
   "source": [
    "cl_df['ma20'] = cl_df['close'].rolling(window=20, center=False).mean()\n",
    "cl_df['ma50'] = cl_df['close'].rolling(window=50, center=False).mean()\n",
    "cl_df['ma100'] = cl_df['close'].rolling(window=100, center=False).mean()\n",
    "cl_df.tail()"
   ]
  },
  {
   "cell_type": "code",
   "execution_count": null,
   "metadata": {},
   "outputs": [],
   "source": [
    "def ma_signal(row, ma=20, direction='long'):\n",
    "    if direction == 'long':\n",
    "        if row['close'] > row['ma{}'.format(ma)]:\n",
    "            return 1\n",
    "        else:\n",
    "            return 0\n",
    "    if direction == 'short':\n",
    "        if row['close'] < row['ma{}'.format(ma)]:\n",
    "            return 1\n",
    "        else:\n",
    "            return 0"
   ]
  },
  {
   "cell_type": "code",
   "execution_count": null,
   "metadata": {
    "collapsed": true
   },
   "outputs": [],
   "source": [
    "cl_df['ma20_long'] = cl_df.apply(lambda row: ma_signal(row), axis=1)\n",
    "cl_df.tail(44)"
   ]
  },
  {
   "cell_type": "code",
   "execution_count": null,
   "metadata": {
    "collapsed": true
   },
   "outputs": [],
   "source": [
    "cl_df['ma20_short'] = cl_df.apply(lambda row: ma_signal(row, direction='short'), axis=1)\n",
    "cl_df.tail(44)"
   ]
  },
  {
   "cell_type": "code",
   "execution_count": null,
   "metadata": {
    "collapsed": true
   },
   "outputs": [],
   "source": [
    "cl_df['ma50_long'] = cl_df.apply(lambda row: ma_signal(row, ma=50), axis=1)\n",
    "cl_df['ma50_short'] = cl_df.apply(lambda row: ma_signal(row, ma=50, direction='short'), axis=1)\n",
    "cl_df['ma100_long'] = cl_df.apply(lambda row: ma_signal(row, ma=100), axis=1)\n",
    "cl_df['ma100_short'] = cl_df.apply(lambda row: ma_signal(row, ma=100, direction='short'), axis=1)\n",
    "cl_df.tail(44)"
   ]
  },
  {
   "cell_type": "code",
   "execution_count": null,
   "metadata": {
    "collapsed": true
   },
   "outputs": [],
   "source": [
    "cl_df['bb_high'] = cl_df['ma20'] + (2 * cl_df['close'].rolling(window=20, center=False).std())\n",
    "cl_df['bb_low'] = cl_df['ma20'] - (2 * cl_df['close'].rolling(window=20, center=False).std())\n",
    "cl_df.tail()"
   ]
  },
  {
   "cell_type": "code",
   "execution_count": null,
   "metadata": {
    "collapsed": true
   },
   "outputs": [],
   "source": [
    "def bb_trade(row, direction='long'):\n",
    "    if direction == 'long':\n",
    "        if row['low'] < row['bb_low']:\n",
    "            return 1\n",
    "        else:\n",
    "            return 0\n",
    "    if direction == 'short':\n",
    "        if row['high'] > row['bb_high']:\n",
    "            return 1\n",
    "        else:\n",
    "            return 0\n",
    "        \n",
    "cl_df['bb_long'] = cl_df.apply(lambda row: bb_trade(row), axis=1)\n",
    "cl_df['bb_short'] = cl_df.apply(lambda row: bb_trade(row, direction='short'), axis=1)\n",
    "cl_df.tail(34)"
   ]
  },
  {
   "cell_type": "code",
   "execution_count": null,
   "metadata": {
    "collapsed": true
   },
   "outputs": [],
   "source": [
    "cl_df['pct_change_1day'] = cl_df['close'].pct_change()\n",
    "cl_df.head()"
   ]
  },
  {
   "cell_type": "code",
   "execution_count": null,
   "metadata": {
    "collapsed": true
   },
   "outputs": [],
   "source": [
    "cl_df['pct_change_5day'] = cl_df['close'].pct_change(periods=5)\n",
    "cl_df['pct_change_10day'] = cl_df['close'].pct_change(periods=10)\n",
    "cl_df['pct_change_20day'] = cl_df['close'].pct_change(periods=20)\n",
    "cl_df.tail()"
   ]
  },
  {
   "cell_type": "code",
   "execution_count": null,
   "metadata": {},
   "outputs": [],
   "source": [
    "ave_bb_long_5day_return = cl_df[cl_df['bb_long'] == 1]['pct_change_5day'].mean()\n",
    "ave_bb_long_5day_return"
   ]
  },
  {
   "cell_type": "code",
   "execution_count": null,
   "metadata": {},
   "outputs": [],
   "source": [
    "ave_bb_short_5day_return = cl_df[cl_df['bb_short'] == 1]['pct_change_5day'].mean()\n",
    "ave_bb_short_5day_return"
   ]
  },
  {
   "cell_type": "code",
   "execution_count": null,
   "metadata": {
    "collapsed": true
   },
   "outputs": [],
   "source": [
    "# TEST OF ALL THE CODE TOGETHER\n",
    "import pandas as pd\n",
    "import numpy as np\n",
    "\n",
    "def vol_bo(row, direction):\n",
    "    ''' This is a helper function to use in volume breakout column creation.  It takes\n",
    "        in a row of a dataframe and a direction of trade, and returns 1 if a breakout\n",
    "        has occured, 0 if not.\n",
    "\n",
    "        Args: row - row of a dataframe\n",
    "              direction - 'long' or 'short'\n",
    "\n",
    "        Return: 1 if volume breakout occured, 0 if not\n",
    "    '''\n",
    "    if row['20day_ave_vol']:\n",
    "        \n",
    "        if row['volume'] > (2 * row['20day_ave_vol']):\n",
    "            if (direction == 'long') and (row['close_gt_prev_h'] > 0.0):\n",
    "                return 1\n",
    "            elif (direction == 'short') and (row['close_lt_prev_l'] < 0.0):\n",
    "                return 1\n",
    "            else:\n",
    "                return 0\n",
    "    else:\n",
    "        return 0\n",
    "\n",
    "def range_bo(row, direction):\n",
    "    ''' This is a helper function to use in range breakout column creation.  It takes\n",
    "        in a row of a dataframe and a direction of trade, and returns 1 if a breakout\n",
    "        has occured, 0 if not.\n",
    "\n",
    "        Args: row - row of a dataframe\n",
    "              direction - 'long' or 'short'\n",
    "\n",
    "        Return: 1 if volume breakout occured, 0 if not\n",
    "    '''\n",
    "    if direction == 'long':\n",
    "        if row['high'] > row['20day_high']:\n",
    "            return 1\n",
    "        else:\n",
    "            return 0\n",
    "    if direction == 'short':\n",
    "        if row['low'] < row['20day_low']:\n",
    "            return 1\n",
    "        else:\n",
    "            return 0\n",
    "\n",
    "def ma_signal(row, ma, direction):\n",
    "    ''' This is a helper function to use in all moving average columns creation.  It takes\n",
    "        in a row of a dataframe, a length of time and a direction of trade, and returns\n",
    "        1 if a breakout has occured, 0 if not.\n",
    "\n",
    "        Args: row - row of a dataframe\n",
    "              ma - length of time for moving average\n",
    "              direction - 'long' or 'short'\n",
    "\n",
    "        Return: 1 if volume breakout occured, 0 if not\n",
    "    '''\n",
    "    if direction == 'long':\n",
    "        if row['close'] > row['ma{}'.format(ma)]:\n",
    "            return 1\n",
    "        else:\n",
    "            return 0\n",
    "    if direction == 'short':\n",
    "        if row['close'] < row['ma{}'.format(ma)]:\n",
    "            return 1\n",
    "        else:\n",
    "            return 0\n",
    "\n",
    "def bb_signal(row, direction):\n",
    "    ''' This is a helper function to use in all bollinger band column creation.  It takes\n",
    "        in a row of a dataframe and a direction of trade, and returns 1 if a breakout\n",
    "        has occured, 0 if not.\n",
    "\n",
    "        Args: row - row of a dataframe\n",
    "              direction - 'long' or 'short'\n",
    "\n",
    "        Return: 1 if volume breakout occured, 0 if not\n",
    "    '''\n",
    "    if direction == 'long':\n",
    "        if row['low'] < row['bb_low']:\n",
    "            return 1\n",
    "        else:\n",
    "            return 0\n",
    "    if direction == 'short':\n",
    "        if row['high'] > row['bb_high']:\n",
    "            return 1\n",
    "        else:\n",
    "            return 0\n",
    "\n",
    "def add_all_indicators(df):\n",
    "    ''' This function takes in a cleaned dataframe of price information and uses\n",
    "        the helper functions to add all relevant indicators as columns\n",
    "        to the dataframe.\n",
    "\n",
    "        Args: df - cleaned dataframe of price information\n",
    "\n",
    "        Return: df - cleaned dataframe with added columns for all indicators\n",
    "    '''\n",
    "    # All columns for 20day volume breakout indicator\n",
    "    df['20day_ave_vol'] = df.volume.rolling(window=20, center=False).mean().shift(1)\n",
    "    df['close_gt_prev_h'] = df['close'] - df['high'].shift(1)\n",
    "    df['close_lt_prev_l'] = df['close'] - df['low'].shift(1)\n",
    "    df['vol_bo_long'] = df.apply(lambda row: vol_bo(row, direction='long'), axis=1)\n",
    "    df['vol_bo_short'] = df.apply(lambda row: vol_bo(row, direction='short'), axis=1)\n",
    "\n",
    "    # All columns for 20day range breakout indicator\n",
    "    df['20day_high'] = df.high.rolling(window=20, center=False).max().shift(1)\n",
    "    df['20day_low'] = df.low.rolling(window=20, center=False).min().shift(1)\n",
    "    df['range_bo_long'] = df.apply(lambda row: range_bo(row, direction='long'), axis=1)\n",
    "    df['range_bo_short'] = df.apply(lambda row: range_bo(row, direction='short'), axis=1)\n",
    "\n",
    "    # All columns for moving average indicators\n",
    "    df['ma20'] = df['close'].rolling(window=20, center=False).mean()\n",
    "    df['ma50'] = df['close'].rolling(window=50, center=False).mean()\n",
    "    df['ma100'] = df['close'].rolling(window=100, center=False).mean()\n",
    "    df['ma20_long'] = df.apply(lambda row: ma_signal(row, ma=20, direction='long'), axis=1)\n",
    "    df['ma20_short'] = df.apply(lambda row: ma_signal(row, ma=20, direction='short'), axis=1)\n",
    "    df['ma50_long'] = df.apply(lambda row: ma_signal(row, ma=50, direction='long'), axis=1)\n",
    "    df['ma50_short'] = df.apply(lambda row: ma_signal(row, ma=50, direction='short'), axis=1)\n",
    "    df['ma100_long'] = df.apply(lambda row: ma_signal(row, ma=100, direction='long'), axis=1)\n",
    "    df['ma100_short'] = df.apply(lambda row: ma_signal(row, ma=100, direction='short'), axis=1)\n",
    "\n",
    "    # All columns for bollinger band indicators\n",
    "    df['bb_high'] = df['ma20'] + (2 * df['close'].rolling(window=20, center=False).std())\n",
    "    df['bb_low'] = df['ma20'] - (2 * df['close'].rolling(window=20, center=False).std())\n",
    "    df['bb_long'] = df.apply(lambda row: bb_signal(row, direction='long'), axis=1)\n",
    "    df['bb_short'] = df.apply(lambda row: bb_signal(row, direction='short'), axis=1)\n",
    "\n",
    "    # All columns for percentage change for timeframe into the future\n",
    "    df['pct_change_1day'] = df['close'].pct_change()\n",
    "    df['pct_change_5day'] = df['close'].pct_change(periods=5)\n",
    "    df['pct_change_10day'] = df['close'].pct_change(periods=10)\n",
    "    df['pct_change_20day'] = df['close'].pct_change(periods=20)\n",
    "    \n",
    "    return df"
   ]
  },
  {
   "cell_type": "code",
   "execution_count": null,
   "metadata": {
    "collapsed": true
   },
   "outputs": [],
   "source": [
    "df_dict"
   ]
  },
  {
   "cell_type": "code",
   "execution_count": null,
   "metadata": {
    "collapsed": true
   },
   "outputs": [],
   "source": [
    "corn_df = df_dict['C']\n",
    "corn_df.tail(50)"
   ]
  },
  {
   "cell_type": "code",
   "execution_count": null,
   "metadata": {},
   "outputs": [],
   "source": [
    "corn_df = add_all_indicators(corn_df)\n"
   ]
  },
  {
   "cell_type": "code",
   "execution_count": null,
   "metadata": {
    "collapsed": true
   },
   "outputs": [],
   "source": [
    "corn_df.describe()"
   ]
  },
  {
   "cell_type": "code",
   "execution_count": null,
   "metadata": {
    "collapsed": true
   },
   "outputs": [],
   "source": [
    "df_dict['W']"
   ]
  },
  {
   "cell_type": "code",
   "execution_count": null,
   "metadata": {},
   "outputs": [],
   "source": [
    "wheat_df['volume'].replace(68.0, int(wheat_df['volume'].mean()), inplace=True)"
   ]
  },
  {
   "cell_type": "code",
   "execution_count": null,
   "metadata": {},
   "outputs": [],
   "source": [
    "bean_df = df_dict['S']\n",
    "bean_df.info()"
   ]
  },
  {
   "cell_type": "code",
   "execution_count": null,
   "metadata": {
    "collapsed": true
   },
   "outputs": [],
   "source": [
    "bean_ind= add_all_indicators(bean_df)"
   ]
  },
  {
   "cell_type": "code",
   "execution_count": null,
   "metadata": {},
   "outputs": [],
   "source": [
    "bean_ind.info()"
   ]
  },
  {
   "cell_type": "code",
   "execution_count": null,
   "metadata": {},
   "outputs": [],
   "source": [
    "bean_ind['vol_bo_short'] = bean_ind['vol_bo_short'].fillna(0.0)"
   ]
  },
  {
   "cell_type": "code",
   "execution_count": null,
   "metadata": {},
   "outputs": [],
   "source": [
    "bean_ind.loc[bean_ind['volume'] == 0.0].index\n"
   ]
  },
  {
   "cell_type": "code",
   "execution_count": null,
   "metadata": {},
   "outputs": [],
   "source": [
    "bean_ind.loc['2007-04-05']"
   ]
  },
  {
   "cell_type": "code",
   "execution_count": null,
   "metadata": {
    "scrolled": false
   },
   "outputs": [],
   "source": [
    "wheat_indicators['range_bo_short'].value_counts()"
   ]
  },
  {
   "cell_type": "code",
   "execution_count": null,
   "metadata": {
    "collapsed": true
   },
   "outputs": [],
   "source": [
    "bean_ind['volume'].replace(30.0, bean_ind['20day_ave_vol'], inplace=True)"
   ]
  },
  {
   "cell_type": "code",
   "execution_count": null,
   "metadata": {},
   "outputs": [],
   "source": [
    "bean_ind.describe()"
   ]
  },
  {
   "cell_type": "code",
   "execution_count": null,
   "metadata": {},
   "outputs": [],
   "source": [
    "bean_ind[bean_ind['volume'] < 1000.0]"
   ]
  },
  {
   "cell_type": "code",
   "execution_count": null,
   "metadata": {
    "collapsed": true
   },
   "outputs": [],
   "source": [
    "def replace_df_zeros(df):\n",
    "    ''' This function takes in a dataframe of price information, finds all zero values\n",
    "        for the 'volume' column and replaces them with the mean volume of the dataset.\n",
    "\n",
    "        Args: df - dataframe of price information\n",
    "\n",
    "        Return: df - cleaned dataframe with no zero volume entries\n",
    "    '''\n",
    "    df['volume'].replace(0.0, df['volume'].mean(), inplace=True)\n",
    "\n",
    "    return df"
   ]
  },
  {
   "cell_type": "code",
   "execution_count": null,
   "metadata": {},
   "outputs": [],
   "source": [
    "silver = df_dict['SI']"
   ]
  },
  {
   "cell_type": "code",
   "execution_count": null,
   "metadata": {},
   "outputs": [],
   "source": [
    "silver[silver['volume'] == 0.0]"
   ]
  },
  {
   "cell_type": "code",
   "execution_count": null,
   "metadata": {},
   "outputs": [],
   "source": [
    "silver = replace_df_zeros(silver)\n",
    "silver[silver['volume'] == 0.0]"
   ]
  },
  {
   "cell_type": "code",
   "execution_count": null,
   "metadata": {},
   "outputs": [],
   "source": [
    "silver.loc['2005-12-05']"
   ]
  },
  {
   "cell_type": "code",
   "execution_count": null,
   "metadata": {},
   "outputs": [],
   "source": [
    "c = df_dict['C']\n",
    "c.head()"
   ]
  },
  {
   "cell_type": "code",
   "execution_count": null,
   "metadata": {},
   "outputs": [],
   "source": [
    "import sqlite3\n",
    "\n",
    "sqlite_file = 'securities_master_db.sqlite'\n",
    "\n",
    "conn = sqlite3.connect(sqlite_file)\n",
    "c = conn.cursor()\n",
    "\n",
    "c.execute(\"DELETE FROM Symbols\")\n",
    "\n",
    "conn.commit()\n",
    "conn.close()\n"
   ]
  },
  {
   "cell_type": "code",
   "execution_count": null,
   "metadata": {},
   "outputs": [],
   "source": [
    "crude = df_dict['CL']\n",
    "crude.head()"
   ]
  },
  {
   "cell_type": "code",
   "execution_count": null,
   "metadata": {
    "scrolled": true
   },
   "outputs": [],
   "source": [
    "crude[crude['volume'] == 0.0]"
   ]
  },
  {
   "cell_type": "code",
   "execution_count": null,
   "metadata": {
    "collapsed": true
   },
   "outputs": [],
   "source": [
    "for name, df in df_dict.items():\n",
    "    print(name)\n",
    "    print(df.head())"
   ]
  },
  {
   "cell_type": "code",
   "execution_count": 9,
   "metadata": {
    "collapsed": true
   },
   "outputs": [],
   "source": [
    "def vol_bo(row, direction):\n",
    "    ''' This is a helper function to use in volume breakout column creation.  It takes\n",
    "        in a row of a dataframe and a direction of trade, and returns 1 if a breakout\n",
    "        has occured, 0 if not.\n",
    "\n",
    "        Args: row - row of a dataframe\n",
    "              direction - 'long' or 'short'\n",
    "\n",
    "        Return: 1 if volume breakout occured, 0 if not\n",
    "    '''\n",
    "    if row['volume'] > (2 * row['20day_ave_vol']):\n",
    "        if (direction == 'long') and (row['close_gt_prev_h'] > 0.0):\n",
    "            return 1\n",
    "        elif (direction == 'short') and (row['close_lt_prev_l'] < 0.0):\n",
    "            return 1\n",
    "        else:\n",
    "            return 0\n",
    "\n",
    "def range_bo(row, direction):\n",
    "    ''' This is a helper function to use in range breakout column creation.  It takes\n",
    "        in a row of a dataframe and a direction of trade, and returns 1 if a breakout\n",
    "        has occured, 0 if not.\n",
    "\n",
    "        Args: row - row of a dataframe\n",
    "              direction - 'long' or 'short'\n",
    "\n",
    "        Return: 1 if volume breakout occured, 0 if not\n",
    "    '''\n",
    "    if direction == 'long':\n",
    "        if row['high'] > row['20day_high']:\n",
    "            return 1\n",
    "        else:\n",
    "            return 0\n",
    "    if direction == 'short':\n",
    "        if row['low'] < row['20day_low']:\n",
    "            return 1\n",
    "        else:\n",
    "            return 0\n",
    "\n",
    "def ma_signal(row, ma, direction):\n",
    "    ''' This is a helper function to use in all moving average columns creation.  It takes\n",
    "        in a row of a dataframe, a length of time and a direction of trade, and returns\n",
    "        1 if a breakout has occured, 0 if not.\n",
    "\n",
    "        Args: row - row of a dataframe\n",
    "              ma - length of time for moving average\n",
    "              direction - 'long' or 'short'\n",
    "\n",
    "        Return: 1 if volume breakout occured, 0 if not\n",
    "    '''\n",
    "    if direction == 'long':\n",
    "        if row['close'] > row['ma{}'.format(ma)]:\n",
    "            return 1\n",
    "        else:\n",
    "            return 0\n",
    "    if direction == 'short':\n",
    "        if row['close'] < row['ma{}'.format(ma)]:\n",
    "            return 1\n",
    "        else:\n",
    "            return 0\n",
    "\n",
    "def bb_signal(row, direction):\n",
    "    ''' This is a helper function to use in all bollinger band column creation.  It takes\n",
    "        in a row of a dataframe and a direction of trade, and returns 1 if a breakout\n",
    "        has occured, 0 if not.\n",
    "\n",
    "        Args: row - row of a dataframe\n",
    "              direction - 'long' or 'short'\n",
    "\n",
    "        Return: 1 if volume breakout occured, 0 if not\n",
    "    '''\n",
    "    if direction == 'long':\n",
    "        if row['low'] < row['bb_low']:\n",
    "            return 1\n",
    "        else:\n",
    "            return 0\n",
    "    if direction == 'short':\n",
    "        if row['high'] > row['bb_high']:\n",
    "            return 1\n",
    "        else:\n",
    "            return 0\n",
    "\n",
    "def add_all_indicators(df):\n",
    "    ''' This function takes in a cleaned dataframe of price information and uses\n",
    "        the helper functions to add all relevant indicators as columns\n",
    "        to the dataframe.\n",
    "\n",
    "        Args: df - cleaned dataframe of price information\n",
    "\n",
    "        Return: df - cleaned dataframe with added columns for all indicators\n",
    "    '''\n",
    "    # All columns for 20day volume breakout indicator\n",
    "    df['20day_ave_vol'] = df.volume.rolling(window=20, center=False).mean().shift(1)\n",
    "    df['close_gt_prev_h'] = df['close'] - df['high'].shift(1)\n",
    "    df['close_lt_prev_l'] = df['close'] - df['low'].shift(1)\n",
    "    df['vol_bo_long'] = df.apply(lambda row: vol_bo(row, direction='long'), axis=1)\n",
    "    df['vol_bo_short'] = df.apply(lambda row: vol_bo(row, direction='short'), axis=1)\n",
    "    \n",
    "    df['vol_bo_long'].fillna(value=0, inplace=True)\n",
    "    df['vol_bo_short'].fillna(value=0, inplace=True)\n",
    "\n",
    "    # All columns for 20day range breakout indicator\n",
    "    df['20day_high'] = df.high.rolling(window=20, center=False).max().shift(1)\n",
    "    df['20day_low'] = df.low.rolling(window=20, center=False).min().shift(1)\n",
    "    df['range_bo_long'] = df.apply(lambda row: range_bo(row, direction='long'), axis=1)\n",
    "    df['range_bo_short'] = df.apply(lambda row: range_bo(row, direction='short'), axis=1)\n",
    "\n",
    "    # All columns for moving average indicators\n",
    "    df['ma20'] = df['close'].rolling(window=20, center=False).mean()\n",
    "    df['ma50'] = df['close'].rolling(window=50, center=False).mean()\n",
    "    df['ma100'] = df['close'].rolling(window=100, center=False).mean()\n",
    "    df['ma20_long'] = df.apply(lambda row: ma_signal(row, ma=20, direction='long'), axis=1)\n",
    "    df['ma20_short'] = df.apply(lambda row: ma_signal(row, ma=20, direction='short'), axis=1)\n",
    "    df['ma50_long'] = df.apply(lambda row: ma_signal(row, ma=50, direction='long'), axis=1)\n",
    "    df['ma50_short'] = df.apply(lambda row: ma_signal(row, ma=50, direction='short'), axis=1)\n",
    "    df['ma100_long'] = df.apply(lambda row: ma_signal(row, ma=100, direction='long'), axis=1)\n",
    "    df['ma100_short'] = df.apply(lambda row: ma_signal(row, ma=100, direction='short'), axis=1)\n",
    "\n",
    "    # All columns for bollinger band indicators\n",
    "    df['bb_high'] = df['ma20'] + (2 * df['close'].rolling(window=20, center=False).std())\n",
    "    df['bb_low'] = df['ma20'] - (2 * df['close'].rolling(window=20, center=False).std())\n",
    "    df['bb_long'] = df.apply(lambda row: bb_signal(row, direction='long'), axis=1)\n",
    "    df['bb_short'] = df.apply(lambda row: bb_signal(row, direction='short'), axis=1)\n",
    "\n",
    "    # All columns for percentage change for timeframe into the future\n",
    "    df['pct_change_1day'] = df['close'].pct_change()\n",
    "    df['pct_change_5day'] = df['close'].pct_change(periods=5)\n",
    "    df['pct_change_10day'] = df['close'].pct_change(periods=10)\n",
    "    df['pct_change_20day'] = df['close'].pct_change(periods=20)\n",
    "\n",
    "    return df"
   ]
  },
  {
   "cell_type": "code",
   "execution_count": 6,
   "metadata": {},
   "outputs": [
    {
     "data": {
      "text/html": [
       "<div>\n",
       "<table border=\"1\" class=\"dataframe\">\n",
       "  <thead>\n",
       "    <tr style=\"text-align: right;\">\n",
       "      <th></th>\n",
       "      <th>open</th>\n",
       "      <th>high</th>\n",
       "      <th>low</th>\n",
       "      <th>close</th>\n",
       "      <th>volume</th>\n",
       "    </tr>\n",
       "    <tr>\n",
       "      <th>Date</th>\n",
       "      <th></th>\n",
       "      <th></th>\n",
       "      <th></th>\n",
       "      <th></th>\n",
       "      <th></th>\n",
       "    </tr>\n",
       "  </thead>\n",
       "  <tbody>\n",
       "    <tr>\n",
       "      <th>2014-12-24</th>\n",
       "      <td>2078.75</td>\n",
       "      <td>2083.50</td>\n",
       "      <td>2077.00</td>\n",
       "      <td>2078.75</td>\n",
       "      <td>235054.0</td>\n",
       "    </tr>\n",
       "    <tr>\n",
       "      <th>2014-12-26</th>\n",
       "      <td>2078.75</td>\n",
       "      <td>2088.75</td>\n",
       "      <td>2078.50</td>\n",
       "      <td>2084.25</td>\n",
       "      <td>614078.0</td>\n",
       "    </tr>\n",
       "    <tr>\n",
       "      <th>2014-12-29</th>\n",
       "      <td>2086.00</td>\n",
       "      <td>2088.75</td>\n",
       "      <td>2076.00</td>\n",
       "      <td>2085.75</td>\n",
       "      <td>636306.0</td>\n",
       "    </tr>\n",
       "    <tr>\n",
       "      <th>2014-12-30</th>\n",
       "      <td>2087.50</td>\n",
       "      <td>2088.50</td>\n",
       "      <td>2073.00</td>\n",
       "      <td>2076.75</td>\n",
       "      <td>716610.0</td>\n",
       "    </tr>\n",
       "    <tr>\n",
       "      <th>2014-12-31</th>\n",
       "      <td>2076.25</td>\n",
       "      <td>2082.75</td>\n",
       "      <td>2050.75</td>\n",
       "      <td>2052.50</td>\n",
       "      <td>835262.0</td>\n",
       "    </tr>\n",
       "  </tbody>\n",
       "</table>\n",
       "</div>"
      ],
      "text/plain": [
       "               open     high      low    close    volume\n",
       "Date                                                    \n",
       "2014-12-24  2078.75  2083.50  2077.00  2078.75  235054.0\n",
       "2014-12-26  2078.75  2088.75  2078.50  2084.25  614078.0\n",
       "2014-12-29  2086.00  2088.75  2076.00  2085.75  636306.0\n",
       "2014-12-30  2087.50  2088.50  2073.00  2076.75  716610.0\n",
       "2014-12-31  2076.25  2082.75  2050.75  2052.50  835262.0"
      ]
     },
     "execution_count": 6,
     "metadata": {},
     "output_type": "execute_result"
    }
   ],
   "source": [
    "emini = df_dict['ES']\n",
    "emini.tail()"
   ]
  },
  {
   "cell_type": "code",
   "execution_count": 7,
   "metadata": {},
   "outputs": [
    {
     "data": {
      "text/html": [
       "<div>\n",
       "<table border=\"1\" class=\"dataframe\">\n",
       "  <thead>\n",
       "    <tr style=\"text-align: right;\">\n",
       "      <th></th>\n",
       "      <th>open</th>\n",
       "      <th>high</th>\n",
       "      <th>low</th>\n",
       "      <th>close</th>\n",
       "      <th>volume</th>\n",
       "      <th>20day_ave_vol</th>\n",
       "      <th>close_gt_prev_h</th>\n",
       "      <th>close_lt_prev_l</th>\n",
       "      <th>vol_bo_long</th>\n",
       "      <th>vol_bo_short</th>\n",
       "      <th>...</th>\n",
       "      <th>ma100_long</th>\n",
       "      <th>ma100_short</th>\n",
       "      <th>bb_high</th>\n",
       "      <th>bb_low</th>\n",
       "      <th>bb_long</th>\n",
       "      <th>bb_short</th>\n",
       "      <th>pct_change_1day</th>\n",
       "      <th>pct_change_5day</th>\n",
       "      <th>pct_change_10day</th>\n",
       "      <th>pct_change_20day</th>\n",
       "    </tr>\n",
       "    <tr>\n",
       "      <th>Date</th>\n",
       "      <th></th>\n",
       "      <th></th>\n",
       "      <th></th>\n",
       "      <th></th>\n",
       "      <th></th>\n",
       "      <th></th>\n",
       "      <th></th>\n",
       "      <th></th>\n",
       "      <th></th>\n",
       "      <th></th>\n",
       "      <th></th>\n",
       "      <th></th>\n",
       "      <th></th>\n",
       "      <th></th>\n",
       "      <th></th>\n",
       "      <th></th>\n",
       "      <th></th>\n",
       "      <th></th>\n",
       "      <th></th>\n",
       "      <th></th>\n",
       "      <th></th>\n",
       "    </tr>\n",
       "  </thead>\n",
       "  <tbody>\n",
       "    <tr>\n",
       "      <th>2014-12-24</th>\n",
       "      <td>2078.75</td>\n",
       "      <td>2083.50</td>\n",
       "      <td>2077.00</td>\n",
       "      <td>2078.75</td>\n",
       "      <td>235054.0</td>\n",
       "      <td>1263141.32</td>\n",
       "      <td>-5.75</td>\n",
       "      <td>7.25</td>\n",
       "      <td>NaN</td>\n",
       "      <td>NaN</td>\n",
       "      <td>...</td>\n",
       "      <td>1</td>\n",
       "      <td>0</td>\n",
       "      <td>2111.738883</td>\n",
       "      <td>1976.291117</td>\n",
       "      <td>0</td>\n",
       "      <td>0</td>\n",
       "      <td>-0.000120</td>\n",
       "      <td>0.035105</td>\n",
       "      <td>0.029339</td>\n",
       "      <td>0.006805</td>\n",
       "    </tr>\n",
       "    <tr>\n",
       "      <th>2014-12-26</th>\n",
       "      <td>2078.75</td>\n",
       "      <td>2088.75</td>\n",
       "      <td>2078.50</td>\n",
       "      <td>2084.25</td>\n",
       "      <td>614078.0</td>\n",
       "      <td>1245425.85</td>\n",
       "      <td>0.75</td>\n",
       "      <td>7.25</td>\n",
       "      <td>NaN</td>\n",
       "      <td>NaN</td>\n",
       "      <td>...</td>\n",
       "      <td>1</td>\n",
       "      <td>0</td>\n",
       "      <td>2114.146410</td>\n",
       "      <td>1975.518590</td>\n",
       "      <td>0</td>\n",
       "      <td>0</td>\n",
       "      <td>0.002646</td>\n",
       "      <td>0.011772</td>\n",
       "      <td>0.029768</td>\n",
       "      <td>0.007907</td>\n",
       "    </tr>\n",
       "    <tr>\n",
       "      <th>2014-12-29</th>\n",
       "      <td>2086.00</td>\n",
       "      <td>2088.75</td>\n",
       "      <td>2076.00</td>\n",
       "      <td>2085.75</td>\n",
       "      <td>636306.0</td>\n",
       "      <td>1261111.33</td>\n",
       "      <td>-3.00</td>\n",
       "      <td>7.25</td>\n",
       "      <td>NaN</td>\n",
       "      <td>NaN</td>\n",
       "      <td>...</td>\n",
       "      <td>1</td>\n",
       "      <td>0</td>\n",
       "      <td>2117.484882</td>\n",
       "      <td>1974.690118</td>\n",
       "      <td>0</td>\n",
       "      <td>0</td>\n",
       "      <td>0.000720</td>\n",
       "      <td>0.009071</td>\n",
       "      <td>0.047852</td>\n",
       "      <td>0.012181</td>\n",
       "    </tr>\n",
       "    <tr>\n",
       "      <th>2014-12-30</th>\n",
       "      <td>2087.50</td>\n",
       "      <td>2088.50</td>\n",
       "      <td>2073.00</td>\n",
       "      <td>2076.75</td>\n",
       "      <td>716610.0</td>\n",
       "      <td>1284785.30</td>\n",
       "      <td>-12.00</td>\n",
       "      <td>0.75</td>\n",
       "      <td>NaN</td>\n",
       "      <td>NaN</td>\n",
       "      <td>...</td>\n",
       "      <td>1</td>\n",
       "      <td>0</td>\n",
       "      <td>2120.430628</td>\n",
       "      <td>1975.069372</td>\n",
       "      <td>0</td>\n",
       "      <td>0</td>\n",
       "      <td>-0.004315</td>\n",
       "      <td>0.002051</td>\n",
       "      <td>0.047145</td>\n",
       "      <td>0.016271</td>\n",
       "    </tr>\n",
       "    <tr>\n",
       "      <th>2014-12-31</th>\n",
       "      <td>2076.25</td>\n",
       "      <td>2082.75</td>\n",
       "      <td>2050.75</td>\n",
       "      <td>2052.50</td>\n",
       "      <td>835262.0</td>\n",
       "      <td>1319991.85</td>\n",
       "      <td>-36.00</td>\n",
       "      <td>-20.50</td>\n",
       "      <td>NaN</td>\n",
       "      <td>NaN</td>\n",
       "      <td>...</td>\n",
       "      <td>1</td>\n",
       "      <td>0</td>\n",
       "      <td>2119.972587</td>\n",
       "      <td>1974.902413</td>\n",
       "      <td>0</td>\n",
       "      <td>0</td>\n",
       "      <td>-0.011677</td>\n",
       "      <td>-0.012747</td>\n",
       "      <td>0.044529</td>\n",
       "      <td>-0.003036</td>\n",
       "    </tr>\n",
       "  </tbody>\n",
       "</table>\n",
       "<p>5 rows × 31 columns</p>\n",
       "</div>"
      ],
      "text/plain": [
       "               open     high      low    close    volume  20day_ave_vol  \\\n",
       "Date                                                                      \n",
       "2014-12-24  2078.75  2083.50  2077.00  2078.75  235054.0     1263141.32   \n",
       "2014-12-26  2078.75  2088.75  2078.50  2084.25  614078.0     1245425.85   \n",
       "2014-12-29  2086.00  2088.75  2076.00  2085.75  636306.0     1261111.33   \n",
       "2014-12-30  2087.50  2088.50  2073.00  2076.75  716610.0     1284785.30   \n",
       "2014-12-31  2076.25  2082.75  2050.75  2052.50  835262.0     1319991.85   \n",
       "\n",
       "            close_gt_prev_h  close_lt_prev_l  vol_bo_long  vol_bo_short  \\\n",
       "Date                                                                      \n",
       "2014-12-24            -5.75             7.25          NaN           NaN   \n",
       "2014-12-26             0.75             7.25          NaN           NaN   \n",
       "2014-12-29            -3.00             7.25          NaN           NaN   \n",
       "2014-12-30           -12.00             0.75          NaN           NaN   \n",
       "2014-12-31           -36.00           -20.50          NaN           NaN   \n",
       "\n",
       "                  ...         ma100_long  ma100_short      bb_high  \\\n",
       "Date              ...                                                \n",
       "2014-12-24        ...                  1            0  2111.738883   \n",
       "2014-12-26        ...                  1            0  2114.146410   \n",
       "2014-12-29        ...                  1            0  2117.484882   \n",
       "2014-12-30        ...                  1            0  2120.430628   \n",
       "2014-12-31        ...                  1            0  2119.972587   \n",
       "\n",
       "                 bb_low  bb_long  bb_short  pct_change_1day  pct_change_5day  \\\n",
       "Date                                                                           \n",
       "2014-12-24  1976.291117        0         0        -0.000120         0.035105   \n",
       "2014-12-26  1975.518590        0         0         0.002646         0.011772   \n",
       "2014-12-29  1974.690118        0         0         0.000720         0.009071   \n",
       "2014-12-30  1975.069372        0         0        -0.004315         0.002051   \n",
       "2014-12-31  1974.902413        0         0        -0.011677        -0.012747   \n",
       "\n",
       "            pct_change_10day  pct_change_20day  \n",
       "Date                                            \n",
       "2014-12-24          0.029339          0.006805  \n",
       "2014-12-26          0.029768          0.007907  \n",
       "2014-12-29          0.047852          0.012181  \n",
       "2014-12-30          0.047145          0.016271  \n",
       "2014-12-31          0.044529         -0.003036  \n",
       "\n",
       "[5 rows x 31 columns]"
      ]
     },
     "execution_count": 7,
     "metadata": {},
     "output_type": "execute_result"
    }
   ],
   "source": [
    "emini_ind = add_all_indicators(emini)\n",
    "emini_ind.tail()"
   ]
  },
  {
   "cell_type": "code",
   "execution_count": 10,
   "metadata": {
    "collapsed": true
   },
   "outputs": [],
   "source": [
    "emini_ind2 = add_all_indicators(emini)"
   ]
  },
  {
   "cell_type": "code",
   "execution_count": 11,
   "metadata": {},
   "outputs": [
    {
     "data": {
      "text/html": [
       "<div>\n",
       "<table border=\"1\" class=\"dataframe\">\n",
       "  <thead>\n",
       "    <tr style=\"text-align: right;\">\n",
       "      <th></th>\n",
       "      <th>open</th>\n",
       "      <th>high</th>\n",
       "      <th>low</th>\n",
       "      <th>close</th>\n",
       "      <th>volume</th>\n",
       "      <th>20day_ave_vol</th>\n",
       "      <th>close_gt_prev_h</th>\n",
       "      <th>close_lt_prev_l</th>\n",
       "      <th>vol_bo_long</th>\n",
       "      <th>vol_bo_short</th>\n",
       "      <th>...</th>\n",
       "      <th>ma100_long</th>\n",
       "      <th>ma100_short</th>\n",
       "      <th>bb_high</th>\n",
       "      <th>bb_low</th>\n",
       "      <th>bb_long</th>\n",
       "      <th>bb_short</th>\n",
       "      <th>pct_change_1day</th>\n",
       "      <th>pct_change_5day</th>\n",
       "      <th>pct_change_10day</th>\n",
       "      <th>pct_change_20day</th>\n",
       "    </tr>\n",
       "    <tr>\n",
       "      <th>Date</th>\n",
       "      <th></th>\n",
       "      <th></th>\n",
       "      <th></th>\n",
       "      <th></th>\n",
       "      <th></th>\n",
       "      <th></th>\n",
       "      <th></th>\n",
       "      <th></th>\n",
       "      <th></th>\n",
       "      <th></th>\n",
       "      <th></th>\n",
       "      <th></th>\n",
       "      <th></th>\n",
       "      <th></th>\n",
       "      <th></th>\n",
       "      <th></th>\n",
       "      <th></th>\n",
       "      <th></th>\n",
       "      <th></th>\n",
       "      <th></th>\n",
       "      <th></th>\n",
       "    </tr>\n",
       "  </thead>\n",
       "  <tbody>\n",
       "    <tr>\n",
       "      <th>2014-12-24</th>\n",
       "      <td>2078.75</td>\n",
       "      <td>2083.50</td>\n",
       "      <td>2077.00</td>\n",
       "      <td>2078.75</td>\n",
       "      <td>235054.0</td>\n",
       "      <td>1263141.32</td>\n",
       "      <td>-5.75</td>\n",
       "      <td>7.25</td>\n",
       "      <td>0.0</td>\n",
       "      <td>0.0</td>\n",
       "      <td>...</td>\n",
       "      <td>1</td>\n",
       "      <td>0</td>\n",
       "      <td>2111.738883</td>\n",
       "      <td>1976.291117</td>\n",
       "      <td>0</td>\n",
       "      <td>0</td>\n",
       "      <td>-0.000120</td>\n",
       "      <td>0.035105</td>\n",
       "      <td>0.029339</td>\n",
       "      <td>0.006805</td>\n",
       "    </tr>\n",
       "    <tr>\n",
       "      <th>2014-12-26</th>\n",
       "      <td>2078.75</td>\n",
       "      <td>2088.75</td>\n",
       "      <td>2078.50</td>\n",
       "      <td>2084.25</td>\n",
       "      <td>614078.0</td>\n",
       "      <td>1245425.85</td>\n",
       "      <td>0.75</td>\n",
       "      <td>7.25</td>\n",
       "      <td>0.0</td>\n",
       "      <td>0.0</td>\n",
       "      <td>...</td>\n",
       "      <td>1</td>\n",
       "      <td>0</td>\n",
       "      <td>2114.146410</td>\n",
       "      <td>1975.518590</td>\n",
       "      <td>0</td>\n",
       "      <td>0</td>\n",
       "      <td>0.002646</td>\n",
       "      <td>0.011772</td>\n",
       "      <td>0.029768</td>\n",
       "      <td>0.007907</td>\n",
       "    </tr>\n",
       "    <tr>\n",
       "      <th>2014-12-29</th>\n",
       "      <td>2086.00</td>\n",
       "      <td>2088.75</td>\n",
       "      <td>2076.00</td>\n",
       "      <td>2085.75</td>\n",
       "      <td>636306.0</td>\n",
       "      <td>1261111.33</td>\n",
       "      <td>-3.00</td>\n",
       "      <td>7.25</td>\n",
       "      <td>0.0</td>\n",
       "      <td>0.0</td>\n",
       "      <td>...</td>\n",
       "      <td>1</td>\n",
       "      <td>0</td>\n",
       "      <td>2117.484882</td>\n",
       "      <td>1974.690118</td>\n",
       "      <td>0</td>\n",
       "      <td>0</td>\n",
       "      <td>0.000720</td>\n",
       "      <td>0.009071</td>\n",
       "      <td>0.047852</td>\n",
       "      <td>0.012181</td>\n",
       "    </tr>\n",
       "    <tr>\n",
       "      <th>2014-12-30</th>\n",
       "      <td>2087.50</td>\n",
       "      <td>2088.50</td>\n",
       "      <td>2073.00</td>\n",
       "      <td>2076.75</td>\n",
       "      <td>716610.0</td>\n",
       "      <td>1284785.30</td>\n",
       "      <td>-12.00</td>\n",
       "      <td>0.75</td>\n",
       "      <td>0.0</td>\n",
       "      <td>0.0</td>\n",
       "      <td>...</td>\n",
       "      <td>1</td>\n",
       "      <td>0</td>\n",
       "      <td>2120.430628</td>\n",
       "      <td>1975.069372</td>\n",
       "      <td>0</td>\n",
       "      <td>0</td>\n",
       "      <td>-0.004315</td>\n",
       "      <td>0.002051</td>\n",
       "      <td>0.047145</td>\n",
       "      <td>0.016271</td>\n",
       "    </tr>\n",
       "    <tr>\n",
       "      <th>2014-12-31</th>\n",
       "      <td>2076.25</td>\n",
       "      <td>2082.75</td>\n",
       "      <td>2050.75</td>\n",
       "      <td>2052.50</td>\n",
       "      <td>835262.0</td>\n",
       "      <td>1319991.85</td>\n",
       "      <td>-36.00</td>\n",
       "      <td>-20.50</td>\n",
       "      <td>0.0</td>\n",
       "      <td>0.0</td>\n",
       "      <td>...</td>\n",
       "      <td>1</td>\n",
       "      <td>0</td>\n",
       "      <td>2119.972587</td>\n",
       "      <td>1974.902413</td>\n",
       "      <td>0</td>\n",
       "      <td>0</td>\n",
       "      <td>-0.011677</td>\n",
       "      <td>-0.012747</td>\n",
       "      <td>0.044529</td>\n",
       "      <td>-0.003036</td>\n",
       "    </tr>\n",
       "  </tbody>\n",
       "</table>\n",
       "<p>5 rows × 31 columns</p>\n",
       "</div>"
      ],
      "text/plain": [
       "               open     high      low    close    volume  20day_ave_vol  \\\n",
       "Date                                                                      \n",
       "2014-12-24  2078.75  2083.50  2077.00  2078.75  235054.0     1263141.32   \n",
       "2014-12-26  2078.75  2088.75  2078.50  2084.25  614078.0     1245425.85   \n",
       "2014-12-29  2086.00  2088.75  2076.00  2085.75  636306.0     1261111.33   \n",
       "2014-12-30  2087.50  2088.50  2073.00  2076.75  716610.0     1284785.30   \n",
       "2014-12-31  2076.25  2082.75  2050.75  2052.50  835262.0     1319991.85   \n",
       "\n",
       "            close_gt_prev_h  close_lt_prev_l  vol_bo_long  vol_bo_short  \\\n",
       "Date                                                                      \n",
       "2014-12-24            -5.75             7.25          0.0           0.0   \n",
       "2014-12-26             0.75             7.25          0.0           0.0   \n",
       "2014-12-29            -3.00             7.25          0.0           0.0   \n",
       "2014-12-30           -12.00             0.75          0.0           0.0   \n",
       "2014-12-31           -36.00           -20.50          0.0           0.0   \n",
       "\n",
       "                  ...         ma100_long  ma100_short      bb_high  \\\n",
       "Date              ...                                                \n",
       "2014-12-24        ...                  1            0  2111.738883   \n",
       "2014-12-26        ...                  1            0  2114.146410   \n",
       "2014-12-29        ...                  1            0  2117.484882   \n",
       "2014-12-30        ...                  1            0  2120.430628   \n",
       "2014-12-31        ...                  1            0  2119.972587   \n",
       "\n",
       "                 bb_low  bb_long  bb_short  pct_change_1day  pct_change_5day  \\\n",
       "Date                                                                           \n",
       "2014-12-24  1976.291117        0         0        -0.000120         0.035105   \n",
       "2014-12-26  1975.518590        0         0         0.002646         0.011772   \n",
       "2014-12-29  1974.690118        0         0         0.000720         0.009071   \n",
       "2014-12-30  1975.069372        0         0        -0.004315         0.002051   \n",
       "2014-12-31  1974.902413        0         0        -0.011677        -0.012747   \n",
       "\n",
       "            pct_change_10day  pct_change_20day  \n",
       "Date                                            \n",
       "2014-12-24          0.029339          0.006805  \n",
       "2014-12-26          0.029768          0.007907  \n",
       "2014-12-29          0.047852          0.012181  \n",
       "2014-12-30          0.047145          0.016271  \n",
       "2014-12-31          0.044529         -0.003036  \n",
       "\n",
       "[5 rows x 31 columns]"
      ]
     },
     "execution_count": 11,
     "metadata": {},
     "output_type": "execute_result"
    }
   ],
   "source": [
    "emini_ind2.tail()"
   ]
  },
  {
   "cell_type": "code",
   "execution_count": null,
   "metadata": {
    "collapsed": true
   },
   "outputs": [],
   "source": []
  }
 ],
 "metadata": {
  "kernelspec": {
   "display_name": "Python 3",
   "language": "python",
   "name": "python3"
  },
  "language_info": {
   "codemirror_mode": {
    "name": "ipython",
    "version": 3
   },
   "file_extension": ".py",
   "mimetype": "text/x-python",
   "name": "python",
   "nbconvert_exporter": "python",
   "pygments_lexer": "ipython3",
   "version": "3.6.3"
  }
 },
 "nbformat": 4,
 "nbformat_minor": 2
}
