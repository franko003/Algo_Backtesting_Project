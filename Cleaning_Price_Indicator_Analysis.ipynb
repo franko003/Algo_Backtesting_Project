{
 "cells": [
  {
   "cell_type": "markdown",
   "metadata": {},
   "source": [
    "#### This is a testing notebook to run some cleaning and checking of the current database"
   ]
  },
  {
   "cell_type": "code",
   "execution_count": 1,
   "metadata": {
    "collapsed": true
   },
   "outputs": [],
   "source": [
    "import requests\n",
    "import pandas as pd\n",
    "import numpy as np\n",
    "import json\n",
    "import datetime\n",
    "import quandl"
   ]
  },
  {
   "cell_type": "code",
   "execution_count": 2,
   "metadata": {
    "collapsed": true
   },
   "outputs": [],
   "source": [
    "import matplotlib.pyplot as plt"
   ]
  },
  {
   "cell_type": "code",
   "execution_count": 3,
   "metadata": {
    "collapsed": true
   },
   "outputs": [],
   "source": [
    "% matplotlib inline"
   ]
  },
  {
   "cell_type": "code",
   "execution_count": 56,
   "metadata": {
    "collapsed": true
   },
   "outputs": [],
   "source": [
    "import sqlite3"
   ]
  },
  {
   "cell_type": "code",
   "execution_count": 57,
   "metadata": {
    "collapsed": true
   },
   "outputs": [],
   "source": [
    "sqlite_file = 'securities_master_db.sqlite'"
   ]
  },
  {
   "cell_type": "code",
   "execution_count": 6,
   "metadata": {
    "collapsed": true
   },
   "outputs": [],
   "source": [
    "# Copied in the relevant functions from database creation\n",
    "\n",
    "def create_df_crypto(symbol, curr='USD', limit=2500):\n",
    "    ''' This function takes in a symbol of a cryptocurrency to be\n",
    "        used with the Cryptocompare API, and returns a formatted dataframe\n",
    "        for later processing.\n",
    "\n",
    "        Args: symbol - cryptocurrency symbol\n",
    "              curr - currency to report in (default USD)\n",
    "              limit - max number of data points (default 2500)\n",
    "\n",
    "        Return: df - dataframe of daily price info for symbol\n",
    "    '''\n",
    "    # Set url and params for the call to Cryptocompare API\n",
    "    url = 'https://min-api.cryptocompare.com/data/histoday'\n",
    "    params = {'fsym': symbol, 'tsym': curr, 'limit': limit}\n",
    "\n",
    "    # Call API for symbol and put data into pandas dataframe\n",
    "    response = requests.get(url, params=params)\n",
    "    data = response.json()['Data']\n",
    "    df = pd.DataFrame(data)\n",
    "\n",
    "    # Add date column and set to index\n",
    "    df['Date'] =[datetime.date.fromtimestamp(d) for d in df.time]\n",
    "    df = df[['open', 'high', 'low', 'close', 'volumeto', 'Date']]\n",
    "    df.set_index('Date', inplace=True)\n",
    "\n",
    "    # Rename volumeto column\n",
    "    df.rename(columns={'volumeto': 'volume'}, inplace=True)\n",
    "\n",
    "    return df\n",
    "\n",
    "def create_df_quandl(symbol, api_key):\n",
    "    ''' This function takes in a symbol of a futures contract to be used\n",
    "        with the Quandl API as well as the API key, and returns a formatted\n",
    "        dataframe for processing.\n",
    "\n",
    "        Args: symbol - a symbol for a continuous futures contract\n",
    "              api_key - Quandl API key\n",
    "\n",
    "        Return: df - dataframe for daily price info for symbol\n",
    "    '''\n",
    "    # Quandl API call which puts price data into dataframe\n",
    "    df = quandl.get('SCF/CME_{s}1_FW'.format(s=symbol), authtoken=api_key)\n",
    "\n",
    "    # Drop open interest column and rename Settle column\n",
    "    df.drop(['Prev. Day Open Interest'], axis=1, inplace=True)\n",
    "    df.rename(columns={'Open': 'open',\n",
    "                      'High': 'high',\n",
    "                      'Low': 'low',\n",
    "                      'Settle': 'close',\n",
    "                      'Volume': 'volume'}, inplace=True)\n",
    "    return df\n",
    "\n",
    "def generate_df_dict(product_dict, api_key=None):\n",
    "    ''' This function takes in a dict of product symbols mapped to\n",
    "        information about the product  and a Quandl API key and returns\n",
    "        a dict object with the symbols as keys and a dataframe of price\n",
    "        info as values.\n",
    "\n",
    "        Args: product_dict - a dict of symbols for products with maps to\n",
    "                             a list of info\n",
    "              api_key - Quandl API key\n",
    "\n",
    "        Return: df_dict - a dictionary of symbols mapped to dataframes\n",
    "                          of price info\n",
    "    '''\n",
    "    df_dict = {}\n",
    "\n",
    "    # Iterate through list\n",
    "    for product, info in product_dict.items():\n",
    "        # Determine what dataframe creator to use\n",
    "        if info[0] == 1:\n",
    "            df = create_df_crypto(product)\n",
    "        if info[0] == 2:\n",
    "            df = create_df_quandl(product, api_key)\n",
    "\n",
    "        df_dict[product] = df\n",
    "\n",
    "    return df_dict"
   ]
  },
  {
   "cell_type": "code",
   "execution_count": 7,
   "metadata": {
    "collapsed": true
   },
   "outputs": [],
   "source": [
    "# Setting up the products, database and api key\n",
    "# Sqlite3 db info and Quandl key\n",
    "sqlite_file = 'securities_master_db.sqlite'\n",
    "api_key = 'Hv95pPh1xQWzt5DFhxS7'\n",
    "\n",
    "# Dict of all products with maps to data_id, name, sector, and exchange\n",
    "products = {'CL': [2, 'Crude', 'Energy', 'CME'],\n",
    "                'HO': [2, 'HeatOil', 'Energy', 'CME'],\n",
    "                'NG': [2, 'NatGas', 'Energy', 'CME'],\n",
    "                'GC': [2, 'Gold', 'Metals', 'CME'],\n",
    "                'SI': [2, 'Silver', 'Metals', 'CME'],\n",
    "                'AD': [2, 'Aussie', 'Forex', 'CME'],\n",
    "                'CD': [2, 'Canadien', 'Forex', 'CME'],\n",
    "                'EC': [2, 'Euro', 'Forex', 'CME'],\n",
    "                'BP': [2, 'Pound', 'Forex', 'CME'],\n",
    "                'JY': [2, 'Yen', 'Forex', 'CME'],\n",
    "                'US': [2, '30-yr', 'Treasuries', 'CME'],\n",
    "                'C': [2, 'Corn', 'Grains', 'CME'],\n",
    "                'W': [2, 'Wheat', 'Grains', 'CME'],\n",
    "                'S': [2, 'Soybeans', 'Grains', 'CME'],\n",
    "                'ES': [2, 'E-mini', 'Indexes', 'CME'],\n",
    "                'BTC': [1, 'Bitcoin', 'Cryptocurrency', 'CCAgg'],\n",
    "                'ETH': [1, 'Ethereum', 'Cryptocurrency', 'CCAgg'],\n",
    "                'XRP': [1, 'Ripple', 'Cryptocurrency', 'CCAgg'],\n",
    "                'BCH': [1, 'BitcoinCash', 'Cryptocurrency', 'CCAgg'],\n",
    "                'LTC': [1, 'Litecoin', 'Cryptocurrency', 'CCAgg'],\n",
    "                'ADA': [1, 'Cardano', 'Cryptocurrency', 'CCAgg'],\n",
    "                'NEO': [1, 'Neo', 'Cryptocurrency', 'CCAgg'],\n",
    "                'XLM': [1, 'Stellar', 'Cryptocurrency', 'CCAgg'],\n",
    "                'EOS': [1, 'EOS', 'Cryptocurrency', 'CCAgg'],\n",
    "                'XMR': [1, 'Monero', 'Cryptocurrency', 'CCAgg'],}"
   ]
  },
  {
   "cell_type": "code",
   "execution_count": 8,
   "metadata": {
    "collapsed": true
   },
   "outputs": [],
   "source": [
    "# Create a dict for cryptocurrencies only as these will need to have 0 data deleted\n",
    "crypto_dict = {prod: info for prod, info in products.items() if info[0] == 1}"
   ]
  },
  {
   "cell_type": "code",
   "execution_count": 122,
   "metadata": {
    "collapsed": true
   },
   "outputs": [],
   "source": [
    "df_dict_crypto = generate_df_dict(crypto_dict)"
   ]
  },
  {
   "cell_type": "code",
   "execution_count": 10,
   "metadata": {},
   "outputs": [
    {
     "data": {
      "text/html": [
       "<div>\n",
       "<table border=\"1\" class=\"dataframe\">\n",
       "  <thead>\n",
       "    <tr style=\"text-align: right;\">\n",
       "      <th></th>\n",
       "      <th>open</th>\n",
       "      <th>high</th>\n",
       "      <th>low</th>\n",
       "      <th>close</th>\n",
       "      <th>volume</th>\n",
       "    </tr>\n",
       "    <tr>\n",
       "      <th>Date</th>\n",
       "      <th></th>\n",
       "      <th></th>\n",
       "      <th></th>\n",
       "      <th></th>\n",
       "      <th></th>\n",
       "    </tr>\n",
       "  </thead>\n",
       "  <tbody>\n",
       "    <tr>\n",
       "      <th>2012-09-28</th>\n",
       "      <td>0.0</td>\n",
       "      <td>0.0</td>\n",
       "      <td>0.0</td>\n",
       "      <td>0.0</td>\n",
       "      <td>0.0</td>\n",
       "    </tr>\n",
       "    <tr>\n",
       "      <th>2012-09-29</th>\n",
       "      <td>0.0</td>\n",
       "      <td>0.0</td>\n",
       "      <td>0.0</td>\n",
       "      <td>0.0</td>\n",
       "      <td>0.0</td>\n",
       "    </tr>\n",
       "    <tr>\n",
       "      <th>2012-09-30</th>\n",
       "      <td>0.0</td>\n",
       "      <td>0.0</td>\n",
       "      <td>0.0</td>\n",
       "      <td>0.0</td>\n",
       "      <td>0.0</td>\n",
       "    </tr>\n",
       "    <tr>\n",
       "      <th>2012-10-01</th>\n",
       "      <td>0.0</td>\n",
       "      <td>0.0</td>\n",
       "      <td>0.0</td>\n",
       "      <td>0.0</td>\n",
       "      <td>0.0</td>\n",
       "    </tr>\n",
       "    <tr>\n",
       "      <th>2012-10-02</th>\n",
       "      <td>0.0</td>\n",
       "      <td>0.0</td>\n",
       "      <td>0.0</td>\n",
       "      <td>0.0</td>\n",
       "      <td>0.0</td>\n",
       "    </tr>\n",
       "  </tbody>\n",
       "</table>\n",
       "</div>"
      ],
      "text/plain": [
       "            open  high  low  close  volume\n",
       "Date                                      \n",
       "2012-09-28   0.0   0.0  0.0    0.0     0.0\n",
       "2012-09-29   0.0   0.0  0.0    0.0     0.0\n",
       "2012-09-30   0.0   0.0  0.0    0.0     0.0\n",
       "2012-10-01   0.0   0.0  0.0    0.0     0.0\n",
       "2012-10-02   0.0   0.0  0.0    0.0     0.0"
      ]
     },
     "execution_count": 10,
     "metadata": {},
     "output_type": "execute_result"
    }
   ],
   "source": [
    "eth = df_dict_crypto['ETH']\n",
    "eth.head()"
   ]
  },
  {
   "cell_type": "code",
   "execution_count": 11,
   "metadata": {},
   "outputs": [
    {
     "data": {
      "text/plain": [
       "datetime.date(2016, 3, 4)"
      ]
     },
     "execution_count": 11,
     "metadata": {},
     "output_type": "execute_result"
    }
   ],
   "source": [
    "eth_vol = eth[eth.volume > 1000000.0]\n",
    "start_date = eth.index[eth.volume > 1000000.0].tolist()[0]\n",
    "start_date"
   ]
  },
  {
   "cell_type": "code",
   "execution_count": 12,
   "metadata": {},
   "outputs": [
    {
     "data": {
      "text/html": [
       "<div>\n",
       "<table border=\"1\" class=\"dataframe\">\n",
       "  <thead>\n",
       "    <tr style=\"text-align: right;\">\n",
       "      <th></th>\n",
       "      <th>open</th>\n",
       "      <th>high</th>\n",
       "      <th>low</th>\n",
       "      <th>close</th>\n",
       "      <th>volume</th>\n",
       "    </tr>\n",
       "    <tr>\n",
       "      <th>Date</th>\n",
       "      <th></th>\n",
       "      <th></th>\n",
       "      <th></th>\n",
       "      <th></th>\n",
       "      <th></th>\n",
       "    </tr>\n",
       "  </thead>\n",
       "  <tbody>\n",
       "    <tr>\n",
       "      <th>2016-03-04</th>\n",
       "      <td>9.96</td>\n",
       "      <td>12.00</td>\n",
       "      <td>9.75</td>\n",
       "      <td>11.00</td>\n",
       "      <td>1726260.37</td>\n",
       "    </tr>\n",
       "    <tr>\n",
       "      <th>2016-03-11</th>\n",
       "      <td>11.25</td>\n",
       "      <td>13.48</td>\n",
       "      <td>11.03</td>\n",
       "      <td>13.25</td>\n",
       "      <td>1669862.35</td>\n",
       "    </tr>\n",
       "    <tr>\n",
       "      <th>2016-03-12</th>\n",
       "      <td>13.25</td>\n",
       "      <td>15.18</td>\n",
       "      <td>12.00</td>\n",
       "      <td>15.00</td>\n",
       "      <td>1539173.65</td>\n",
       "    </tr>\n",
       "    <tr>\n",
       "      <th>2016-03-13</th>\n",
       "      <td>15.00</td>\n",
       "      <td>15.00</td>\n",
       "      <td>10.50</td>\n",
       "      <td>12.50</td>\n",
       "      <td>1909296.28</td>\n",
       "    </tr>\n",
       "    <tr>\n",
       "      <th>2016-03-16</th>\n",
       "      <td>12.92</td>\n",
       "      <td>13.00</td>\n",
       "      <td>10.20</td>\n",
       "      <td>11.14</td>\n",
       "      <td>1442272.97</td>\n",
       "    </tr>\n",
       "  </tbody>\n",
       "</table>\n",
       "</div>"
      ],
      "text/plain": [
       "             open   high    low  close      volume\n",
       "Date                                              \n",
       "2016-03-04   9.96  12.00   9.75  11.00  1726260.37\n",
       "2016-03-11  11.25  13.48  11.03  13.25  1669862.35\n",
       "2016-03-12  13.25  15.18  12.00  15.00  1539173.65\n",
       "2016-03-13  15.00  15.00  10.50  12.50  1909296.28\n",
       "2016-03-16  12.92  13.00  10.20  11.14  1442272.97"
      ]
     },
     "execution_count": 12,
     "metadata": {},
     "output_type": "execute_result"
    }
   ],
   "source": [
    "eth_vol.head()"
   ]
  },
  {
   "cell_type": "code",
   "execution_count": 13,
   "metadata": {},
   "outputs": [
    {
     "data": {
      "text/html": [
       "<div>\n",
       "<table border=\"1\" class=\"dataframe\">\n",
       "  <thead>\n",
       "    <tr style=\"text-align: right;\">\n",
       "      <th></th>\n",
       "      <th>open</th>\n",
       "      <th>high</th>\n",
       "      <th>low</th>\n",
       "      <th>close</th>\n",
       "      <th>volume</th>\n",
       "    </tr>\n",
       "    <tr>\n",
       "      <th>Date</th>\n",
       "      <th></th>\n",
       "      <th></th>\n",
       "      <th></th>\n",
       "      <th></th>\n",
       "      <th></th>\n",
       "    </tr>\n",
       "  </thead>\n",
       "  <tbody>\n",
       "    <tr>\n",
       "      <th>2016-03-04</th>\n",
       "      <td>9.96</td>\n",
       "      <td>12.00</td>\n",
       "      <td>9.75</td>\n",
       "      <td>11.00</td>\n",
       "      <td>1726260.37</td>\n",
       "    </tr>\n",
       "    <tr>\n",
       "      <th>2016-03-05</th>\n",
       "      <td>11.00</td>\n",
       "      <td>11.90</td>\n",
       "      <td>9.75</td>\n",
       "      <td>10.98</td>\n",
       "      <td>845841.96</td>\n",
       "    </tr>\n",
       "    <tr>\n",
       "      <th>2016-03-06</th>\n",
       "      <td>10.98</td>\n",
       "      <td>11.47</td>\n",
       "      <td>9.06</td>\n",
       "      <td>9.50</td>\n",
       "      <td>732233.35</td>\n",
       "    </tr>\n",
       "    <tr>\n",
       "      <th>2016-03-07</th>\n",
       "      <td>9.50</td>\n",
       "      <td>10.89</td>\n",
       "      <td>8.49</td>\n",
       "      <td>9.88</td>\n",
       "      <td>592001.58</td>\n",
       "    </tr>\n",
       "    <tr>\n",
       "      <th>2016-03-08</th>\n",
       "      <td>9.88</td>\n",
       "      <td>12.00</td>\n",
       "      <td>9.60</td>\n",
       "      <td>11.55</td>\n",
       "      <td>568223.02</td>\n",
       "    </tr>\n",
       "  </tbody>\n",
       "</table>\n",
       "</div>"
      ],
      "text/plain": [
       "             open   high   low  close      volume\n",
       "Date                                             \n",
       "2016-03-04   9.96  12.00  9.75  11.00  1726260.37\n",
       "2016-03-05  11.00  11.90  9.75  10.98   845841.96\n",
       "2016-03-06  10.98  11.47  9.06   9.50   732233.35\n",
       "2016-03-07   9.50  10.89  8.49   9.88   592001.58\n",
       "2016-03-08   9.88  12.00  9.60  11.55   568223.02"
      ]
     },
     "execution_count": 13,
     "metadata": {},
     "output_type": "execute_result"
    }
   ],
   "source": [
    "eth_mil_vol = eth[start_date:]\n",
    "eth_mil_vol.head()"
   ]
  },
  {
   "cell_type": "code",
   "execution_count": 14,
   "metadata": {},
   "outputs": [
    {
     "data": {
      "text/html": [
       "<div>\n",
       "<table border=\"1\" class=\"dataframe\">\n",
       "  <thead>\n",
       "    <tr style=\"text-align: right;\">\n",
       "      <th></th>\n",
       "      <th>open</th>\n",
       "      <th>high</th>\n",
       "      <th>low</th>\n",
       "      <th>close</th>\n",
       "      <th>volume</th>\n",
       "    </tr>\n",
       "  </thead>\n",
       "  <tbody>\n",
       "    <tr>\n",
       "      <th>count</th>\n",
       "      <td>748.000000</td>\n",
       "      <td>748.000000</td>\n",
       "      <td>748.000000</td>\n",
       "      <td>748.000000</td>\n",
       "      <td>7.480000e+02</td>\n",
       "    </tr>\n",
       "    <tr>\n",
       "      <th>mean</th>\n",
       "      <td>210.007045</td>\n",
       "      <td>220.404813</td>\n",
       "      <td>197.495668</td>\n",
       "      <td>210.709987</td>\n",
       "      <td>1.378416e+08</td>\n",
       "    </tr>\n",
       "    <tr>\n",
       "      <th>std</th>\n",
       "      <td>298.505673</td>\n",
       "      <td>313.713006</td>\n",
       "      <td>279.228463</td>\n",
       "      <td>298.654387</td>\n",
       "      <td>2.509972e+08</td>\n",
       "    </tr>\n",
       "    <tr>\n",
       "      <th>min</th>\n",
       "      <td>6.690000</td>\n",
       "      <td>7.300000</td>\n",
       "      <td>5.970000</td>\n",
       "      <td>6.690000</td>\n",
       "      <td>1.095651e+05</td>\n",
       "    </tr>\n",
       "    <tr>\n",
       "      <th>25%</th>\n",
       "      <td>11.210000</td>\n",
       "      <td>11.592500</td>\n",
       "      <td>10.857500</td>\n",
       "      <td>11.210000</td>\n",
       "      <td>1.290058e+06</td>\n",
       "    </tr>\n",
       "    <tr>\n",
       "      <th>50%</th>\n",
       "      <td>25.880000</td>\n",
       "      <td>30.460000</td>\n",
       "      <td>25.105000</td>\n",
       "      <td>28.515000</td>\n",
       "      <td>1.357504e+07</td>\n",
       "    </tr>\n",
       "    <tr>\n",
       "      <th>75%</th>\n",
       "      <td>303.217500</td>\n",
       "      <td>311.247500</td>\n",
       "      <td>292.415000</td>\n",
       "      <td>303.655000</td>\n",
       "      <td>1.816108e+08</td>\n",
       "    </tr>\n",
       "    <tr>\n",
       "      <th>max</th>\n",
       "      <td>1385.020000</td>\n",
       "      <td>1422.860000</td>\n",
       "      <td>1271.070000</td>\n",
       "      <td>1385.020000</td>\n",
       "      <td>2.034011e+09</td>\n",
       "    </tr>\n",
       "  </tbody>\n",
       "</table>\n",
       "</div>"
      ],
      "text/plain": [
       "              open         high          low        close        volume\n",
       "count   748.000000   748.000000   748.000000   748.000000  7.480000e+02\n",
       "mean    210.007045   220.404813   197.495668   210.709987  1.378416e+08\n",
       "std     298.505673   313.713006   279.228463   298.654387  2.509972e+08\n",
       "min       6.690000     7.300000     5.970000     6.690000  1.095651e+05\n",
       "25%      11.210000    11.592500    10.857500    11.210000  1.290058e+06\n",
       "50%      25.880000    30.460000    25.105000    28.515000  1.357504e+07\n",
       "75%     303.217500   311.247500   292.415000   303.655000  1.816108e+08\n",
       "max    1385.020000  1422.860000  1271.070000  1385.020000  2.034011e+09"
      ]
     },
     "execution_count": 14,
     "metadata": {},
     "output_type": "execute_result"
    }
   ],
   "source": [
    "eth_mil_vol.describe()"
   ]
  },
  {
   "cell_type": "code",
   "execution_count": 15,
   "metadata": {},
   "outputs": [
    {
     "data": {
      "image/png": "[encoded data removed]",
      "text/plain": [
       "<matplotlib.figure.Figure at 0x1146b16d8>"
      ]
     },
     "metadata": {},
     "output_type": "display_data"
    }
   ],
   "source": [
    "plt.hist(eth_mil_vol.close)\n",
    "plt.show()"
   ]
  },
  {
   "cell_type": "code",
   "execution_count": 16,
   "metadata": {},
   "outputs": [
    {
     "data": {
      "image/png": "[encoded data removed]",
      "text/plain": [
       "<matplotlib.figure.Figure at 0x11466d208>"
      ]
     },
     "metadata": {},
     "output_type": "display_data"
    }
   ],
   "source": [
    "plt.plot(eth_mil_vol.index, eth_mil_vol.close)\n",
    "plt.show()"
   ]
  },
  {
   "cell_type": "code",
   "execution_count": 17,
   "metadata": {},
   "outputs": [
    {
     "name": "stderr",
     "output_type": "stream",
     "text": [
      "/Users/Frank/anaconda3/lib/python3.6/site-packages/ipykernel_launcher.py:1: FutureWarning: \n",
      "The default value for 'return_type' will change to 'axes' in a future release.\n",
      " To use the future behavior now, set return_type='axes'.\n",
      " To keep the previous behavior and silence this warning, set return_type='dict'.\n",
      "  \"\"\"Entry point for launching an IPython kernel.\n"
     ]
    },
    {
     "data": {
      "text/plain": [
       "{'boxes': [<matplotlib.lines.Line2D at 0x11bffd198>],\n",
       " 'caps': [<matplotlib.lines.Line2D at 0x11bffdb00>,\n",
       "  <matplotlib.lines.Line2D at 0x11bffdf60>],\n",
       " 'fliers': [<matplotlib.lines.Line2D at 0x11c068860>],\n",
       " 'means': [],\n",
       " 'medians': [<matplotlib.lines.Line2D at 0x11c068400>],\n",
       " 'whiskers': [<matplotlib.lines.Line2D at 0x11bffd2e8>,\n",
       "  <matplotlib.lines.Line2D at 0x11bffd6d8>]}"
      ]
     },
     "execution_count": 17,
     "metadata": {},
     "output_type": "execute_result"
    },
    {
     "data": {
      "image/png": "[encoded data removed]",
      "text/plain": [
       "<matplotlib.figure.Figure at 0x113d05550>"
      ]
     },
     "metadata": {},
     "output_type": "display_data"
    }
   ],
   "source": [
    "eth_mil_vol.boxplot(column='close', whis='range')"
   ]
  },
  {
   "cell_type": "code",
   "execution_count": 18,
   "metadata": {},
   "outputs": [
    {
     "data": {
      "text/plain": [
       "[(1, 2, 'CL', '2005-01-03', 43.1, 43.1, 41.25, 42.12, 69484),\n",
       " (2, 2, 'CL', '2005-01-04', 42.18, 44.13, 41.85, 43.91, 100665),\n",
       " (3, 2, 'CL', '2005-01-05', 43.9, 44.0, 42.6, 43.39, 91011),\n",
       " (4, 2, 'CL', '2005-01-06', 43.39, 45.75, 42.8, 45.56, 122411),\n",
       " (5, 2, 'CL', '2005-01-07', 45.5, 46.1, 44.75, 45.43, 99725)]"
      ]
     },
     "execution_count": 18,
     "metadata": {},
     "output_type": "execute_result"
    }
   ],
   "source": [
    "conn = sqlite3.connect(sqlite_file)\n",
    "c = conn.cursor()\n",
    "\n",
    "c.execute(\"SELECT * FROM Daily_Prices LIMIT 5\")\n",
    "c.fetchall()"
   ]
  },
  {
   "cell_type": "code",
   "execution_count": 19,
   "metadata": {},
   "outputs": [
    {
     "data": {
      "text/html": [
       "<div>\n",
       "<table border=\"1\" class=\"dataframe\">\n",
       "  <thead>\n",
       "    <tr style=\"text-align: right;\">\n",
       "      <th></th>\n",
       "      <th>open</th>\n",
       "      <th>high</th>\n",
       "      <th>low</th>\n",
       "      <th>close</th>\n",
       "      <th>volume</th>\n",
       "    </tr>\n",
       "    <tr>\n",
       "      <th>Date</th>\n",
       "      <th></th>\n",
       "      <th></th>\n",
       "      <th></th>\n",
       "      <th></th>\n",
       "      <th></th>\n",
       "    </tr>\n",
       "  </thead>\n",
       "  <tbody>\n",
       "    <tr>\n",
       "      <th>2016-03-04</th>\n",
       "      <td>9.96</td>\n",
       "      <td>12.00</td>\n",
       "      <td>9.75</td>\n",
       "      <td>11.00</td>\n",
       "      <td>1726260.37</td>\n",
       "    </tr>\n",
       "    <tr>\n",
       "      <th>2016-03-05</th>\n",
       "      <td>11.00</td>\n",
       "      <td>11.90</td>\n",
       "      <td>9.75</td>\n",
       "      <td>10.98</td>\n",
       "      <td>845841.96</td>\n",
       "    </tr>\n",
       "    <tr>\n",
       "      <th>2016-03-06</th>\n",
       "      <td>10.98</td>\n",
       "      <td>11.47</td>\n",
       "      <td>9.06</td>\n",
       "      <td>9.50</td>\n",
       "      <td>732233.35</td>\n",
       "    </tr>\n",
       "    <tr>\n",
       "      <th>2016-03-07</th>\n",
       "      <td>9.50</td>\n",
       "      <td>10.89</td>\n",
       "      <td>8.49</td>\n",
       "      <td>9.88</td>\n",
       "      <td>592001.58</td>\n",
       "    </tr>\n",
       "    <tr>\n",
       "      <th>2016-03-08</th>\n",
       "      <td>9.88</td>\n",
       "      <td>12.00</td>\n",
       "      <td>9.60</td>\n",
       "      <td>11.55</td>\n",
       "      <td>568223.02</td>\n",
       "    </tr>\n",
       "  </tbody>\n",
       "</table>\n",
       "</div>"
      ],
      "text/plain": [
       "             open   high   low  close      volume\n",
       "Date                                             \n",
       "2016-03-04   9.96  12.00  9.75  11.00  1726260.37\n",
       "2016-03-05  11.00  11.90  9.75  10.98   845841.96\n",
       "2016-03-06  10.98  11.47  9.06   9.50   732233.35\n",
       "2016-03-07   9.50  10.89  8.49   9.88   592001.58\n",
       "2016-03-08   9.88  12.00  9.60  11.55   568223.02"
      ]
     },
     "execution_count": 19,
     "metadata": {},
     "output_type": "execute_result"
    }
   ],
   "source": [
    "eth_mil_vol.head()"
   ]
  },
  {
   "cell_type": "code",
   "execution_count": 20,
   "metadata": {
    "collapsed": true
   },
   "outputs": [],
   "source": [
    "conn.close()"
   ]
  },
  {
   "cell_type": "code",
   "execution_count": 21,
   "metadata": {},
   "outputs": [
    {
     "data": {
      "text/html": [
       "<div>\n",
       "<table border=\"1\" class=\"dataframe\">\n",
       "  <thead>\n",
       "    <tr style=\"text-align: right;\">\n",
       "      <th></th>\n",
       "      <th>open</th>\n",
       "      <th>high</th>\n",
       "      <th>low</th>\n",
       "      <th>close</th>\n",
       "      <th>volume</th>\n",
       "    </tr>\n",
       "    <tr>\n",
       "      <th>Date</th>\n",
       "      <th></th>\n",
       "      <th></th>\n",
       "      <th></th>\n",
       "      <th></th>\n",
       "      <th></th>\n",
       "    </tr>\n",
       "  </thead>\n",
       "  <tbody>\n",
       "    <tr>\n",
       "      <th>2012-09-28</th>\n",
       "      <td>0.0</td>\n",
       "      <td>0.0</td>\n",
       "      <td>0.0</td>\n",
       "      <td>0.0</td>\n",
       "      <td>0.0</td>\n",
       "    </tr>\n",
       "    <tr>\n",
       "      <th>2012-09-29</th>\n",
       "      <td>0.0</td>\n",
       "      <td>0.0</td>\n",
       "      <td>0.0</td>\n",
       "      <td>0.0</td>\n",
       "      <td>0.0</td>\n",
       "    </tr>\n",
       "    <tr>\n",
       "      <th>2012-09-30</th>\n",
       "      <td>0.0</td>\n",
       "      <td>0.0</td>\n",
       "      <td>0.0</td>\n",
       "      <td>0.0</td>\n",
       "      <td>0.0</td>\n",
       "    </tr>\n",
       "    <tr>\n",
       "      <th>2012-10-01</th>\n",
       "      <td>0.0</td>\n",
       "      <td>0.0</td>\n",
       "      <td>0.0</td>\n",
       "      <td>0.0</td>\n",
       "      <td>0.0</td>\n",
       "    </tr>\n",
       "    <tr>\n",
       "      <th>2012-10-02</th>\n",
       "      <td>0.0</td>\n",
       "      <td>0.0</td>\n",
       "      <td>0.0</td>\n",
       "      <td>0.0</td>\n",
       "      <td>0.0</td>\n",
       "    </tr>\n",
       "  </tbody>\n",
       "</table>\n",
       "</div>"
      ],
      "text/plain": [
       "            open  high  low  close  volume\n",
       "Date                                      \n",
       "2012-09-28   0.0   0.0  0.0    0.0     0.0\n",
       "2012-09-29   0.0   0.0  0.0    0.0     0.0\n",
       "2012-09-30   0.0   0.0  0.0    0.0     0.0\n",
       "2012-10-01   0.0   0.0  0.0    0.0     0.0\n",
       "2012-10-02   0.0   0.0  0.0    0.0     0.0"
      ]
     },
     "execution_count": 21,
     "metadata": {},
     "output_type": "execute_result"
    }
   ],
   "source": [
    "eth.head()"
   ]
  },
  {
   "cell_type": "code",
   "execution_count": 22,
   "metadata": {},
   "outputs": [
    {
     "data": {
      "text/html": [
       "<div>\n",
       "<table border=\"1\" class=\"dataframe\">\n",
       "  <thead>\n",
       "    <tr style=\"text-align: right;\">\n",
       "      <th></th>\n",
       "      <th>open</th>\n",
       "      <th>high</th>\n",
       "      <th>low</th>\n",
       "      <th>close</th>\n",
       "      <th>volume</th>\n",
       "    </tr>\n",
       "    <tr>\n",
       "      <th>Date</th>\n",
       "      <th></th>\n",
       "      <th></th>\n",
       "      <th></th>\n",
       "      <th></th>\n",
       "      <th></th>\n",
       "    </tr>\n",
       "  </thead>\n",
       "  <tbody>\n",
       "    <tr>\n",
       "      <th>2016-03-04</th>\n",
       "      <td>9.96</td>\n",
       "      <td>12.00</td>\n",
       "      <td>9.75</td>\n",
       "      <td>11.00</td>\n",
       "      <td>1726260.37</td>\n",
       "    </tr>\n",
       "    <tr>\n",
       "      <th>2016-03-05</th>\n",
       "      <td>11.00</td>\n",
       "      <td>11.90</td>\n",
       "      <td>9.75</td>\n",
       "      <td>10.98</td>\n",
       "      <td>845841.96</td>\n",
       "    </tr>\n",
       "    <tr>\n",
       "      <th>2016-03-06</th>\n",
       "      <td>10.98</td>\n",
       "      <td>11.47</td>\n",
       "      <td>9.06</td>\n",
       "      <td>9.50</td>\n",
       "      <td>732233.35</td>\n",
       "    </tr>\n",
       "    <tr>\n",
       "      <th>2016-03-07</th>\n",
       "      <td>9.50</td>\n",
       "      <td>10.89</td>\n",
       "      <td>8.49</td>\n",
       "      <td>9.88</td>\n",
       "      <td>592001.58</td>\n",
       "    </tr>\n",
       "    <tr>\n",
       "      <th>2016-03-08</th>\n",
       "      <td>9.88</td>\n",
       "      <td>12.00</td>\n",
       "      <td>9.60</td>\n",
       "      <td>11.55</td>\n",
       "      <td>568223.02</td>\n",
       "    </tr>\n",
       "  </tbody>\n",
       "</table>\n",
       "</div>"
      ],
      "text/plain": [
       "             open   high   low  close      volume\n",
       "Date                                             \n",
       "2016-03-04   9.96  12.00  9.75  11.00  1726260.37\n",
       "2016-03-05  11.00  11.90  9.75  10.98   845841.96\n",
       "2016-03-06  10.98  11.47  9.06   9.50   732233.35\n",
       "2016-03-07   9.50  10.89  8.49   9.88   592001.58\n",
       "2016-03-08   9.88  12.00  9.60  11.55   568223.02"
      ]
     },
     "execution_count": 22,
     "metadata": {},
     "output_type": "execute_result"
    }
   ],
   "source": [
    "test_df = eth.ix[start_date:]\n",
    "test_df.head()"
   ]
  },
  {
   "cell_type": "code",
   "execution_count": 26,
   "metadata": {
    "collapsed": true
   },
   "outputs": [],
   "source": [
    "def volume_filtered_df(df, min_volume=1000000):\n",
    "    ''' This function takes in a dataframe of daily price data and a min_volume and returns\n",
    "        the dataframe from the first data point that achieves the min_volume threshold on.\n",
    "        \n",
    "        Args: df - daily price dataframe for specific product\n",
    "              min_volume - the min volume threshold for using daily price data\n",
    "              \n",
    "        Return: df - modified dataframe to include only relevant data\n",
    "    '''\n",
    "    # Find the first data point that reaches the volume threshold\n",
    "    start_date = df.index[df.volume > min_volume].tolist()[0]\n",
    "    \n",
    "    return df[start_date:]"
   ]
  },
  {
   "cell_type": "code",
   "execution_count": 27,
   "metadata": {},
   "outputs": [
    {
     "data": {
      "text/html": [
       "<div>\n",
       "<table border=\"1\" class=\"dataframe\">\n",
       "  <thead>\n",
       "    <tr style=\"text-align: right;\">\n",
       "      <th></th>\n",
       "      <th>open</th>\n",
       "      <th>high</th>\n",
       "      <th>low</th>\n",
       "      <th>close</th>\n",
       "      <th>volume</th>\n",
       "    </tr>\n",
       "    <tr>\n",
       "      <th>Date</th>\n",
       "      <th></th>\n",
       "      <th></th>\n",
       "      <th></th>\n",
       "      <th></th>\n",
       "      <th></th>\n",
       "    </tr>\n",
       "  </thead>\n",
       "  <tbody>\n",
       "    <tr>\n",
       "      <th>2012-09-28</th>\n",
       "      <td>0.0</td>\n",
       "      <td>0.0</td>\n",
       "      <td>0.0</td>\n",
       "      <td>0.0</td>\n",
       "      <td>0.0</td>\n",
       "    </tr>\n",
       "    <tr>\n",
       "      <th>2012-09-29</th>\n",
       "      <td>0.0</td>\n",
       "      <td>0.0</td>\n",
       "      <td>0.0</td>\n",
       "      <td>0.0</td>\n",
       "      <td>0.0</td>\n",
       "    </tr>\n",
       "    <tr>\n",
       "      <th>2012-09-30</th>\n",
       "      <td>0.0</td>\n",
       "      <td>0.0</td>\n",
       "      <td>0.0</td>\n",
       "      <td>0.0</td>\n",
       "      <td>0.0</td>\n",
       "    </tr>\n",
       "    <tr>\n",
       "      <th>2012-10-01</th>\n",
       "      <td>0.0</td>\n",
       "      <td>0.0</td>\n",
       "      <td>0.0</td>\n",
       "      <td>0.0</td>\n",
       "      <td>0.0</td>\n",
       "    </tr>\n",
       "    <tr>\n",
       "      <th>2012-10-02</th>\n",
       "      <td>0.0</td>\n",
       "      <td>0.0</td>\n",
       "      <td>0.0</td>\n",
       "      <td>0.0</td>\n",
       "      <td>0.0</td>\n",
       "    </tr>\n",
       "  </tbody>\n",
       "</table>\n",
       "</div>"
      ],
      "text/plain": [
       "            open  high  low  close  volume\n",
       "Date                                      \n",
       "2012-09-28   0.0   0.0  0.0    0.0     0.0\n",
       "2012-09-29   0.0   0.0  0.0    0.0     0.0\n",
       "2012-09-30   0.0   0.0  0.0    0.0     0.0\n",
       "2012-10-01   0.0   0.0  0.0    0.0     0.0\n",
       "2012-10-02   0.0   0.0  0.0    0.0     0.0"
      ]
     },
     "execution_count": 27,
     "metadata": {},
     "output_type": "execute_result"
    }
   ],
   "source": [
    "xrp = df_dict_crypto['XRP']\n",
    "xrp.head()"
   ]
  },
  {
   "cell_type": "code",
   "execution_count": 28,
   "metadata": {},
   "outputs": [
    {
     "data": {
      "text/html": [
       "<div>\n",
       "<table border=\"1\" class=\"dataframe\">\n",
       "  <thead>\n",
       "    <tr style=\"text-align: right;\">\n",
       "      <th></th>\n",
       "      <th>open</th>\n",
       "      <th>high</th>\n",
       "      <th>low</th>\n",
       "      <th>close</th>\n",
       "      <th>volume</th>\n",
       "    </tr>\n",
       "    <tr>\n",
       "      <th>Date</th>\n",
       "      <th></th>\n",
       "      <th></th>\n",
       "      <th></th>\n",
       "      <th></th>\n",
       "      <th></th>\n",
       "    </tr>\n",
       "  </thead>\n",
       "  <tbody>\n",
       "    <tr>\n",
       "      <th>2017-03-23</th>\n",
       "      <td>0.01100</td>\n",
       "      <td>0.01182</td>\n",
       "      <td>0.00815</td>\n",
       "      <td>0.01062</td>\n",
       "      <td>1558480.67</td>\n",
       "    </tr>\n",
       "    <tr>\n",
       "      <th>2017-03-24</th>\n",
       "      <td>0.01062</td>\n",
       "      <td>0.01084</td>\n",
       "      <td>0.00879</td>\n",
       "      <td>0.00888</td>\n",
       "      <td>650956.80</td>\n",
       "    </tr>\n",
       "    <tr>\n",
       "      <th>2017-03-25</th>\n",
       "      <td>0.00888</td>\n",
       "      <td>0.00982</td>\n",
       "      <td>0.00888</td>\n",
       "      <td>0.00937</td>\n",
       "      <td>230824.07</td>\n",
       "    </tr>\n",
       "    <tr>\n",
       "      <th>2017-03-26</th>\n",
       "      <td>0.00937</td>\n",
       "      <td>0.01025</td>\n",
       "      <td>0.00900</td>\n",
       "      <td>0.00943</td>\n",
       "      <td>403512.31</td>\n",
       "    </tr>\n",
       "    <tr>\n",
       "      <th>2017-03-27</th>\n",
       "      <td>0.00943</td>\n",
       "      <td>0.00965</td>\n",
       "      <td>0.00906</td>\n",
       "      <td>0.00955</td>\n",
       "      <td>237326.87</td>\n",
       "    </tr>\n",
       "  </tbody>\n",
       "</table>\n",
       "</div>"
      ],
      "text/plain": [
       "               open     high      low    close      volume\n",
       "Date                                                      \n",
       "2017-03-23  0.01100  0.01182  0.00815  0.01062  1558480.67\n",
       "2017-03-24  0.01062  0.01084  0.00879  0.00888   650956.80\n",
       "2017-03-25  0.00888  0.00982  0.00888  0.00937   230824.07\n",
       "2017-03-26  0.00937  0.01025  0.00900  0.00943   403512.31\n",
       "2017-03-27  0.00943  0.00965  0.00906  0.00955   237326.87"
      ]
     },
     "execution_count": 28,
     "metadata": {},
     "output_type": "execute_result"
    }
   ],
   "source": [
    "xrp_cleaned = volume_filtered_df(xrp)\n",
    "xrp_cleaned.head()"
   ]
  },
  {
   "cell_type": "code",
   "execution_count": 29,
   "metadata": {},
   "outputs": [
    {
     "name": "stdout",
     "output_type": "stream",
     "text": [
      "2001 364\n"
     ]
    }
   ],
   "source": [
    "print(len(xrp), len(xrp_cleaned))"
   ]
  },
  {
   "cell_type": "code",
   "execution_count": 40,
   "metadata": {},
   "outputs": [
    {
     "name": "stderr",
     "output_type": "stream",
     "text": [
      "/Users/Frank/anaconda3/lib/python3.6/site-packages/ipykernel_launcher.py:1: SettingWithCopyWarning: \n",
      "A value is trying to be set on a copy of a slice from a DataFrame.\n",
      "Try using .loc[row_indexer,col_indexer] = value instead\n",
      "\n",
      "See the caveats in the documentation: http://pandas.pydata.org/pandas-docs/stable/indexing.html#indexing-view-versus-copy\n",
      "  \"\"\"Entry point for launching an IPython kernel.\n"
     ]
    }
   ],
   "source": [
    "xrp_cleaned['std'] = ((xrp_cleaned['close'] - xrp_cleaned['close'].mean()).apply(abs)) / xrp_cleaned['close'].std()"
   ]
  },
  {
   "cell_type": "code",
   "execution_count": 33,
   "metadata": {},
   "outputs": [
    {
     "data": {
      "text/plain": [
       "0.4651088736263738"
      ]
     },
     "execution_count": 33,
     "metadata": {},
     "output_type": "execute_result"
    }
   ],
   "source": [
    "xrp_cleaned['close'].mean()"
   ]
  },
  {
   "cell_type": "code",
   "execution_count": 34,
   "metadata": {},
   "outputs": [
    {
     "name": "stderr",
     "output_type": "stream",
     "text": [
      "/Users/Frank/anaconda3/lib/python3.6/site-packages/ipykernel_launcher.py:1: SettingWithCopyWarning: \n",
      "A value is trying to be set on a copy of a slice from a DataFrame.\n",
      "Try using .loc[row_indexer,col_indexer] = value instead\n",
      "\n",
      "See the caveats in the documentation: http://pandas.pydata.org/pandas-docs/stable/indexing.html#indexing-view-versus-copy\n",
      "  \"\"\"Entry point for launching an IPython kernel.\n"
     ]
    }
   ],
   "source": [
    "xrp_cleaned['new'] = [0]*len(xrp_cleaned)"
   ]
  },
  {
   "cell_type": "code",
   "execution_count": 36,
   "metadata": {},
   "outputs": [
    {
     "data": {
      "text/plain": [
       "0.5295699427674778"
      ]
     },
     "execution_count": 36,
     "metadata": {},
     "output_type": "execute_result"
    }
   ],
   "source": [
    "xrp_cleaned['close'].std()"
   ]
  },
  {
   "cell_type": "code",
   "execution_count": 39,
   "metadata": {
    "collapsed": true
   },
   "outputs": [
    {
     "data": {
      "text/plain": [
       "Date\n",
       "2017-03-23    0.858223\n",
       "2017-03-24    0.861508\n",
       "2017-03-25    0.860583\n",
       "2017-03-26    0.860470\n",
       "2017-03-27    0.860243\n",
       "2017-03-28    0.859110\n",
       "2017-03-29    0.852161\n",
       "2017-03-30    0.837866\n",
       "2017-03-31    0.836733\n",
       "2017-04-01    0.762145\n",
       "2017-04-02    0.817831\n",
       "2017-04-03    0.806766\n",
       "2017-04-04    0.811071\n",
       "2017-04-05    0.815584\n",
       "2017-04-06    0.808125\n",
       "2017-04-07    0.810769\n",
       "2017-04-08    0.813677\n",
       "2017-04-09    0.813998\n",
       "2017-04-10    0.815660\n",
       "2017-04-11    0.813035\n",
       "2017-04-12    0.813658\n",
       "2017-04-13    0.815055\n",
       "2017-04-14    0.814432\n",
       "2017-04-15    0.815849\n",
       "2017-04-16    0.815339\n",
       "2017-04-17    0.816321\n",
       "2017-04-18    0.820966\n",
       "2017-04-19    0.821646\n",
       "2017-04-20    0.814923\n",
       "2017-04-21    0.818606\n",
       "                ...   \n",
       "2018-02-20    0.917898\n",
       "2018-02-21    0.803088\n",
       "2018-02-22    0.897126\n",
       "2018-02-23    0.822915\n",
       "2018-02-24    0.823482\n",
       "2018-02-25    0.877110\n",
       "2018-02-26    0.873333\n",
       "2018-02-27    0.793457\n",
       "2018-02-28    0.850485\n",
       "2018-03-01    0.818006\n",
       "2018-03-02    0.818194\n",
       "2018-03-03    1.010048\n",
       "2018-03-04    0.901847\n",
       "2018-03-05    0.823670\n",
       "2018-03-06    0.733409\n",
       "2018-03-07    0.642391\n",
       "2018-03-08    0.676948\n",
       "2018-03-09    0.585175\n",
       "2018-03-10    0.665051\n",
       "2018-03-11    0.598771\n",
       "2018-03-12    0.590274\n",
       "2018-03-13    0.420135\n",
       "2018-03-14    0.413526\n",
       "2018-03-15    0.401819\n",
       "2018-03-16    0.307214\n",
       "2018-03-17    0.349134\n",
       "2018-03-18    0.481884\n",
       "2018-03-19    0.442795\n",
       "2018-03-20    0.403141\n",
       "2018-03-21    0.353289\n",
       "Name: close, dtype: float64"
      ]
     },
     "execution_count": 39,
     "metadata": {},
     "output_type": "execute_result"
    }
   ],
   "source": [
    "((xrp_cleaned['close'] - xrp_cleaned['close'].mean()).apply(abs)) / xrp_cleaned['close'].std()"
   ]
  },
  {
   "cell_type": "code",
   "execution_count": 41,
   "metadata": {
    "collapsed": true
   },
   "outputs": [
    {
     "data": {
      "text/html": [
       "<div>\n",
       "<table border=\"1\" class=\"dataframe\">\n",
       "  <thead>\n",
       "    <tr style=\"text-align: right;\">\n",
       "      <th></th>\n",
       "      <th>open</th>\n",
       "      <th>high</th>\n",
       "      <th>low</th>\n",
       "      <th>close</th>\n",
       "      <th>volume</th>\n",
       "      <th>std</th>\n",
       "      <th>new</th>\n",
       "    </tr>\n",
       "    <tr>\n",
       "      <th>Date</th>\n",
       "      <th></th>\n",
       "      <th></th>\n",
       "      <th></th>\n",
       "      <th></th>\n",
       "      <th></th>\n",
       "      <th></th>\n",
       "      <th></th>\n",
       "    </tr>\n",
       "  </thead>\n",
       "  <tbody>\n",
       "    <tr>\n",
       "      <th>2017-03-23</th>\n",
       "      <td>0.01100</td>\n",
       "      <td>0.01182</td>\n",
       "      <td>0.00815</td>\n",
       "      <td>0.01062</td>\n",
       "      <td>1558480.67</td>\n",
       "      <td>0.858223</td>\n",
       "      <td>0</td>\n",
       "    </tr>\n",
       "    <tr>\n",
       "      <th>2017-03-24</th>\n",
       "      <td>0.01062</td>\n",
       "      <td>0.01084</td>\n",
       "      <td>0.00879</td>\n",
       "      <td>0.00888</td>\n",
       "      <td>650956.80</td>\n",
       "      <td>0.861508</td>\n",
       "      <td>0</td>\n",
       "    </tr>\n",
       "    <tr>\n",
       "      <th>2017-03-25</th>\n",
       "      <td>0.00888</td>\n",
       "      <td>0.00982</td>\n",
       "      <td>0.00888</td>\n",
       "      <td>0.00937</td>\n",
       "      <td>230824.07</td>\n",
       "      <td>0.860583</td>\n",
       "      <td>0</td>\n",
       "    </tr>\n",
       "    <tr>\n",
       "      <th>2017-03-26</th>\n",
       "      <td>0.00937</td>\n",
       "      <td>0.01025</td>\n",
       "      <td>0.00900</td>\n",
       "      <td>0.00943</td>\n",
       "      <td>403512.31</td>\n",
       "      <td>0.860470</td>\n",
       "      <td>0</td>\n",
       "    </tr>\n",
       "    <tr>\n",
       "      <th>2017-03-27</th>\n",
       "      <td>0.00943</td>\n",
       "      <td>0.00965</td>\n",
       "      <td>0.00906</td>\n",
       "      <td>0.00955</td>\n",
       "      <td>237326.87</td>\n",
       "      <td>0.860243</td>\n",
       "      <td>0</td>\n",
       "    </tr>\n",
       "  </tbody>\n",
       "</table>\n",
       "</div>"
      ],
      "text/plain": [
       "               open     high      low    close      volume       std  new\n",
       "Date                                                                     \n",
       "2017-03-23  0.01100  0.01182  0.00815  0.01062  1558480.67  0.858223    0\n",
       "2017-03-24  0.01062  0.01084  0.00879  0.00888   650956.80  0.861508    0\n",
       "2017-03-25  0.00888  0.00982  0.00888  0.00937   230824.07  0.860583    0\n",
       "2017-03-26  0.00937  0.01025  0.00900  0.00943   403512.31  0.860470    0\n",
       "2017-03-27  0.00943  0.00965  0.00906  0.00955   237326.87  0.860243    0"
      ]
     },
     "execution_count": 41,
     "metadata": {},
     "output_type": "execute_result"
    }
   ],
   "source": [
    "xrp_cleaned.head()"
   ]
  },
  {
   "cell_type": "code",
   "execution_count": 44,
   "metadata": {},
   "outputs": [],
   "source": [
    "xrp_outliers = xrp_cleaned[xrp_cleaned['std'] > 1.5]"
   ]
  },
  {
   "cell_type": "code",
   "execution_count": 45,
   "metadata": {},
   "outputs": [
    {
     "data": {
      "text/plain": [
       "30"
      ]
     },
     "execution_count": 45,
     "metadata": {},
     "output_type": "execute_result"
    }
   ],
   "source": [
    "len(xrp_outliers)"
   ]
  },
  {
   "cell_type": "code",
   "execution_count": 46,
   "metadata": {
    "collapsed": true
   },
   "outputs": [
    {
     "data": {
      "text/html": [
       "<div>\n",
       "<table border=\"1\" class=\"dataframe\">\n",
       "  <thead>\n",
       "    <tr style=\"text-align: right;\">\n",
       "      <th></th>\n",
       "      <th>open</th>\n",
       "      <th>high</th>\n",
       "      <th>low</th>\n",
       "      <th>close</th>\n",
       "      <th>volume</th>\n",
       "      <th>std</th>\n",
       "      <th>new</th>\n",
       "    </tr>\n",
       "    <tr>\n",
       "      <th>Date</th>\n",
       "      <th></th>\n",
       "      <th></th>\n",
       "      <th></th>\n",
       "      <th></th>\n",
       "      <th></th>\n",
       "      <th></th>\n",
       "      <th></th>\n",
       "    </tr>\n",
       "  </thead>\n",
       "  <tbody>\n",
       "    <tr>\n",
       "      <th>2017-12-27</th>\n",
       "      <td>1.21</td>\n",
       "      <td>1.31</td>\n",
       "      <td>1.1000</td>\n",
       "      <td>1.26</td>\n",
       "      <td>3.468453e+08</td>\n",
       "      <td>1.501013</td>\n",
       "      <td>0</td>\n",
       "    </tr>\n",
       "    <tr>\n",
       "      <th>2017-12-28</th>\n",
       "      <td>1.26</td>\n",
       "      <td>1.97</td>\n",
       "      <td>1.2500</td>\n",
       "      <td>1.93</td>\n",
       "      <td>1.092825e+09</td>\n",
       "      <td>2.766190</td>\n",
       "      <td>0</td>\n",
       "    </tr>\n",
       "    <tr>\n",
       "      <th>2017-12-29</th>\n",
       "      <td>1.93</td>\n",
       "      <td>2.44</td>\n",
       "      <td>1.7700</td>\n",
       "      <td>1.86</td>\n",
       "      <td>1.565229e+09</td>\n",
       "      <td>2.634007</td>\n",
       "      <td>0</td>\n",
       "    </tr>\n",
       "    <tr>\n",
       "      <th>2017-12-30</th>\n",
       "      <td>1.86</td>\n",
       "      <td>2.09</td>\n",
       "      <td>1.6100</td>\n",
       "      <td>1.98</td>\n",
       "      <td>5.142730e+08</td>\n",
       "      <td>2.860606</td>\n",
       "      <td>0</td>\n",
       "    </tr>\n",
       "    <tr>\n",
       "      <th>2017-12-31</th>\n",
       "      <td>1.98</td>\n",
       "      <td>2.09</td>\n",
       "      <td>1.8100</td>\n",
       "      <td>2.05</td>\n",
       "      <td>2.327574e+08</td>\n",
       "      <td>2.992789</td>\n",
       "      <td>0</td>\n",
       "    </tr>\n",
       "    <tr>\n",
       "      <th>2018-01-01</th>\n",
       "      <td>2.05</td>\n",
       "      <td>2.21</td>\n",
       "      <td>1.8900</td>\n",
       "      <td>2.19</td>\n",
       "      <td>4.186053e+08</td>\n",
       "      <td>3.257155</td>\n",
       "      <td>0</td>\n",
       "    </tr>\n",
       "    <tr>\n",
       "      <th>2018-01-02</th>\n",
       "      <td>2.19</td>\n",
       "      <td>2.85</td>\n",
       "      <td>2.1500</td>\n",
       "      <td>2.73</td>\n",
       "      <td>9.862508e+08</td>\n",
       "      <td>4.276850</td>\n",
       "      <td>0</td>\n",
       "    </tr>\n",
       "    <tr>\n",
       "      <th>2018-01-03</th>\n",
       "      <td>2.73</td>\n",
       "      <td>3.29</td>\n",
       "      <td>2.5800</td>\n",
       "      <td>2.73</td>\n",
       "      <td>1.299128e+09</td>\n",
       "      <td>4.276850</td>\n",
       "      <td>0</td>\n",
       "    </tr>\n",
       "    <tr>\n",
       "      <th>2018-01-04</th>\n",
       "      <td>2.73</td>\n",
       "      <td>3.05</td>\n",
       "      <td>2.2400</td>\n",
       "      <td>2.51</td>\n",
       "      <td>1.002020e+09</td>\n",
       "      <td>3.861418</td>\n",
       "      <td>0</td>\n",
       "    </tr>\n",
       "    <tr>\n",
       "      <th>2018-01-05</th>\n",
       "      <td>2.51</td>\n",
       "      <td>2.85</td>\n",
       "      <td>2.4600</td>\n",
       "      <td>2.65</td>\n",
       "      <td>3.987366e+08</td>\n",
       "      <td>4.125784</td>\n",
       "      <td>0</td>\n",
       "    </tr>\n",
       "    <tr>\n",
       "      <th>2018-01-06</th>\n",
       "      <td>2.65</td>\n",
       "      <td>2.82</td>\n",
       "      <td>2.5800</td>\n",
       "      <td>2.78</td>\n",
       "      <td>2.723596e+08</td>\n",
       "      <td>4.371266</td>\n",
       "      <td>0</td>\n",
       "    </tr>\n",
       "    <tr>\n",
       "      <th>2018-01-07</th>\n",
       "      <td>2.78</td>\n",
       "      <td>2.78</td>\n",
       "      <td>1.9300</td>\n",
       "      <td>2.41</td>\n",
       "      <td>5.353534e+08</td>\n",
       "      <td>3.672586</td>\n",
       "      <td>0</td>\n",
       "    </tr>\n",
       "    <tr>\n",
       "      <th>2018-01-08</th>\n",
       "      <td>2.41</td>\n",
       "      <td>2.50</td>\n",
       "      <td>1.9200</td>\n",
       "      <td>2.06</td>\n",
       "      <td>4.803163e+08</td>\n",
       "      <td>3.011672</td>\n",
       "      <td>0</td>\n",
       "    </tr>\n",
       "    <tr>\n",
       "      <th>2018-01-09</th>\n",
       "      <td>2.06</td>\n",
       "      <td>2.13</td>\n",
       "      <td>1.6300</td>\n",
       "      <td>1.95</td>\n",
       "      <td>7.613970e+08</td>\n",
       "      <td>2.803957</td>\n",
       "      <td>0</td>\n",
       "    </tr>\n",
       "    <tr>\n",
       "      <th>2018-01-10</th>\n",
       "      <td>1.95</td>\n",
       "      <td>2.24</td>\n",
       "      <td>1.5600</td>\n",
       "      <td>1.93</td>\n",
       "      <td>1.018948e+09</td>\n",
       "      <td>2.766190</td>\n",
       "      <td>0</td>\n",
       "    </tr>\n",
       "    <tr>\n",
       "      <th>2018-01-11</th>\n",
       "      <td>1.93</td>\n",
       "      <td>2.16</td>\n",
       "      <td>1.8100</td>\n",
       "      <td>2.02</td>\n",
       "      <td>4.297155e+08</td>\n",
       "      <td>2.936139</td>\n",
       "      <td>0</td>\n",
       "    </tr>\n",
       "    <tr>\n",
       "      <th>2018-01-12</th>\n",
       "      <td>2.02</td>\n",
       "      <td>2.10</td>\n",
       "      <td>1.9600</td>\n",
       "      <td>2.00</td>\n",
       "      <td>1.948448e+08</td>\n",
       "      <td>2.898373</td>\n",
       "      <td>0</td>\n",
       "    </tr>\n",
       "    <tr>\n",
       "      <th>2018-01-13</th>\n",
       "      <td>2.00</td>\n",
       "      <td>2.00</td>\n",
       "      <td>1.7600</td>\n",
       "      <td>1.83</td>\n",
       "      <td>1.859091e+08</td>\n",
       "      <td>2.577358</td>\n",
       "      <td>0</td>\n",
       "    </tr>\n",
       "    <tr>\n",
       "      <th>2018-01-14</th>\n",
       "      <td>1.83</td>\n",
       "      <td>1.88</td>\n",
       "      <td>1.6300</td>\n",
       "      <td>1.66</td>\n",
       "      <td>1.784521e+08</td>\n",
       "      <td>2.256342</td>\n",
       "      <td>0</td>\n",
       "    </tr>\n",
       "    <tr>\n",
       "      <th>2018-01-16</th>\n",
       "      <td>1.15</td>\n",
       "      <td>1.38</td>\n",
       "      <td>0.8747</td>\n",
       "      <td>1.31</td>\n",
       "      <td>9.296654e+08</td>\n",
       "      <td>1.595429</td>\n",
       "      <td>0</td>\n",
       "    </tr>\n",
       "    <tr>\n",
       "      <th>2018-01-17</th>\n",
       "      <td>1.31</td>\n",
       "      <td>1.73</td>\n",
       "      <td>1.2300</td>\n",
       "      <td>1.57</td>\n",
       "      <td>8.778588e+08</td>\n",
       "      <td>2.086393</td>\n",
       "      <td>0</td>\n",
       "    </tr>\n",
       "    <tr>\n",
       "      <th>2018-01-18</th>\n",
       "      <td>1.57</td>\n",
       "      <td>1.68</td>\n",
       "      <td>1.4700</td>\n",
       "      <td>1.54</td>\n",
       "      <td>4.018717e+08</td>\n",
       "      <td>2.029743</td>\n",
       "      <td>0</td>\n",
       "    </tr>\n",
       "    <tr>\n",
       "      <th>2018-01-19</th>\n",
       "      <td>1.54</td>\n",
       "      <td>1.63</td>\n",
       "      <td>1.4800</td>\n",
       "      <td>1.57</td>\n",
       "      <td>2.491608e+08</td>\n",
       "      <td>2.086393</td>\n",
       "      <td>0</td>\n",
       "    </tr>\n",
       "    <tr>\n",
       "      <th>2018-01-20</th>\n",
       "      <td>1.57</td>\n",
       "      <td>1.57</td>\n",
       "      <td>1.3100</td>\n",
       "      <td>1.37</td>\n",
       "      <td>3.456417e+08</td>\n",
       "      <td>1.708728</td>\n",
       "      <td>0</td>\n",
       "    </tr>\n",
       "    <tr>\n",
       "      <th>2018-01-21</th>\n",
       "      <td>1.37</td>\n",
       "      <td>1.42</td>\n",
       "      <td>1.1400</td>\n",
       "      <td>1.34</td>\n",
       "      <td>3.924737e+08</td>\n",
       "      <td>1.652079</td>\n",
       "      <td>0</td>\n",
       "    </tr>\n",
       "    <tr>\n",
       "      <th>2018-01-22</th>\n",
       "      <td>1.34</td>\n",
       "      <td>1.44</td>\n",
       "      <td>1.1800</td>\n",
       "      <td>1.34</td>\n",
       "      <td>4.218936e+08</td>\n",
       "      <td>1.652079</td>\n",
       "      <td>0</td>\n",
       "    </tr>\n",
       "    <tr>\n",
       "      <th>2018-01-23</th>\n",
       "      <td>1.34</td>\n",
       "      <td>1.42</td>\n",
       "      <td>1.2900</td>\n",
       "      <td>1.36</td>\n",
       "      <td>2.457461e+08</td>\n",
       "      <td>1.689845</td>\n",
       "      <td>0</td>\n",
       "    </tr>\n",
       "    <tr>\n",
       "      <th>2018-01-24</th>\n",
       "      <td>1.36</td>\n",
       "      <td>1.38</td>\n",
       "      <td>1.2800</td>\n",
       "      <td>1.30</td>\n",
       "      <td>1.373741e+08</td>\n",
       "      <td>1.576546</td>\n",
       "      <td>0</td>\n",
       "    </tr>\n",
       "    <tr>\n",
       "      <th>2018-01-27</th>\n",
       "      <td>1.22</td>\n",
       "      <td>1.39</td>\n",
       "      <td>1.2200</td>\n",
       "      <td>1.36</td>\n",
       "      <td>1.609307e+08</td>\n",
       "      <td>1.689845</td>\n",
       "      <td>0</td>\n",
       "    </tr>\n",
       "    <tr>\n",
       "      <th>2018-01-28</th>\n",
       "      <td>1.36</td>\n",
       "      <td>1.37</td>\n",
       "      <td>1.2500</td>\n",
       "      <td>1.27</td>\n",
       "      <td>1.302385e+08</td>\n",
       "      <td>1.519896</td>\n",
       "      <td>0</td>\n",
       "    </tr>\n",
       "  </tbody>\n",
       "</table>\n",
       "</div>"
      ],
      "text/plain": [
       "            open  high     low  close        volume       std  new\n",
       "Date                                                              \n",
       "2017-12-27  1.21  1.31  1.1000   1.26  3.468453e+08  1.501013    0\n",
       "2017-12-28  1.26  1.97  1.2500   1.93  1.092825e+09  2.766190    0\n",
       "2017-12-29  1.93  2.44  1.7700   1.86  1.565229e+09  2.634007    0\n",
       "2017-12-30  1.86  2.09  1.6100   1.98  5.142730e+08  2.860606    0\n",
       "2017-12-31  1.98  2.09  1.8100   2.05  2.327574e+08  2.992789    0\n",
       "2018-01-01  2.05  2.21  1.8900   2.19  4.186053e+08  3.257155    0\n",
       "2018-01-02  2.19  2.85  2.1500   2.73  9.862508e+08  4.276850    0\n",
       "2018-01-03  2.73  3.29  2.5800   2.73  1.299128e+09  4.276850    0\n",
       "2018-01-04  2.73  3.05  2.2400   2.51  1.002020e+09  3.861418    0\n",
       "2018-01-05  2.51  2.85  2.4600   2.65  3.987366e+08  4.125784    0\n",
       "2018-01-06  2.65  2.82  2.5800   2.78  2.723596e+08  4.371266    0\n",
       "2018-01-07  2.78  2.78  1.9300   2.41  5.353534e+08  3.672586    0\n",
       "2018-01-08  2.41  2.50  1.9200   2.06  4.803163e+08  3.011672    0\n",
       "2018-01-09  2.06  2.13  1.6300   1.95  7.613970e+08  2.803957    0\n",
       "2018-01-10  1.95  2.24  1.5600   1.93  1.018948e+09  2.766190    0\n",
       "2018-01-11  1.93  2.16  1.8100   2.02  4.297155e+08  2.936139    0\n",
       "2018-01-12  2.02  2.10  1.9600   2.00  1.948448e+08  2.898373    0\n",
       "2018-01-13  2.00  2.00  1.7600   1.83  1.859091e+08  2.577358    0\n",
       "2018-01-14  1.83  1.88  1.6300   1.66  1.784521e+08  2.256342    0\n",
       "2018-01-16  1.15  1.38  0.8747   1.31  9.296654e+08  1.595429    0\n",
       "2018-01-17  1.31  1.73  1.2300   1.57  8.778588e+08  2.086393    0\n",
       "2018-01-18  1.57  1.68  1.4700   1.54  4.018717e+08  2.029743    0\n",
       "2018-01-19  1.54  1.63  1.4800   1.57  2.491608e+08  2.086393    0\n",
       "2018-01-20  1.57  1.57  1.3100   1.37  3.456417e+08  1.708728    0\n",
       "2018-01-21  1.37  1.42  1.1400   1.34  3.924737e+08  1.652079    0\n",
       "2018-01-22  1.34  1.44  1.1800   1.34  4.218936e+08  1.652079    0\n",
       "2018-01-23  1.34  1.42  1.2900   1.36  2.457461e+08  1.689845    0\n",
       "2018-01-24  1.36  1.38  1.2800   1.30  1.373741e+08  1.576546    0\n",
       "2018-01-27  1.22  1.39  1.2200   1.36  1.609307e+08  1.689845    0\n",
       "2018-01-28  1.36  1.37  1.2500   1.27  1.302385e+08  1.519896    0"
      ]
     },
     "execution_count": 46,
     "metadata": {},
     "output_type": "execute_result"
    }
   ],
   "source": [
    "xrp_outliers"
   ]
  },
  {
   "cell_type": "code",
   "execution_count": 47,
   "metadata": {},
   "outputs": [
    {
     "data": {
      "text/html": [
       "<div>\n",
       "<table border=\"1\" class=\"dataframe\">\n",
       "  <thead>\n",
       "    <tr style=\"text-align: right;\">\n",
       "      <th></th>\n",
       "      <th>open</th>\n",
       "      <th>high</th>\n",
       "      <th>low</th>\n",
       "      <th>close</th>\n",
       "      <th>volume</th>\n",
       "    </tr>\n",
       "    <tr>\n",
       "      <th>Date</th>\n",
       "      <th></th>\n",
       "      <th></th>\n",
       "      <th></th>\n",
       "      <th></th>\n",
       "      <th></th>\n",
       "    </tr>\n",
       "  </thead>\n",
       "  <tbody>\n",
       "    <tr>\n",
       "      <th>2012-09-28</th>\n",
       "      <td>12.39</td>\n",
       "      <td>12.49</td>\n",
       "      <td>12.21</td>\n",
       "      <td>12.36</td>\n",
       "      <td>211507.34</td>\n",
       "    </tr>\n",
       "    <tr>\n",
       "      <th>2012-09-29</th>\n",
       "      <td>12.36</td>\n",
       "      <td>12.45</td>\n",
       "      <td>12.30</td>\n",
       "      <td>12.40</td>\n",
       "      <td>96462.09</td>\n",
       "    </tr>\n",
       "    <tr>\n",
       "      <th>2012-09-30</th>\n",
       "      <td>12.40</td>\n",
       "      <td>12.48</td>\n",
       "      <td>12.32</td>\n",
       "      <td>12.40</td>\n",
       "      <td>307618.78</td>\n",
       "    </tr>\n",
       "    <tr>\n",
       "      <th>2012-10-01</th>\n",
       "      <td>12.40</td>\n",
       "      <td>12.88</td>\n",
       "      <td>12.34</td>\n",
       "      <td>12.84</td>\n",
       "      <td>642027.91</td>\n",
       "    </tr>\n",
       "    <tr>\n",
       "      <th>2012-10-02</th>\n",
       "      <td>12.84</td>\n",
       "      <td>12.99</td>\n",
       "      <td>12.68</td>\n",
       "      <td>12.89</td>\n",
       "      <td>422995.61</td>\n",
       "    </tr>\n",
       "  </tbody>\n",
       "</table>\n",
       "</div>"
      ],
      "text/plain": [
       "             open   high    low  close     volume\n",
       "Date                                             \n",
       "2012-09-28  12.39  12.49  12.21  12.36  211507.34\n",
       "2012-09-29  12.36  12.45  12.30  12.40   96462.09\n",
       "2012-09-30  12.40  12.48  12.32  12.40  307618.78\n",
       "2012-10-01  12.40  12.88  12.34  12.84  642027.91\n",
       "2012-10-02  12.84  12.99  12.68  12.89  422995.61"
      ]
     },
     "execution_count": 47,
     "metadata": {},
     "output_type": "execute_result"
    }
   ],
   "source": [
    "btc = df_dict_crypto['BTC']\n",
    "btc.head()"
   ]
  },
  {
   "cell_type": "code",
   "execution_count": 48,
   "metadata": {},
   "outputs": [
    {
     "data": {
      "text/plain": [
       "datetime.date(2012, 10, 7)"
      ]
     },
     "execution_count": 48,
     "metadata": {},
     "output_type": "execute_result"
    }
   ],
   "source": [
    "start_date = btc.index[btc.volume > 1000000].tolist()[0]\n",
    "start_date"
   ]
  },
  {
   "cell_type": "code",
   "execution_count": 49,
   "metadata": {},
   "outputs": [
    {
     "data": {
      "text/plain": [
       "open          12.39\n",
       "high          12.49\n",
       "low           12.21\n",
       "close         12.36\n",
       "volume    211507.34\n",
       "Name: 2012-09-28, dtype: float64"
      ]
     },
     "execution_count": 49,
     "metadata": {},
     "output_type": "execute_result"
    }
   ],
   "source": [
    "btc.iloc[0]"
   ]
  },
  {
   "cell_type": "code",
   "execution_count": 50,
   "metadata": {},
   "outputs": [
    {
     "name": "stdout",
     "output_type": "stream",
     "text": [
      "2001 1992\n"
     ]
    }
   ],
   "source": [
    "print(len(btc), len(btc[start_date:]))"
   ]
  },
  {
   "cell_type": "code",
   "execution_count": 51,
   "metadata": {
    "collapsed": true
   },
   "outputs": [],
   "source": [
    "def clean_df_crypto(df, volume_thresh=1000000):\n",
    "    ''' This function takes in a dataframe and a volume threshold and returns a filtered\n",
    "        dataframe from the first data point that achieves the threshold.  This is written\n",
    "        to be used specifically with the cryptocurrency dataframes. \n",
    "        \n",
    "        Args: df - dataframe to be filtered on volume\n",
    "              volume_thresh - min volume to reach before using data in the dataframe\n",
    "              \n",
    "        Return df - the filtered dataframe with only points after the volume threshold is hit\n",
    "    '''\n",
    "    # Find start_date and filter df\n",
    "    start_date = df.index[df.volume > volume_thresh].tolist()[0]\n",
    "    df = df[start_date:]\n",
    "    \n",
    "    return df"
   ]
  },
  {
   "cell_type": "code",
   "execution_count": 54,
   "metadata": {},
   "outputs": [
    {
     "data": {
      "text/plain": [
       "[2001, 2001, 2001, 2001, 2001, 2001, 2001, 2001, 2001, 2001]"
      ]
     },
     "execution_count": 54,
     "metadata": {},
     "output_type": "execute_result"
    }
   ],
   "source": [
    "data_crypto = [len(df) for sym, df in df_dict_crypto.items()]\n",
    "data_crypto"
   ]
  },
  {
   "cell_type": "code",
   "execution_count": 55,
   "metadata": {},
   "outputs": [
    {
     "data": {
      "text/plain": [
       "[1992, 748, 364, 234, 1272, 83, 230, 322, 264, 378]"
      ]
     },
     "execution_count": 55,
     "metadata": {},
     "output_type": "execute_result"
    }
   ],
   "source": [
    "data_crypto_cleaned = [len(clean_df_crypto(df)) for sym, df in df_dict_crypto.items()]\n",
    "data_crypto_cleaned"
   ]
  },
  {
   "cell_type": "code",
   "execution_count": 59,
   "metadata": {
    "collapsed": true
   },
   "outputs": [],
   "source": [
    "conn = sqlite3.connect(sqlite_file)\n",
    "c = conn.cursor()\n",
    "\n",
    "c.execute(\"DELETE FROM Symbols\")\n",
    "\n",
    "conn.commit()\n",
    "conn.close()"
   ]
  },
  {
   "cell_type": "code",
   "execution_count": 125,
   "metadata": {
    "collapsed": true
   },
   "outputs": [],
   "source": [
    "def check_outliers(df):\n",
    "    ''' This function finds all closing price points that are more than 3 stds away from\n",
    "        the mean and plots them on a line graph of all the data.  This can be used to see\n",
    "        if these points are truly outliers.\n",
    "        \n",
    "        Args: df - dataframe to be checked for outliers\n",
    "        \n",
    "        Return: None - shows a graph of the price data series with annotations for outliers\n",
    "    '''\n",
    "    # Create range of values that are more than 3 stds away from mean\n",
    "    df['stds_from_mean'] = ((df['close'] - df['close'].mean()).apply(abs)) / df['close'].std()\n",
    "    locs_gt_3std = [df.index.get_loc(x) for x in df.index[df['stds_from_mean'] > 3.0]]\n",
    "    \n",
    "    # Plot the price data, highlighting the outliers\n",
    "    plt.figure(figsize=(15,10))\n",
    "    plt.plot(df.index, df.close, linestyle='solid', markevery=locs_gt_3std,\n",
    "                marker='o', markerfacecolor='r', label='Outliers')\n",
    "    \n",
    "    # Apply title, legend and labels\n",
    "    plt.title('Closing Prices')\n",
    "    plt.xlabel('Date')\n",
    "    plt.ylabel('Price')\n",
    "    plt.legend()\n",
    "    plt.grid()\n",
    "    \n",
    "    plt.show()\n",
    "    \n",
    "    # Print out description\n",
    "    print('Number of data points: {}'.format(len(df.index)))\n",
    "    print('Number of outliers: {}'.format(len(locs_gt_3std)))"
   ]
  },
  {
   "cell_type": "code",
   "execution_count": 61,
   "metadata": {},
   "outputs": [
    {
     "data": {
      "text/html": [
       "<div>\n",
       "<table border=\"1\" class=\"dataframe\">\n",
       "  <thead>\n",
       "    <tr style=\"text-align: right;\">\n",
       "      <th></th>\n",
       "      <th>open</th>\n",
       "      <th>high</th>\n",
       "      <th>low</th>\n",
       "      <th>close</th>\n",
       "      <th>volume</th>\n",
       "    </tr>\n",
       "    <tr>\n",
       "      <th>Date</th>\n",
       "      <th></th>\n",
       "      <th></th>\n",
       "      <th></th>\n",
       "      <th></th>\n",
       "      <th></th>\n",
       "    </tr>\n",
       "  </thead>\n",
       "  <tbody>\n",
       "    <tr>\n",
       "      <th>2012-10-07</th>\n",
       "      <td>11.80</td>\n",
       "      <td>11.95</td>\n",
       "      <td>10.62</td>\n",
       "      <td>11.78</td>\n",
       "      <td>1102329.22</td>\n",
       "    </tr>\n",
       "    <tr>\n",
       "      <th>2012-10-08</th>\n",
       "      <td>11.78</td>\n",
       "      <td>12.35</td>\n",
       "      <td>11.57</td>\n",
       "      <td>11.90</td>\n",
       "      <td>559694.91</td>\n",
       "    </tr>\n",
       "    <tr>\n",
       "      <th>2012-10-09</th>\n",
       "      <td>11.90</td>\n",
       "      <td>12.19</td>\n",
       "      <td>11.77</td>\n",
       "      <td>12.12</td>\n",
       "      <td>333351.59</td>\n",
       "    </tr>\n",
       "    <tr>\n",
       "      <th>2012-10-10</th>\n",
       "      <td>12.12</td>\n",
       "      <td>12.15</td>\n",
       "      <td>11.86</td>\n",
       "      <td>12.03</td>\n",
       "      <td>238483.07</td>\n",
       "    </tr>\n",
       "    <tr>\n",
       "      <th>2012-10-11</th>\n",
       "      <td>12.03</td>\n",
       "      <td>12.15</td>\n",
       "      <td>11.92</td>\n",
       "      <td>12.00</td>\n",
       "      <td>259522.53</td>\n",
       "    </tr>\n",
       "  </tbody>\n",
       "</table>\n",
       "</div>"
      ],
      "text/plain": [
       "             open   high    low  close      volume\n",
       "Date                                              \n",
       "2012-10-07  11.80  11.95  10.62  11.78  1102329.22\n",
       "2012-10-08  11.78  12.35  11.57  11.90   559694.91\n",
       "2012-10-09  11.90  12.19  11.77  12.12   333351.59\n",
       "2012-10-10  12.12  12.15  11.86  12.03   238483.07\n",
       "2012-10-11  12.03  12.15  11.92  12.00   259522.53"
      ]
     },
     "execution_count": 61,
     "metadata": {},
     "output_type": "execute_result"
    }
   ],
   "source": [
    "btc = btc[start_date:]\n",
    "btc.head()"
   ]
  },
  {
   "cell_type": "code",
   "execution_count": 107,
   "metadata": {},
   "outputs": [
    {
     "data": {
      "text/plain": [
       "[284, 285, 286, 287, 288, 289, 290, 291]"
      ]
     },
     "execution_count": 107,
     "metadata": {},
     "output_type": "execute_result"
    }
   ],
   "source": [
    "locs = [xrp_cleaned.index.get_loc(x) for x in xrp_cleaned.index[xrp_cleaned['std'] > 3.0]]\n",
    "locs"
   ]
  },
  {
   "cell_type": "code",
   "execution_count": 117,
   "metadata": {},
   "outputs": [
    {
     "data": {
      "image/png": "[encoded data removed]",
      "text/plain": [
       "<matplotlib.figure.Figure at 0x11c2e0320>"
      ]
     },
     "metadata": {},
     "output_type": "display_data"
    }
   ],
   "source": [
    "plt.figure(figsize=(15,10))\n",
    "           \n",
    "plt.plot(xrp_cleaned.index, xrp_cleaned.close, linestyle='solid', markevery=locs,\n",
    "         marker='o', markerfacecolor='r', label='Outliers')\n",
    "\n",
    "plt.title('XRP\\nClosing Prices')\n",
    "plt.xlabel('Date')\n",
    "plt.ylabel('Price')\n",
    "plt.legend()\n",
    "\n",
    "plt.grid()\n",
    "plt.show()"
   ]
  },
  {
   "cell_type": "code",
   "execution_count": 119,
   "metadata": {},
   "outputs": [
    {
     "data": {
      "text/html": [
       "<div>\n",
       "<table border=\"1\" class=\"dataframe\">\n",
       "  <thead>\n",
       "    <tr style=\"text-align: right;\">\n",
       "      <th></th>\n",
       "      <th>open</th>\n",
       "      <th>high</th>\n",
       "      <th>low</th>\n",
       "      <th>close</th>\n",
       "      <th>volume</th>\n",
       "    </tr>\n",
       "    <tr>\n",
       "      <th>Date</th>\n",
       "      <th></th>\n",
       "      <th></th>\n",
       "      <th></th>\n",
       "      <th></th>\n",
       "      <th></th>\n",
       "    </tr>\n",
       "  </thead>\n",
       "  <tbody>\n",
       "    <tr>\n",
       "      <th>2012-10-07</th>\n",
       "      <td>11.80</td>\n",
       "      <td>11.95</td>\n",
       "      <td>10.62</td>\n",
       "      <td>11.78</td>\n",
       "      <td>1102329.22</td>\n",
       "    </tr>\n",
       "    <tr>\n",
       "      <th>2012-10-08</th>\n",
       "      <td>11.78</td>\n",
       "      <td>12.35</td>\n",
       "      <td>11.57</td>\n",
       "      <td>11.90</td>\n",
       "      <td>559694.91</td>\n",
       "    </tr>\n",
       "    <tr>\n",
       "      <th>2012-10-09</th>\n",
       "      <td>11.90</td>\n",
       "      <td>12.19</td>\n",
       "      <td>11.77</td>\n",
       "      <td>12.12</td>\n",
       "      <td>333351.59</td>\n",
       "    </tr>\n",
       "    <tr>\n",
       "      <th>2012-10-10</th>\n",
       "      <td>12.12</td>\n",
       "      <td>12.15</td>\n",
       "      <td>11.86</td>\n",
       "      <td>12.03</td>\n",
       "      <td>238483.07</td>\n",
       "    </tr>\n",
       "    <tr>\n",
       "      <th>2012-10-11</th>\n",
       "      <td>12.03</td>\n",
       "      <td>12.15</td>\n",
       "      <td>11.92</td>\n",
       "      <td>12.00</td>\n",
       "      <td>259522.53</td>\n",
       "    </tr>\n",
       "  </tbody>\n",
       "</table>\n",
       "</div>"
      ],
      "text/plain": [
       "             open   high    low  close      volume\n",
       "Date                                              \n",
       "2012-10-07  11.80  11.95  10.62  11.78  1102329.22\n",
       "2012-10-08  11.78  12.35  11.57  11.90   559694.91\n",
       "2012-10-09  11.90  12.19  11.77  12.12   333351.59\n",
       "2012-10-10  12.12  12.15  11.86  12.03   238483.07\n",
       "2012-10-11  12.03  12.15  11.92  12.00   259522.53"
      ]
     },
     "execution_count": 119,
     "metadata": {},
     "output_type": "execute_result"
    }
   ],
   "source": [
    "btc.head()"
   ]
  },
  {
   "cell_type": "code",
   "execution_count": 120,
   "metadata": {},
   "outputs": [
    {
     "name": "stderr",
     "output_type": "stream",
     "text": [
      "/Users/Frank/anaconda3/lib/python3.6/site-packages/ipykernel_launcher.py:11: SettingWithCopyWarning: \n",
      "A value is trying to be set on a copy of a slice from a DataFrame.\n",
      "Try using .loc[row_indexer,col_indexer] = value instead\n",
      "\n",
      "See the caveats in the documentation: http://pandas.pydata.org/pandas-docs/stable/indexing.html#indexing-view-versus-copy\n",
      "  # This is added back by InteractiveShellApp.init_path()\n"
     ]
    },
    {
     "data": {
      "image/png": "[encoded data removed]",
      "text/plain": [
       "<matplotlib.figure.Figure at 0x11c170630>"
      ]
     },
     "metadata": {},
     "output_type": "display_data"
    }
   ],
   "source": [
    "check_outliers(btc)"
   ]
  },
  {
   "cell_type": "code",
   "execution_count": 121,
   "metadata": {},
   "outputs": [
    {
     "data": {
      "image/png": "[encoded data removed]",
      "text/plain": [
       "<matplotlib.figure.Figure at 0x11c1cb320>"
      ]
     },
     "metadata": {},
     "output_type": "display_data"
    }
   ],
   "source": [
    "check_outliers(df_dict_crypto['XMR'])"
   ]
  },
  {
   "cell_type": "code",
   "execution_count": 123,
   "metadata": {},
   "outputs": [
    {
     "data": {
      "text/html": [
       "<div>\n",
       "<table border=\"1\" class=\"dataframe\">\n",
       "  <thead>\n",
       "    <tr style=\"text-align: right;\">\n",
       "      <th></th>\n",
       "      <th>open</th>\n",
       "      <th>high</th>\n",
       "      <th>low</th>\n",
       "      <th>close</th>\n",
       "      <th>volume</th>\n",
       "    </tr>\n",
       "    <tr>\n",
       "      <th>Date</th>\n",
       "      <th></th>\n",
       "      <th></th>\n",
       "      <th></th>\n",
       "      <th></th>\n",
       "      <th></th>\n",
       "    </tr>\n",
       "  </thead>\n",
       "  <tbody>\n",
       "    <tr>\n",
       "      <th>2017-03-09</th>\n",
       "      <td>13.10</td>\n",
       "      <td>13.62</td>\n",
       "      <td>12.15</td>\n",
       "      <td>13.03</td>\n",
       "      <td>1169823.65</td>\n",
       "    </tr>\n",
       "    <tr>\n",
       "      <th>2017-03-10</th>\n",
       "      <td>13.03</td>\n",
       "      <td>14.64</td>\n",
       "      <td>12.97</td>\n",
       "      <td>14.64</td>\n",
       "      <td>692636.89</td>\n",
       "    </tr>\n",
       "    <tr>\n",
       "      <th>2017-03-11</th>\n",
       "      <td>14.64</td>\n",
       "      <td>17.02</td>\n",
       "      <td>14.24</td>\n",
       "      <td>16.90</td>\n",
       "      <td>1944906.60</td>\n",
       "    </tr>\n",
       "    <tr>\n",
       "      <th>2017-03-12</th>\n",
       "      <td>16.90</td>\n",
       "      <td>19.47</td>\n",
       "      <td>16.11</td>\n",
       "      <td>18.49</td>\n",
       "      <td>2011183.69</td>\n",
       "    </tr>\n",
       "    <tr>\n",
       "      <th>2017-03-13</th>\n",
       "      <td>18.49</td>\n",
       "      <td>18.50</td>\n",
       "      <td>17.01</td>\n",
       "      <td>17.41</td>\n",
       "      <td>972535.54</td>\n",
       "    </tr>\n",
       "  </tbody>\n",
       "</table>\n",
       "</div>"
      ],
      "text/plain": [
       "             open   high    low  close      volume\n",
       "Date                                              \n",
       "2017-03-09  13.10  13.62  12.15  13.03  1169823.65\n",
       "2017-03-10  13.03  14.64  12.97  14.64   692636.89\n",
       "2017-03-11  14.64  17.02  14.24  16.90  1944906.60\n",
       "2017-03-12  16.90  19.47  16.11  18.49  2011183.69\n",
       "2017-03-13  18.49  18.50  17.01  17.41   972535.54"
      ]
     },
     "execution_count": 123,
     "metadata": {},
     "output_type": "execute_result"
    }
   ],
   "source": [
    "xmr = df_dict_crypto['XMR']\n",
    "xmr = clean_df_crypto(xmr)\n",
    "xmr.head()"
   ]
  },
  {
   "cell_type": "code",
   "execution_count": 126,
   "metadata": {},
   "outputs": [
    {
     "name": "stderr",
     "output_type": "stream",
     "text": [
      "/Users/Frank/anaconda3/lib/python3.6/site-packages/ipykernel_launcher.py:11: SettingWithCopyWarning: \n",
      "A value is trying to be set on a copy of a slice from a DataFrame.\n",
      "Try using .loc[row_indexer,col_indexer] = value instead\n",
      "\n",
      "See the caveats in the documentation: http://pandas.pydata.org/pandas-docs/stable/indexing.html#indexing-view-versus-copy\n",
      "  # This is added back by InteractiveShellApp.init_path()\n"
     ]
    },
    {
     "data": {
      "image/png": "[encoded data removed]",
      "text/plain": [
       "<matplotlib.figure.Figure at 0x10e580080>"
      ]
     },
     "metadata": {},
     "output_type": "display_data"
    },
    {
     "name": "stdout",
     "output_type": "stream",
     "text": [
      "Number of data points: 379\n",
      "Number of outliers: 0\n"
     ]
    }
   ],
   "source": [
    "check_outliers(xmr)"
   ]
  },
  {
   "cell_type": "code",
   "execution_count": 127,
   "metadata": {
    "collapsed": true
   },
   "outputs": [],
   "source": [
    "ltc = df_dict_crypto['LTC']\n",
    "ltc = clean_df_crypto(ltc)"
   ]
  },
  {
   "cell_type": "code",
   "execution_count": 128,
   "metadata": {},
   "outputs": [
    {
     "name": "stderr",
     "output_type": "stream",
     "text": [
      "/Users/Frank/anaconda3/lib/python3.6/site-packages/ipykernel_launcher.py:11: SettingWithCopyWarning: \n",
      "A value is trying to be set on a copy of a slice from a DataFrame.\n",
      "Try using .loc[row_indexer,col_indexer] = value instead\n",
      "\n",
      "See the caveats in the documentation: http://pandas.pydata.org/pandas-docs/stable/indexing.html#indexing-view-versus-copy\n",
      "  # This is added back by InteractiveShellApp.init_path()\n"
     ]
    },
    {
     "data": {
      "image/png": "[encoded data removed]",
      "text/plain": [
       "<matplotlib.figure.Figure at 0x10ed4fba8>"
      ]
     },
     "metadata": {},
     "output_type": "display_data"
    },
    {
     "name": "stdout",
     "output_type": "stream",
     "text": [
      "Number of data points: 1273\n",
      "Number of outliers: 53\n"
     ]
    }
   ],
   "source": [
    "check_outliers(ltc)"
   ]
  },
  {
   "cell_type": "code",
   "execution_count": null,
   "metadata": {
    "collapsed": true
   },
   "outputs": [],
   "source": []
  }
 ],
 "metadata": {
  "kernelspec": {
   "display_name": "Python 3",
   "language": "python",
   "name": "python3"
  },
  "language_info": {
   "codemirror_mode": {
    "name": "ipython",
    "version": 3
   },
   "file_extension": ".py",
   "mimetype": "text/x-python",
   "name": "python",
   "nbconvert_exporter": "python",
   "pygments_lexer": "ipython3",
   "version": "3.6.3"
  }
 },
 "nbformat": 4,
 "nbformat_minor": 2
}
